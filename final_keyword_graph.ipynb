{
 "cells": [
  {
   "cell_type": "code",
   "execution_count": 1,
   "id": "2e804e1f",
   "metadata": {},
   "outputs": [],
   "source": [
    "keywords = ['murder', 'robbery', 'assault', 'theft', 'burglary', 'arson', 'fraud', 'embezzlement', 'forgery', 'extortion', 'kidnapping', 'stalking', 'harassment', 'manslaughter', 'homicide', 'drug', 'conspiracy', 'terrorism', 'rape', 'sexual', 'domestic voilence', 'vandalism', 'child abuse', 'abduction', 'racketeering', 'money laundering', 'smuggling', 'public corruption', 'bribery', 'perjury', 'obstruction', 'blackmail', 'espionage', 'cybercrime', 'identity theft', 'assassination', 'human trafficking', 'prostitution', 'imprisonment', 'trespassing', 'explosives', 'guns', 'weapons', 'armed', 'hijacking', 'carjacking', 'counterfeiting', 'bootlegging', 'hacking', 'ponzi', 'insider trading', 'insolvency', 'kickback', 'bank mortgage', 'copyright infringement', 'misappropriation', 'arrest', 'police brutality', 'testimony', 'drunk and drive', 'hit and run', 'contract', 'tort', 'liability', 'breach', 'defamation', 'injunction', 'remedy', 'compensation', 'arbitration', 'mediation', 'settlement', 'evidence deposition', 'interrogatory', 'pleading',   'frauds', 'fraudulent', 'conveyance', 'real estate', 'construction', 'intellectual property', 'trademark', 'patent infringement', 'trade secret', 'consumer protection', 'malpractice', 'personal injury', 'wrongful', 'death', 'discrimination', 'retaliation', 'whistleblower', 'non disclosure', 'shareholder', 'business dissolution', 'bankruptcy', 'debt collection', 'foreclosure', 'immigration', 'probate', 'divorce', 'child custody', 'alimony', 'adoption', 'surrogacy', 'property', 'easement', 'zoning', 'hoa', 'landlord tenant', 'eviction', 'internet', 'online defamation', 'cyberbullying', 'privacy violation', 'data breach', 'socialmedia fraud', 'maritime', 'aviation', 'insurance', 'reinsurance', 'recall franchise', 'accomplice', 'acquittal', 'aggravated assault', 'alibi', 'arraignment', 'bail', 'capital punishment', 'conviction', 'corpus delicti', 'criminal intent', 'double jeopardy', 'exculpatory evidence', 'extradition', 'felony', 'habeas corpus', 'indictment', 'infraction', 'insanity defense', 'jail', 'larceny', 'mistrial', 'probation', 'search warrant',  'subpoena', 'voir dire', 'wiretap', 'wrongful death', 'zero tolerance policy', 'premeditated', 'intentional', 'accidental',  'weapon', 'strangulation', 'asphyxiation', 'stabbing', 'shooting', 'poisoning', 'blunt force trauma', 'forensic evidence', 'autopsy', 'blood spatter', 'confession', 'premeditation', 'first-degree murder', 'second-degree murder', 'felony murder', 'attempted murder', 'self defense', 'justifiable homicide', 'mental illness', 'provocation', 'heat of passion', 'death penalty', 'life imprisonment']"
   ]
  },
  {
   "cell_type": "code",
   "execution_count": 2,
   "id": "1440fb34",
   "metadata": {},
   "outputs": [],
   "source": [
    "case_dict = {\n",
    "    1 : ['murder', 'homicide', 'arrest', 'death', 'property', 'conviction', 'intentional', 'premeditation', 'provocation', 'heat of passion', 'testimony', 'liability', 'shooting'],\n",
    "    2:['conspiracy', 'arrest', 'conviction', 'confession'],\n",
    "    3:['construction'],\n",
    "    4:['murder', 'conspiracy', 'arrest'],\n",
    "    5:['death'],\n",
    "    6:['imprisonment', 'death', 'conviction', 'jail', 'death penalty', 'arrest', 'life imprisonment'],\n",
    "    7:['murder', 'imprisonment', 'guns', 'weapons', 'armed', 'arrest', 'testimony', 'contract', 'liability', 'acquittal', 'conviction', 'jail', 'accidental', 'weapon', 'life imprisonment', 'tort', 'death'],\n",
    "    8:['imprisonment', 'death', 'conviction', 'confession'],\n",
    "    9:['murder', 'assault', 'imprisonment', 'testimony', 'compensation', 'wrongful', 'death', 'acquittal', 'conviction', 'weapon', 'confession', 'arrest', 'breach', 'pleading'],\n",
    "    10:['death', 'bail', 'conviction'],\n",
    "    11:['murder', 'imprisonment', 'bail', 'conviction', 'weapon', 'life imprisonment', 'death', 'confession'],\n",
    "    12:['rape', 'sexual', 'death', 'property', 'arrest', 'testimony', 'conviction', 'death penalty'],\n",
    "    13:['murder', 'fraud', 'rape', 'acquittal', 'bail', 'conviction', 'probation', 'arrest', 'settlement', 'fraudulent'],\n",
    "    14:['murder', 'rape', 'settlement', 'adoption', 'conviction'],\n",
    "    15:['death', 'bail', 'murder', 'conviction'],\n",
    "    16:['testimony', 'acquittal'],\n",
    "    17:['weapon', 'murder', 'homicide', 'death', 'conviction', 'premeditation', 'heat of passion'],\n",
    "    18:['murder', 'death', 'conviction'],\n",
    "    19:['assault', 'jail', 'weapon', 'death', 'conviction'],\n",
    "    20:['imprisonment', 'guns', 'weapons', 'testimony', 'conviction', 'weapon', 'life imprisonment', 'arrest', 'bail'],\n",
    "    21:['murder', 'imprisonment', 'testimony', 'death', 'acquittal', 'alibi', 'conviction', 'intentional'],\n",
    "    22:['murder', 'imprisonment', 'weapons', 'armed', 'death', 'acquittal', 'conviction', 'weapon', 'assault'],\n",
    "    23:['testimony', 'conviction', 'bail'],\n",
    "    24:['compensation'],\n",
    "    25:['murder', 'homicide', 'imprisonment', 'death', 'retaliation', 'premeditation', 'provocation', 'heat of passion', 'assault', 'confession'],\n",
    "    26:['assault', 'armed', 'death', 'acquittal', 'bail', 'accidental', 'murder'],\n",
    "    27:['murder', 'assault', 'homicide', 'arrest', 'death', 'conviction'],\n",
    "    28:['arrest', 'weapon', 'imprisonment', 'testimony', 'death', 'conviction'],\n",
    "    29:['murder', 'assault', 'imprisonment', 'acquittal', 'conviction', 'weapon', 'life imprisonment', 'death'],\n",
    "    30:['sexual', 'arrest', 'bail', 'conviction', 'jail', 'probation', 'confession', 'assault', 'remedy'],\n",
    "    31:['liability', 'bail'],\n",
    "    32:['breach', 'remedy', 'insolvency', 'liability'],\n",
    "    33:['fraud', 'forgery', 'liability', 'property', 'conviction', 'weapon', 'imprisonment', 'fraudulent'],\n",
    "    34:['contract', 'discrimination'],\n",
    "    35:['contract', 'construction'],\n",
    "    36:['contract', 'liability', 'discrimination', 'insurance', 'construction'],\n",
    "    37:['liability', 'construction', 'property'],\n",
    "    38:['property', 'construction'],\n",
    "    39:['breach', 'construction', 'shareholder', 'property'],\n",
    "    40:['insolvency', 'liability', 'remedy', 'arbitration', 'consumer protection'],\n",
    "    41:['insolvency', 'liability', 'remedy', 'arbitration', 'consumer protection', 'insider trading', 'property'],\n",
    "    42:['injunction', 'pleading', 'construction', 'property'],\n",
    "    43:['contract', 'breach', 'compensation', 'settlement', 'death', 'probate'],\n",
    "    44:['liability', 'remedy', 'property', 'conveyance'],\n",
    "    45:['property'],\n",
    "    46:['liability', 'property'],\n",
    "    47:['injunction', 'wrongful', 'property', 'fraud', 'insolvency', 'fraudulent'],\n",
    "    48:['fraud', 'fraudulent', 'property'],\n",
    "    49:['breach', 'remedy', 'shareholder'],\n",
    "    50:['liability', 'settlement', 'property']\n",
    "}"
   ]
  },
  {
   "cell_type": "code",
   "execution_count": 3,
   "id": "ca8d4286",
   "metadata": {},
   "outputs": [],
   "source": [
    "date_dict = {\n",
    "    1:\"24/01/2023\",\n",
    "    2:\"19/01/2023\",\n",
    "    3:\"16/01/2013\",\n",
    "    4:\"29/11/2022\",\n",
    "    5:\"11/10/2019\",\n",
    "    6:\"04/11/2022\",\n",
    "    7:\"04/11/2022\",\n",
    "    8:\"03/11/2022\",\n",
    "    9:\"13/10/2022\",\n",
    "    10:\"30/09/2022\",\n",
    "    11:\"30/09/2022\",\n",
    "    12:\"28/09/2022\",\n",
    "    13:\"26/09/2022\",\n",
    "    14:\"08/09/2022\",\n",
    "    15:\"30/09/2022\",\n",
    "    16:\"22/02/2008\",\n",
    "    17:\"13/09/2022\",\n",
    "    18:\"08/09/2022\",\n",
    "    19:\"04/12/2018\",\n",
    "    20:\"26/08/2022\",\n",
    "    21:\"16/08/2022\",\n",
    "    22:\"10/08/2022\",\n",
    "    23:\"04/08/2022\",\n",
    "    24:\"04/08/2022\",\n",
    "    25:\"02/08/2022\",\n",
    "    26:\"21/12/2017\",\n",
    "    27:\"26/07/2022\",\n",
    "    28:\"15/07/2022\",\n",
    "    29:\"14/07/2022\",\n",
    "    30:\"13/07/2022\",\n",
    "    31:\"05/01/2023\",\n",
    "    32:\"10/11/2022\",\n",
    "    33:\"09/11/2022\",\n",
    "    34:\"04/11/2022\",\n",
    "    35:\"13/10/2022\",\n",
    "    36:\"12/10/2022\",\n",
    "    37:\"26/09/2022\",\n",
    "    38:\"27/07/2022\",\n",
    "    39:\"11/07/2022\",\n",
    "    40:\"30/05/2022\",\n",
    "    41:\"19/04/2022\",\n",
    "    42:\"25/02/2022\",\n",
    "    43:\"17/12/2002\",\n",
    "    44:\"24/02/2022\",\n",
    "    45:\"30/01/2023\",\n",
    "    46:\"10/02/2022\",\n",
    "    47:\"09/01/2001\",\n",
    "    48:\"03/01/2022\",\n",
    "    49:\"23/09/2022\",\n",
    "    50:\"15/12/2021\",\n",
    "}"
   ]
  },
  {
   "cell_type": "code",
   "execution_count": 4,
   "id": "d6f55f5c",
   "metadata": {},
   "outputs": [],
   "source": [
    "url_dict = {\n",
    "    1:\"https://indiankanoon.org/doc/181390592/\",\n",
    "    2:\"https://indiankanoon.org/doc/11031655/\",\n",
    "    3:\"https://indiankanoon.org/doc/135483272/\",\n",
    "    4:\"https://indiankanoon.org/doc/35369210/\",\n",
    "    5:\"https://indiankanoon.org/doc/6630919/\",\n",
    "    6:\"https://indiankanoon.org/doc/92848576/\",\n",
    "    7:\"https://indiankanoon.org/doc/96029107/\",\n",
    "    8:\"https://indiankanoon.org/doc/181479873/\",\n",
    "    9:\"https://indiankanoon.org/doc/40567046/\",\n",
    "    10:\"https://indiankanoon.org/doc/138799849/\",\n",
    "    11:\"https://indiankanoon.org/doc/41593952/\",\n",
    "    12:\"https://indiankanoon.org/doc/12892785/\",\n",
    "    13:\"https://indiankanoon.org/doc/180754234/\",\n",
    "    14:\"https://indiankanoon.org/doc/78040461/\",\n",
    "    15:\"https://indiankanoon.org/doc/138799849/\",\n",
    "    16:\"https://indiankanoon.org/doc/1826950/\",\n",
    "    17:\"https://indiankanoon.org/doc/125567597/\",\n",
    "    18:\"https://indiankanoon.org/doc/146781461/\",\n",
    "    19:\"https://indiankanoon.org/doc/127541907/\",\n",
    "    20:\"https://indiankanoon.org/doc/46005363/\",\n",
    "    21:\"https://indiankanoon.org/doc/89711535/\",\n",
    "    22:\"https://indiankanoon.org/doc/63074812/\",\n",
    "    23:\"https://indiankanoon.org/doc/169879755/\",\n",
    "    24:\"https://indiankanoon.org/doc/6802571/\",\n",
    "    25:\"https://indiankanoon.org/doc/79355646/\",\n",
    "    26:\"https://indiankanoon.org/doc/155801566/\",\n",
    "    27:\"https://indiankanoon.org/doc/18463013/\",\n",
    "    28:\"https://indiankanoon.org/doc/153686042/\",\n",
    "    29:\"https://indiankanoon.org/doc/69348944/\",\n",
    "    30:\"https://indiankanoon.org/doc/34328129/\",\n",
    "    31:\"https://indiankanoon.org/doc/183036727/\",\n",
    "    32:\"https://indiankanoon.org/doc/85481828/\",\n",
    "    33:\"https://indiankanoon.org/doc/73650192/\",\n",
    "    34:\"https://indiankanoon.org/doc/107039765/\",\n",
    "    35:\"https://indiankanoon.org/doc/27787489/\",\n",
    "    36:\"https://indiankanoon.org/doc/112342327/\",\n",
    "    37:\"https://indiankanoon.org/doc/90970000/\",\n",
    "    38:\"https://indiankanoon.org/doc/105325803/\",\n",
    "    39:\"https://indiankanoon.org/doc/2808049/\",\n",
    "    40:\"https://indiankanoon.org/doc/54860909/\",\n",
    "    41:\"https://indiankanoon.org/doc/117920753/\",\n",
    "    42:\"https://indiankanoon.org/doc/129557920/\",\n",
    "    43:\"https://indiankanoon.org/doc/320068/\",\n",
    "    44:\"https://indiankanoon.org/doc/122842801/\",\n",
    "    45:\"https://indiankanoon.org/doc/29023420/\",\n",
    "    46:\"https://indiankanoon.org/doc/169347536/\",\n",
    "    47:\"https://indiankanoon.org/doc/351234/\",\n",
    "    48:\"https://indiankanoon.org/doc/144120836/\",\n",
    "    49:\"https://indiankanoon.org/doc/14915203/\",\n",
    "    50:\"https://indiankanoon.org/doc/71781540/\"\n",
    "}"
   ]
  },
  {
   "cell_type": "code",
   "execution_count": 5,
   "id": "7e80a756",
   "metadata": {},
   "outputs": [],
   "source": [
    "from py2neo import Graph,Node,Relationship\n",
    "dbURL = \"bolt://localhost:7687\"\n",
    "keywordGraph = Graph(dbURL,auth=(\"neo4j\", \"password\"))\n"
   ]
  },
  {
   "cell_type": "code",
   "execution_count": null,
   "id": "6054c311",
   "metadata": {},
   "outputs": [],
   "source": [
    "neo4j_delete_statement = \"MATCH(n) DETACH DELETE n\"\n",
    "keywordGraph.run(neo4j_delete_statement)"
   ]
  },
  {
   "cell_type": "code",
   "execution_count": 7,
   "id": "904b03db",
   "metadata": {},
   "outputs": [],
   "source": [
    "for i in range(0,len(case_dict)):\n",
    "    statement_command = \"create (\" + \"c:CASE{number:\" + str(i+1) + \",date:\" + '\"' + date_dict[i+1] + '\"' + \",url:\" + '\"' + url_dict[i+1] + '\"' + \"})\"\n",
    "    keywordGraph.run(statement_command)"
   ]
  },
  {
   "cell_type": "code",
   "execution_count": 12,
   "id": "97e1eb38",
   "metadata": {},
   "outputs": [
    {
     "data": {
      "text/html": [
       "(No data)"
      ],
      "text/plain": [
       "(No data)"
      ]
     },
     "execution_count": 12,
     "metadata": {},
     "output_type": "execute_result"
    }
   ],
   "source": []
  },
  {
   "cell_type": "code",
   "execution_count": 8,
   "id": "2ff516f1",
   "metadata": {},
   "outputs": [],
   "source": [
    "for i in keywords:\n",
    "    neo4j_create_statement = \"create (k:KEYWORD{key:\" + '\"' + i + '\"' + \"})\"\n",
    "    keywordGraph.run(neo4j_create_statement)"
   ]
  },
  {
   "cell_type": "code",
   "execution_count": 10,
   "id": "ff72ff72",
   "metadata": {},
   "outputs": [],
   "source": [
    "for i in range(0,len(case_dict)):\n",
    "    for j in range(0,len(case_dict[i+1])):\n",
    "        neo4j_statement1 = \"match (c:CASE{number:\" + str(i+1) + \"}) , (k:KEYWORD{key:\" + '\"' + case_dict[i+1][j] + '\"' + \"}) MERGE (c)-[r:KEY_RELATED]->(k)\"\n",
    "        neo4j_statement2 = \"match (c:CASE{number:\" + str(i+1) + \"}) , (k:KEYWORD{key:\" + '\"' + case_dict[i+1][j] + '\"' + \"}) MERGE (k)-[r:CASE_RELATED]->(c)\"\n",
    "        keywordGraph.run(neo4j_statement1)\n",
    "        keywordGraph.run(neo4j_statement2)"
   ]
  },
  {
   "cell_type": "code",
   "execution_count": null,
   "id": "abb3d7c3",
   "metadata": {},
   "outputs": [],
   "source": []
  }
 ],
 "metadata": {
  "kernelspec": {
   "display_name": "Python 3",
   "language": "python",
   "name": "python3"
  },
  "language_info": {
   "codemirror_mode": {
    "name": "ipython",
    "version": 3
   },
   "file_extension": ".py",
   "mimetype": "text/x-python",
   "name": "python",
   "nbconvert_exporter": "python",
   "pygments_lexer": "ipython3",
   "version": "3.8.8"
  }
 },
 "nbformat": 4,
 "nbformat_minor": 5
}

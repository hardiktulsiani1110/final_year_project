{
 "cells": [
  {
   "cell_type": "code",
   "execution_count": 55,
   "id": "13b21ce0",
   "metadata": {},
   "outputs": [
    {
     "name": "stdout",
     "output_type": "stream",
     "text": [
      "liability\n",
      "settlement\n",
      "property\n",
      "[]\n",
      "['liability', 'settlement', 'property']\n"
     ]
    }
   ],
   "source": [
    "legal_doc=''' '''\n",
    "\n",
    "\n",
    "\n",
    "\n",
    "\n",
    "legal_doc_GPT=''' '''\n",
    "\n",
    "\n",
    "\n",
    "\n",
    "\n",
    "l=list(legal_doc.split(\" \"))\n",
    "y=list(legal_doc_GPT.split(\" \"))\n",
    "#print(legal_doc)\n",
    "\n",
    "#common_word_list = ['acquittal', 'adoptions', 'affidavit', 'alternative', 'dispute', 'resolution', 'alimony', 'appeal', 'arbitration', 'attorney', 'bail', 'bankruptcy', 'boundary', 'breach', 'contract', 'brief', 'child', 'custody', 'support', 'closing', 'argument', 'complaint', 'contempt', 'copyright', 'infringement', 'conviction', 'cross-examination', 'debt', 'collection', 'deposition', 'direct', 'examination', 'discrimination', 'discovery', 'divorce', 'easement', 'employment', 'environmental', 'estate', 'planning', 'eviction', 'extradition', 'foreclosure', 'fraudulent', 'conveyance', 'habeas', 'corpus', 'harassment', 'hoa', 'identity', 'theft', 'impeachment', 'insurance', 'intellectual', 'property', 'international', 'internet', 'jury', 'judge', 'landlord-tenant', 'maritime', 'medical', 'malpractice', 'mediation', 'mistrial', 'motions', 'non-compete', 'agreement', 'non-disclosure', 'objection', 'online', 'defamation', 'fraud', 'parole', 'partnership', 'patent', 'perjury', 'personal', 'injury', 'pleading', 'privacy', 'violation', 'probate', 'product', 'liability', 'recall', 'real', 'reinsurance', 'retaliation', 'sentence', 'settlement', 'shareholder', 'social', 'media', 'statute', 'frauds', 'limitations', 'subpoena', 'surrogacy', 'tax', 'testimony', 'trademark', 'trust', 'unfair', 'competition', 'verdict', 'waiver', 'workers', 'compensation', 'wrongful', 'death', 'zoning', 'tort', 'damages', 'negligence', 'misrepresentation', 'injunction', 'equity', 'remedy', 'jurisdiction', 'evidence', 'interrogatory', 'trial', 'summary', 'judgment', 'default', 'class', 'action', 'small', 'claims', 'court', 'construction', 'trade', 'secret', 'consumer', 'protection', 'whistleblower', 'business', 'dissolution', 'immigration', 'adoption', 'credit', 'report', 'cyberbullying', 'data', 'domain', 'name', 'aviation', 'franchise', 'murder', 'robbery', 'assault', 'burglary', 'arson', 'embezzlement', 'forgery', 'extortion', 'kidnapping', 'stalking', 'manslaughter', 'homicide', 'drug', 'conspiracy', 'terrorism', 'rape', 'sexual', 'domestic', 'violence', 'battery', 'vandalism', 'abuse', 'abduction', 'racketeering', 'money', 'laundering', 'smuggling', 'public', 'corruption', 'bribery', 'obstruction', 'justice', 'blackmail', 'espionage', 'cybercrime', 'assassination', 'human', 'trafficking', 'prostitution', 'false', 'imprisonment', 'trespassing', 'explosives', 'guns', 'weapons', 'concealed', 'armed', 'hijacking', 'carjacking', 'equipment', 'counterfeiting', 'bootlegging', 'hacking', 'computer', 'wire', 'mail', 'ponzi', 'insider', 'trading', 'insolvency', 'statements', 'kickback', 'bank', 'mortgage', 'healthcare', 'worker', 'environmenta', 'securities', 'accounting', 'misappropriation', 'criminal', 'arrest', 'police', 'brutality', 'civil', 'rights', 'driving', 'under', 'influence', 'dui']\n",
    "common_word_list = ['murder', 'robbery', 'assault', 'theft', 'burglary', 'arson', 'fraud', 'embezzlement', 'forgery', 'extortion', 'kidnapping', 'stalking', 'harassment', 'manslaughter', 'homicide', 'drug', 'conspiracy', 'terrorism', 'rape', 'sexual', 'domestic voilence', 'vandalism', 'child abuse', 'abduction', 'racketeering', 'money laundering', 'smuggling', 'public corruption', 'bribery', 'perjury', 'obstruction', 'blackmail', 'espionage', 'cybercrime', 'identity theft', 'assassination', 'human trafficking', 'prostitution', 'imprisonment', 'trespassing', 'explosives', 'guns', 'weapons', 'armed', 'hijacking', 'carjacking', 'counterfeiting', 'bootlegging', 'hacking', 'ponzi', 'insider trading', 'insolvency', 'kickback', 'bank mortgage', 'copyright infringement', 'misappropriation', 'arrest', 'police brutality', 'testimony', 'drunk and drive', 'hit and run', 'contract', 'tort', 'liability', 'breach', 'defamation', 'injunction', 'remedy', 'compensation', 'arbitration', 'mediation', 'settlement', 'evidence deposition', 'interrogatory', 'pleading',   'frauds', 'fraudulent', 'conveyance', 'real estate', 'construction', 'intellectual property', 'trademark', 'patent infringement', 'trade secret', 'consumer protection', 'malpractice', 'personal injury', 'wrongful', 'death', 'discrimination', 'retaliation', 'whistleblower', 'non disclosure', 'shareholder', 'business dissolution', 'bankruptcy', 'debt collection', 'foreclosure', 'immigration', 'probate', 'divorce', 'child custody', 'alimony', 'adoption', 'surrogacy', 'property', 'easement', 'zoning', 'hoa', 'landlord tenant', 'eviction', 'internet', 'online defamation', 'cyberbullying', 'privacy violation', 'data breach', 'socialmedia fraud', 'maritime', 'aviation', 'insurance', 'reinsurance', 'recall franchise', 'accomplice', 'acquittal', 'aggravated assault', 'alibi', 'arraignment', 'bail', 'capital punishment', 'conviction', 'corpus delicti', 'criminal intent', 'double jeopardy', 'exculpatory evidence', 'extradition', 'felony', 'habeas corpus', 'indictment', 'infraction', 'insanity defense', 'jail', 'larceny', 'mistrial', 'probation', 'search warrant',  'subpoena', 'voir dire', 'wiretap', 'wrongful death', 'zero tolerance policy', 'premeditated', 'intentional', 'accidental',  'weapon', 'strangulation', 'asphyxiation', 'stabbing', 'shooting', 'poisoning', 'blunt force trauma', 'forensic evidence', 'autopsy', 'blood spatter', 'confession', 'premeditation', 'first-degree murder', 'second-degree murder', 'felony murder', 'attempted murder', 'self defense', 'justifiable homicide', 'mental illness', 'provocation', 'heat of passion', 'death penalty', 'life imprisonment']\n",
    "ans=[]\n",
    "ans1=[]\n",
    "for word in common_word_list:\n",
    "    if word.lower() in legal_doc.lower():\n",
    "    \n",
    "        if word.lower() not in ans:\n",
    "            t=word.lower()\n",
    "            print(t)\n",
    "            ans.append(t)\n",
    "            \n",
    "for word in common_word_list:\n",
    "    if word.lower() in legal_doc_GPT.lower():\n",
    "    \n",
    "        if word.lower() not in ans1:\n",
    "            if word.lower() not in ans:\n",
    "                t=word.lower()\n",
    "                ans1.append(t)\n",
    "                ans.append(t)\n",
    "            \n",
    "print(ans1)\n",
    "print(ans)"
   ]
  },
  {
   "cell_type": "code",
   "execution_count": null,
   "id": "59090972",
   "metadata": {},
   "outputs": [],
   "source": []
  }
 ],
 "metadata": {
  "kernelspec": {
   "display_name": "Python 3",
   "language": "python",
   "name": "python3"
  },
  "language_info": {
   "codemirror_mode": {
    "name": "ipython",
    "version": 3
   },
   "file_extension": ".py",
   "mimetype": "text/x-python",
   "name": "python",
   "nbconvert_exporter": "python",
   "pygments_lexer": "ipython3",
   "version": "3.8.8"
  }
 },
 "nbformat": 4,
 "nbformat_minor": 5
}

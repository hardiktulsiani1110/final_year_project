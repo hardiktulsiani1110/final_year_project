{
 "cells": [
  {
   "cell_type": "code",
   "execution_count": 6,
   "id": "db8bb840",
   "metadata": {},
   "outputs": [],
   "source": [
    "keywords = ['Gun','Fraud','Murder','drug','Robbery','conspiracy','Knife']\n",
    "case_dict = {\n",
    "    1 : ['Gun', 'Fraud', 'Murder'],\n",
    "    2: ['Murder','drug','Fraud'],\n",
    "    3: ['Robbery','conspiracy'],\n",
    "    4: ['Robbery','Knife','conspiracy','drug'],\n",
    "    5: ['Gun','Knife'],\n",
    "    6: ['Knife','Robbery','Fraud','drug'],\n",
    "    7: ['Fraud','conspiracy'],\n",
    "    8: ['Gun','conspiracy','drug'],\n",
    "    9: ['Robbery','Fraud'],\n",
    "}"
   ]
  },
  {
   "cell_type": "code",
   "execution_count": 81,
   "id": "c7eed3bb",
   "metadata": {},
   "outputs": [],
   "source": [
    "import numpy as np\n",
    "from neo4j import GraphDatabase\n",
    "\n",
    "execution_commands = []\n",
    "\n",
    "for i in range(1,10):\n",
    "    neo4j_create_statemenet = \"create (\" + \"c:CASE{number:\" + str(i) + \",date:\" + '\"' + \"20.\" + str(i) + \".1960\" + '\"' + \"})\"\n",
    "    execution_commands.append(neo4j_create_statemenet)\n",
    "\n",
    "    \n",
    "def execute(execution_commands):\n",
    "    data_base_connection = GraphDatabase.driver(uri = \"bolt://localhost:7687\", auth=(\"neo4j\", \"password\"))\n",
    "    session = data_base_connection.session()    \n",
    "    for i in execution_commands:\n",
    "        session.run(i)\n",
    "        \n",
    "execute(execution_commands)"
   ]
  },
  {
   "cell_type": "code",
   "execution_count": 79,
   "id": "41912634",
   "metadata": {},
   "outputs": [],
   "source": [
    "transaction_deletion_commands = []\n",
    "neo4j_delete_statemenet = \"MATCH(n) DETACH DELETE n\"\n",
    "transaction_deletion_commands.append(neo4j_delete_statemenet)\n",
    "execute(transaction_deletion_commands)"
   ]
  },
  {
   "cell_type": "code",
   "execution_count": 83,
   "id": "bf9dc542",
   "metadata": {},
   "outputs": [],
   "source": [
    "execution_commands = []\n",
    "for i in keywords:\n",
    "    neo4j_create_statemenet = \"create (k:KEYWORD{key:\" + '\"' + i + '\"' + \"})\"\n",
    "    execution_commands.append(neo4j_create_statemenet)\n",
    "\n",
    "execute(execution_commands)"
   ]
  },
  {
   "cell_type": "code",
   "execution_count": 84,
   "id": "36398509",
   "metadata": {},
   "outputs": [],
   "source": [
    "execution_commands = []\n",
    "\n",
    "for i in range(1,10):\n",
    "    for j in range(0,len(case_dict[i])):\n",
    "        neo4j_statemenet1 = \"match (c:CASE{number:\" + str(i) + \"}) , (k:KEYWORD{key:\" + '\"' + case_dict[i][j] + '\"' + \"}) MERGE (c)-[r:KEY_RELATED]->(k)\"\n",
    "        neo4j_statemenet2 = \"match (c:CASE{number:\" + str(i) + \"}) , (k:KEYWORD{key:\" + '\"' + case_dict[i][j] + '\"' + \"}) MERGE (k)-[r:CASE_RELATED]->(c)\"\n",
    "        execution_commands.append(neo4j_statemenet1)\n",
    "        execution_commands.append(neo4j_statemenet2)\n",
    "\n",
    "execute(execution_commands)"
   ]
  },
  {
   "cell_type": "code",
   "execution_count": 55,
   "id": "d8511939",
   "metadata": {},
   "outputs": [],
   "source": [
    "stat1 = '''MATCH\n",
    "  (c:CASE),\n",
    "  (k:KEYWORD)\n",
    "WHERE c.number =''' + str(i) + ''' AND k.name = '\"' ''' + word + ''' '\"'\n",
    "CREATE (c)-[r:KEY_RELATED]->(k)\n",
    "CREATE (c)<-[r:CASE_RELATED]-(k)\n",
    "'''"
   ]
  },
  {
   "cell_type": "code",
   "execution_count": null,
   "id": "335a77a9",
   "metadata": {},
   "outputs": [],
   "source": []
  }
 ],
 "metadata": {
  "kernelspec": {
   "display_name": "Python 3",
   "language": "python",
   "name": "python3"
  },
  "language_info": {
   "codemirror_mode": {
    "name": "ipython",
    "version": 3
   },
   "file_extension": ".py",
   "mimetype": "text/x-python",
   "name": "python",
   "nbconvert_exporter": "python",
   "pygments_lexer": "ipython3",
   "version": "3.8.8"
  }
 },
 "nbformat": 4,
 "nbformat_minor": 5
}

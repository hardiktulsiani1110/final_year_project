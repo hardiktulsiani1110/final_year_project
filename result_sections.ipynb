{
 "cells": [
  {
   "cell_type": "code",
   "execution_count": 1,
   "id": "3e4f4700",
   "metadata": {},
   "outputs": [],
   "source": [
    "from py2neo import Graph,Node,Relationship"
   ]
  },
  {
   "cell_type": "code",
   "execution_count": 48,
   "id": "fd49f161",
   "metadata": {},
   "outputs": [],
   "source": [
    "dbURL = \"bolt://localhost:7687\""
   ]
  },
  {
   "cell_type": "code",
   "execution_count": 56,
   "id": "4dbc9a67",
   "metadata": {},
   "outputs": [],
   "source": [
    "graph = Graph(dbURL,name=\"sections\", auth=(\"neo4j\", \"password\"))"
   ]
  },
  {
   "cell_type": "code",
   "execution_count": 66,
   "id": "1c37a36c",
   "metadata": {},
   "outputs": [],
   "source": [
    "result = graph.run(\"MATCH(s:SECTION) -[r]->(c:CASE{number:6})  RETURN s.number\").to_data_frame()"
   ]
  },
  {
   "cell_type": "code",
   "execution_count": 51,
   "id": "0d12fb26",
   "metadata": {},
   "outputs": [
    {
     "data": {
      "text/plain": [
       "int"
      ]
     },
     "execution_count": 51,
     "metadata": {},
     "output_type": "execute_result"
    }
   ],
   "source": [
    "type(len(result))"
   ]
  },
  {
   "cell_type": "code",
   "execution_count": 67,
   "id": "8ff2bbb0",
   "metadata": {},
   "outputs": [
    {
     "name": "stdout",
     "output_type": "stream",
     "text": [
      "  s.number\n",
      "0        2\n",
      "1       19\n",
      "2       17\n",
      "3        9\n",
      "4        8\n",
      "5        7\n",
      "6        4\n",
      "7       13\n",
      "8        6\n",
      "9      125\n"
     ]
    }
   ],
   "source": [
    "print(result)"
   ]
  },
  {
   "cell_type": "code",
   "execution_count": 150,
   "id": "5602b146",
   "metadata": {},
   "outputs": [
    {
     "name": "stdout",
     "output_type": "stream",
     "text": [
      "    c2.number  count(s)\n",
      "0           4         6\n",
      "1           3         6\n",
      "2          10         5\n",
      "3           8         5\n",
      "4           9         5\n",
      "5           6         4\n",
      "6           5         4\n",
      "7           2         3\n",
      "8          12         3\n",
      "9           1         2\n",
      "10         11         1\n"
     ]
    }
   ],
   "source": [
    "x = 7\n",
    "result2 = graph.run(\"MATCH(c1:CASE{number:\" + str(x) + \"}) -[r:SECTION_RELATED]->(s:SECTION) <-[r2:SECTION_RELATED]- (c2:CASE) RETURN c2.number, count(s) ORDER BY count(s) DESC\").to_data_frame()\n",
    "print(result2)"
   ]
  },
  {
   "cell_type": "code",
   "execution_count": 128,
   "id": "49a71b12",
   "metadata": {},
   "outputs": [
    {
     "name": "stdout",
     "output_type": "stream",
     "text": [
      "    c2.number  count(s)\n",
      "0           8        10\n",
      "1          10         9\n",
      "2           6         9\n",
      "3           3         8\n",
      "4           7         6\n",
      "5           5         6\n",
      "6           9         4\n",
      "7           1         3\n",
      "8           2         2\n",
      "9          12         2\n",
      "10         11         1\n"
     ]
    }
   ],
   "source": []
  },
  {
   "cell_type": "code",
   "execution_count": 79,
   "id": "96085103",
   "metadata": {},
   "outputs": [
    {
     "ename": "AttributeError",
     "evalue": "'Graph' object has no attribute 'draw'",
     "output_type": "error",
     "traceback": [
      "\u001b[1;31m---------------------------------------------------------------------------\u001b[0m",
      "\u001b[1;31mAttributeError\u001b[0m                            Traceback (most recent call last)",
      "\u001b[1;32m<ipython-input-79-d4f4094c0084>\u001b[0m in \u001b[0;36m<module>\u001b[1;34m\u001b[0m\n\u001b[1;32m----> 1\u001b[1;33m \u001b[0mgraph\u001b[0m\u001b[1;33m.\u001b[0m\u001b[0mdraw\u001b[0m\u001b[1;33m(\u001b[0m\u001b[0mresult\u001b[0m\u001b[1;33m,\u001b[0m \u001b[0mlabels\u001b[0m\u001b[1;33m=\u001b[0m\u001b[1;32mTrue\u001b[0m\u001b[1;33m,\u001b[0m\u001b[0mshow\u001b[0m\u001b[1;33m=\u001b[0m\u001b[1;34m'ipynb'\u001b[0m\u001b[1;33m)\u001b[0m\u001b[1;33m\u001b[0m\u001b[1;33m\u001b[0m\u001b[0m\n\u001b[0m",
      "\u001b[1;31mAttributeError\u001b[0m: 'Graph' object has no attribute 'draw'"
     ]
    }
   ],
   "source": [
    "graph.draw(result,labels=True,show='ipynb')"
   ]
  },
  {
   "cell_type": "code",
   "execution_count": 80,
   "id": "9edc2097",
   "metadata": {},
   "outputs": [],
   "source": [
    "keywordGraph = Graph(dbURL, auth=(\"neo4j\", \"password\"))"
   ]
  },
  {
   "cell_type": "code",
   "execution_count": 276,
   "id": "5cb2d256",
   "metadata": {},
   "outputs": [
    {
     "name": "stdout",
     "output_type": "stream",
     "text": [
      "   c.number\n",
      "0         3\n",
      "1         4\n",
      "2         7\n",
      "3         8\n",
      "4         9\n",
      "5        11\n"
     ]
    }
   ],
   "source": [
    "newResult = keywordGraph.run('''MATCH(c:CASE) -[r]->(k:KEYWORD{key:\"detention\"})  RETURN c.number''').to_data_frame()\n",
    "print(newResult)"
   ]
  },
  {
   "cell_type": "code",
   "execution_count": 160,
   "id": "e5477aca",
   "metadata": {},
   "outputs": [
    {
     "name": "stdout",
     "output_type": "stream",
     "text": [
      "<class 'pandas.core.frame.DataFrame'>\n"
     ]
    }
   ],
   "source": [
    "# len(newResult)\n",
    "print(type(newResult))"
   ]
  },
  {
   "cell_type": "code",
   "execution_count": 274,
   "id": "0ee51f34",
   "metadata": {},
   "outputs": [
    {
     "name": "stdout",
     "output_type": "stream",
     "text": [
      "   c.number\n",
      "0         1\n",
      "1         4\n",
      "2         6\n",
      "3         7\n",
      "4         8\n",
      "5         9\n",
      "6        10\n",
      "7        11\n"
     ]
    }
   ],
   "source": [
    "newResult2 = keywordGraph.run('''MATCH(c:CASE) -[r]->(k:KEYWORD{key:\"habeas_corpus\"})  RETURN c.number''').to_data_frame()\n",
    "print(newResult2)"
   ]
  },
  {
   "cell_type": "code",
   "execution_count": 273,
   "id": "fe0d5224",
   "metadata": {},
   "outputs": [
    {
     "name": "stdout",
     "output_type": "stream",
     "text": [
      "   c.number\n",
      "0         6\n",
      "1         8\n"
     ]
    }
   ],
   "source": [
    "newResult3 = keywordGraph.run('''MATCH(c:CASE) -[r]->(k:KEYWORD{key:\"assault\"})  RETURN c.number''').to_data_frame()\n",
    "print(newResult3)"
   ]
  },
  {
   "cell_type": "code",
   "execution_count": 272,
   "id": "84292f79",
   "metadata": {},
   "outputs": [
    {
     "name": "stdout",
     "output_type": "stream",
     "text": [
      "   c.number\n",
      "0         4\n",
      "1         8\n",
      "2         9\n"
     ]
    }
   ],
   "source": [
    "newResult4 = keywordGraph.run('''MATCH(c:CASE) -[r]->(k:KEYWORD{key:\"unlawful_imprisonment\"})  RETURN c.number''').to_data_frame()\n",
    "print(newResult4)"
   ]
  },
  {
   "cell_type": "code",
   "execution_count": null,
   "id": "c0c381d4",
   "metadata": {},
   "outputs": [],
   "source": []
  },
  {
   "cell_type": "code",
   "execution_count": 223,
   "id": "9d24a927",
   "metadata": {},
   "outputs": [
    {
     "name": "stdout",
     "output_type": "stream",
     "text": [
      "7\n",
      "{3: 1}\n",
      "{3: 2, 4: 1}\n",
      "{3: 2, 4: 2, 7: 1}\n",
      "{3: 2, 4: 2, 7: 2, 8: 1}\n",
      "{3: 2, 4: 2, 7: 2, 8: 2, 9: 1}\n",
      "{3: 2, 4: 2, 7: 2, 8: 2, 9: 2, 11: 1}\n",
      "[(3, 2), (4, 2), (7, 2), (8, 2), (9, 2), (11, 2)]\n"
     ]
    }
   ],
   "source": [
    "cases = []\n",
    "case_freq = {}\n",
    "print(newResult[\"c.number\"][2])\n",
    "for i in range(0,len(newResult)): \n",
    "    if case_freq.get(newResult[\"c.number\"][i]) is None:\n",
    "        case_freq[newResult[\"c.number\"][i]] = 1\n",
    "        print(case_freq)\n",
    "    case_freq[newResult[\"c.number\"][i]] = case_freq[newResult[\"c.number\"][i]] + 1\n",
    "cases=list(case_freq.items())\n",
    "print(cases)"
   ]
  },
  {
   "cell_type": "code",
   "execution_count": 134,
   "id": "7bdd1778",
   "metadata": {},
   "outputs": [],
   "source": [
    "import pandas as pd"
   ]
  },
  {
   "cell_type": "code",
   "execution_count": 209,
   "id": "6cdda181",
   "metadata": {},
   "outputs": [
    {
     "name": "stdout",
     "output_type": "stream",
     "text": [
      "3\n",
      "4\n",
      "7\n"
     ]
    }
   ],
   "source": [
    "\n",
    "ans = pd.DataFrame()\n",
    "for i in range(0,min(3,len(cases))):\n",
    "    temp = cases[i]\n",
    "    print(temp)\n",
    "    resultTable = graph.run('''MATCH(c1:CASE{number:''' + str(temp) + '''}) -[r:SECTION_RELATED]->(s:SECTION) <-[r2:SECTION_RELATED]- (c2:CASE)\n",
    "RETURN c2.number, count(s) as x\n",
    "ORDER BY count(s) DESC''').to_data_frame()\n",
    "    ans = ans.append(resultTable,ignore_index = True)"
   ]
  },
  {
   "cell_type": "code",
   "execution_count": 175,
   "id": "b2b9e3db",
   "metadata": {},
   "outputs": [
    {
     "name": "stdout",
     "output_type": "stream",
     "text": [
      "    c2.number   x\n",
      "0           8   9\n",
      "1           4   8\n",
      "2           6   7\n",
      "3          10   6\n",
      "4           7   6\n",
      "5           5   6\n",
      "6           9   3\n",
      "7           1   2\n",
      "8          12   2\n",
      "9           2   1\n",
      "10         11   1\n",
      "11          8  10\n",
      "12         10   9\n",
      "13          6   9\n",
      "14          3   8\n",
      "15          7   6\n",
      "16          5   6\n",
      "17          9   4\n",
      "18          1   3\n",
      "19          2   2\n",
      "20         12   2\n",
      "21         11   1\n",
      "22          4   6\n",
      "23          3   6\n",
      "24         10   5\n",
      "25          8   5\n",
      "26          9   5\n",
      "27          6   4\n",
      "28          5   4\n",
      "29          2   3\n",
      "30         12   3\n",
      "31          1   2\n",
      "32         11   1\n"
     ]
    }
   ],
   "source": [
    "print(ans)"
   ]
  },
  {
   "cell_type": "code",
   "execution_count": 177,
   "id": "2bdf7e08",
   "metadata": {},
   "outputs": [
    {
     "name": "stdout",
     "output_type": "stream",
     "text": [
      "    c2.number   x\n",
      "11          8  10\n",
      "0           8   9\n",
      "13          6   9\n",
      "12         10   9\n",
      "1           4   8\n",
      "14          3   8\n",
      "2           6   7\n",
      "23          3   6\n",
      "22          4   6\n",
      "15          7   6\n",
      "16          5   6\n",
      "4           7   6\n",
      "3          10   6\n",
      "5           5   6\n",
      "26          9   5\n",
      "25          8   5\n",
      "24         10   5\n",
      "27          6   4\n",
      "28          5   4\n",
      "17          9   4\n",
      "29          2   3\n",
      "30         12   3\n",
      "18          1   3\n",
      "6           9   3\n",
      "19          2   2\n",
      "31          1   2\n",
      "7           1   2\n",
      "8          12   2\n",
      "20         12   2\n",
      "10         11   1\n",
      "9           2   1\n",
      "21         11   1\n",
      "32         11   1\n"
     ]
    }
   ],
   "source": [
    "ans2 = ans.sort_values(by = 'x', ascending = False)\n",
    "print(ans2)"
   ]
  },
  {
   "cell_type": "code",
   "execution_count": 184,
   "id": "9f07843e",
   "metadata": {},
   "outputs": [],
   "source": [
    "ans2 = ans2.reset_index(drop = True)"
   ]
  },
  {
   "cell_type": "code",
   "execution_count": 185,
   "id": "b698c257",
   "metadata": {},
   "outputs": [
    {
     "name": "stdout",
     "output_type": "stream",
     "text": [
      "    c2.number   x\n",
      "0           8  10\n",
      "1           8   9\n",
      "2           6   9\n",
      "3          10   9\n",
      "4           4   8\n",
      "5           3   8\n",
      "6           6   7\n",
      "7           3   6\n",
      "8           4   6\n",
      "9           7   6\n",
      "10          5   6\n",
      "11          7   6\n",
      "12         10   6\n",
      "13          5   6\n",
      "14          9   5\n",
      "15          8   5\n",
      "16         10   5\n",
      "17          6   4\n",
      "18          5   4\n",
      "19          9   4\n",
      "20          2   3\n",
      "21         12   3\n",
      "22          1   3\n",
      "23          9   3\n",
      "24          2   2\n",
      "25          1   2\n",
      "26          1   2\n",
      "27         12   2\n",
      "28         12   2\n",
      "29         11   1\n",
      "30          2   1\n",
      "31         11   1\n",
      "32         11   1\n"
     ]
    }
   ],
   "source": [
    "print(ans2)"
   ]
  },
  {
   "cell_type": "code",
   "execution_count": 190,
   "id": "a32d30f7",
   "metadata": {},
   "outputs": [
    {
     "name": "stdout",
     "output_type": "stream",
     "text": [
      "[8, 6, 10, 4, 3]\n"
     ]
    }
   ],
   "source": [
    "count = 0\n",
    "i = 0\n",
    "numberdict = {}\n",
    "finalcases = []\n",
    "while count < 5 and i < len(ans2):\n",
    "    if numberdict.get(ans2['c2.number'][i]) == None:\n",
    "        numberdict[ans2['c2.number'][i]] = 1\n",
    "        finalcases.append(ans2['c2.number'][i])\n",
    "        count = count + 1\n",
    "    i = i + 1\n",
    "print(finalcases)"
   ]
  },
  {
   "cell_type": "code",
   "execution_count": 240,
   "id": "1f9b9274",
   "metadata": {},
   "outputs": [
    {
     "name": "stdout",
     "output_type": "stream",
     "text": [
      "7\n",
      "{3: 1}\n",
      "{3: 2, 4: 1}\n",
      "{3: 2, 4: 2, 7: 1}\n",
      "{3: 2, 4: 2, 7: 2, 8: 1}\n",
      "{3: 2, 4: 2, 7: 2, 8: 2, 9: 1}\n",
      "{3: 2, 4: 2, 7: 2, 8: 2, 9: 2, 11: 1}\n"
     ]
    }
   ],
   "source": [
    "# cases = []\n",
    "# case_freq = {}\n",
    "# print(newResult[\"c.number\"][2])\n",
    "# for i in range(0,len(newResult)): \n",
    "#     if case_freq.get(newResult[\"c.number\"][i]) is None:\n",
    "#         case_freq[newResult[\"c.number\"][i]] = 1\n",
    "#         print(case_freq)\n",
    "#     case_freq[newResult[\"c.number\"][i]] = case_freq[newResult[\"c.number\"][i]] + 1\n",
    "# # cases=list(case_freq.items())\n",
    "# # print(cases)"
   ]
  },
  {
   "cell_type": "code",
   "execution_count": 241,
   "id": "9c927cb5",
   "metadata": {},
   "outputs": [
    {
     "name": "stdout",
     "output_type": "stream",
     "text": [
      "6\n",
      "{3: 2, 4: 2, 7: 2, 8: 2, 9: 2, 11: 2, 1: 1}\n",
      "{3: 2, 4: 3, 7: 2, 8: 2, 9: 2, 11: 2, 1: 2, 6: 1}\n",
      "{3: 2, 4: 3, 7: 3, 8: 3, 9: 3, 11: 2, 1: 2, 6: 2, 10: 1}\n"
     ]
    }
   ],
   "source": [
    "# print(newResult2[\"c.number\"][2])\n",
    "# for i in range(0,len(newResult2)): \n",
    "#     if case_freq.get(newResult2[\"c.number\"][i]) is None:\n",
    "#         case_freq[newResult2[\"c.number\"][i]] = 1\n",
    "#         print(case_freq)\n",
    "#     case_freq[newResult2[\"c.number\"][i]] = case_freq[newResult2[\"c.number\"][i]] + 1\n",
    "# # cases=list(case_freq.items())\n",
    "# # print(cases)"
   ]
  },
  {
   "cell_type": "code",
   "execution_count": 242,
   "id": "4f897e8d",
   "metadata": {},
   "outputs": [
    {
     "name": "stdout",
     "output_type": "stream",
     "text": [
      "8\n"
     ]
    }
   ],
   "source": [
    "# print(newResult3[\"c.number\"][1])\n",
    "# for i in range(0,len(newResult3)): \n",
    "#     if case_freq.get(newResult3[\"c.number\"][i]) is None:\n",
    "#         case_freq[newResult3[\"c.number\"][i]] = 1\n",
    "#         print(case_freq)\n",
    "#     case_freq[newResult3[\"c.number\"][i]] = case_freq[newResult3[\"c.number\"][i]] + 1\n",
    "# # cases=list(case_freq.items())\n",
    "# # print(cases)"
   ]
  },
  {
   "cell_type": "code",
   "execution_count": null,
   "id": "a413d9a9",
   "metadata": {},
   "outputs": [],
   "source": [
    "# print(newResult4[\"c.number\"][1])\n",
    "# for i in range(0,len(newResult4)): \n",
    "#     if case_freq.get(newResult4[\"c.number\"][i]) is None:\n",
    "#         case_freq[newResult4[\"c.number\"][i]] = 1\n",
    "#         print(case_freq)\n",
    "#     case_freq[newResult4[\"c.number\"][i]] = case_freq[newResult4[\"c.number\"][i]] + 1\n",
    "# cases=list(case_freq.items())\n",
    "# print(cases)"
   ]
  },
  {
   "cell_type": "code",
   "execution_count": 244,
   "id": "461c2ef6",
   "metadata": {},
   "outputs": [
    {
     "data": {
      "text/plain": [
       "tuple"
      ]
     },
     "execution_count": 244,
     "metadata": {},
     "output_type": "execute_result"
    }
   ],
   "source": [
    "type(cases[0])"
   ]
  },
  {
   "cell_type": "code",
   "execution_count": 245,
   "id": "701fef3f",
   "metadata": {},
   "outputs": [],
   "source": [
    "cases.sort(key = lambda a: a[1]) "
   ]
  },
  {
   "cell_type": "code",
   "execution_count": 246,
   "id": "4f3eb56a",
   "metadata": {},
   "outputs": [
    {
     "name": "stdout",
     "output_type": "stream",
     "text": [
      "[(3, 2), (1, 2), (10, 2), (7, 3), (11, 3), (6, 3), (4, 4), (9, 4), (8, 5)]\n"
     ]
    }
   ],
   "source": [
    "print(cases)"
   ]
  },
  {
   "cell_type": "code",
   "execution_count": 247,
   "id": "35e67736",
   "metadata": {},
   "outputs": [],
   "source": [
    "cases.reverse()"
   ]
  },
  {
   "cell_type": "code",
   "execution_count": 248,
   "id": "dfb5ee09",
   "metadata": {},
   "outputs": [
    {
     "name": "stdout",
     "output_type": "stream",
     "text": [
      "[(8, 5), (9, 4), (4, 4), (6, 3), (11, 3), (7, 3), (10, 2), (1, 2), (3, 2)]\n"
     ]
    }
   ],
   "source": [
    "print(cases)"
   ]
  },
  {
   "cell_type": "code",
   "execution_count": 252,
   "id": "8752fa51",
   "metadata": {},
   "outputs": [],
   "source": [
    "cases_list = []\n",
    "for i in range(0,min(3,len(cases))):\n",
    "    cases_list.append(cases[i][0])"
   ]
  },
  {
   "cell_type": "code",
   "execution_count": 253,
   "id": "0bc1a68e",
   "metadata": {},
   "outputs": [
    {
     "name": "stdout",
     "output_type": "stream",
     "text": [
      "[8, 9, 4]\n"
     ]
    }
   ],
   "source": [
    "print(cases_list)"
   ]
  },
  {
   "cell_type": "code",
   "execution_count": 278,
   "id": "1c0beb9b",
   "metadata": {},
   "outputs": [],
   "source": [
    "statement = \"the knife murder hello hi detention habeas_corpus\""
   ]
  },
  {
   "cell_type": "code",
   "execution_count": 279,
   "id": "32aca1c1",
   "metadata": {},
   "outputs": [
    {
     "name": "stdout",
     "output_type": "stream",
     "text": [
      "['the', 'knife', 'murder', 'hello', 'hi', 'detention', 'habeas_corpus']\n"
     ]
    }
   ],
   "source": [
    "words = []\n",
    "temp = \"\"\n",
    "for i in range(0,len(statement)):\n",
    "    if statement[i] == ' ':\n",
    "        words.append(temp)\n",
    "        temp = \"\"\n",
    "    else:\n",
    "        temp += statement[i]\n",
    "words.append(temp)\n",
    "print(words)"
   ]
  },
  {
   "cell_type": "code",
   "execution_count": 280,
   "id": "620e4d1b",
   "metadata": {},
   "outputs": [],
   "source": [
    "keywords = [\"drunkard\", \"unlawful_imprisonment\", \"abuse\", \"mental_torture\", \"torture\", \"kill\", \"murdered\", \"services\",\"crime\", \"self_defense\", \"crime\", \"offense\", \"defendant\", \"victim\", \"accused\", \"guilty\", \"plea\", \"evidence\", \"witness\", \"prosecutor\", \"defense\", \"sentence\", \"jail\", \"prison\", \"probation\", \"parole\", \"murder\", \"homicide\", \"manslaughter\", \"assault\", \"battery\", \"theft\", \"robbery\", \"burglary\", \"fraud\", \"embezzlement\", \"extortion\", \"kidnapping\", \"sexual_assault\", \"drug\", \"weapon\", \"firearm\", \"knife\", \"self_defense\", \"premeditation\", \"intent\", \"motive\", \"malice\", \"recklessness\", \"negligence\", \"conspiracy\", \"accomplice\", \"plea_bargain\", \"restitution\", \"fine\", \"appeal\", \"habeas_corpus\", \"Miranda_rights\", \"probable_cause\", \"search_warrant\", \"warrantless_search\", \"due_process\", \"double_jeopardy\", \"immunity\", \"entrapment\", \"insanity\", \"alibi\", \"confession\", \"testimony\", \"hearsay\", \"chain_of_custody\", \"forensic_evidence\", \"DNA\",\"fingerprint\", \"expert_witness\", \"sentencing_guidelines\", \"aggravating_factors\", \"mitigating_factors\", \"recidivism\", \"rehabilitation\", \"capital_punishment\", \"death_penalty\", \"life_sentence\", \"parole_board\", \"acquittal\", \"indictment\", \"probation_violation\", \"restoration_order\", \"statute_of_limitations\", \"venue\", \"plea_bargain_agreement\", \"felony\", \"juvenile_delinquency\", \"habitual_offender\", \"selfincrimination\", \"speedy_trial\", \"trial_by_jury\", \"bail\", \"bond\", \"contempt_of_court\", \"subpoena\", \"warrant\", \"reasonable_doubt\", \"strict_liability\", \"exculpatory_evidence\", \"hearsay_exception\", \"hearsay_rule\", \"search_and_seizure\", \"exclusionary_rule\", \"cruel_and_unusual_punishment\", \"probation_officer\", \"parole_officer\", \"community_service\", \"plea_of_no_contest\", \"adjudication\", \"arraignment\", \"arrest\", \"booking\", \"cross_examination\", \"detention\", \"expungement\", \"grand_jury\", \"inadmissible\", \"incarceration\", \"interrogation\", \"jury_instructions\", \"misdemeanor\",\"Mistrial\", \"Nolo_contendere\", \"Obstruction_of_justice\", \"Pardon\", \"Parole\", \"Perjury\", \"Petit_jury\", \"Plea_agreement\", \"Preliminary_hearing\", \"Prosecutor\", \"Public_defender\", \"Reasonable_suspicion\", \"Reckless_endangerment\", \"Retrial\", \"Sentence\", \"Sentencing_guidelines\", \"Statute_of_limitations\", \"Subpoena\", \"Suspended_sentence\", \"Testimony\", \"Trial\", \"Verdict\", \"Voir_dire\", \"Waiver\"]\n",
    "keyword_dict = {}\n",
    "extracted_keywords = []\n",
    "for i in keywords:\n",
    "    keyword_dict[i] = True\n",
    "\n",
    "for i in words:\n",
    "    if keyword_dict.get(i) is not None:\n",
    "        extracted_keywords.append(i)"
   ]
  },
  {
   "cell_type": "code",
   "execution_count": 281,
   "id": "7f858bca",
   "metadata": {},
   "outputs": [
    {
     "name": "stdout",
     "output_type": "stream",
     "text": [
      "['knife', 'murder', 'detention', 'habeas_corpus']\n"
     ]
    }
   ],
   "source": [
    "print(extracted_keywords)"
   ]
  },
  {
   "cell_type": "code",
   "execution_count": 282,
   "id": "81e37161",
   "metadata": {},
   "outputs": [
    {
     "name": "stdout",
     "output_type": "stream",
     "text": [
      "    c.number\n",
      "0          3\n",
      "1          4\n",
      "2          7\n",
      "3          8\n",
      "4          9\n",
      "5         11\n",
      "6          1\n",
      "7          4\n",
      "8          6\n",
      "9          7\n",
      "10         8\n",
      "11         9\n",
      "12        10\n",
      "13        11\n"
     ]
    }
   ],
   "source": [
    "anstable = pd.DataFrame()\n",
    "for word in extracted_keywords:\n",
    "    temp = keywordGraph.run(\"MATCH(c:CASE) -[r]->(k:KEYWORD{key:\" + '\"' + word + '\"' + \"})  RETURN c.number\").to_data_frame()\n",
    "    anstable = anstable.append(temp,ignore_index = True)\n",
    "print(anstable)"
   ]
  },
  {
   "cell_type": "code",
   "execution_count": 283,
   "id": "496926bc",
   "metadata": {},
   "outputs": [
    {
     "name": "stdout",
     "output_type": "stream",
     "text": [
      "[3, 4, 7, 8, 9, 11, 1, 6, 10]\n"
     ]
    }
   ],
   "source": [
    "checkduplicate = {}\n",
    "finalList = []\n",
    "for i in range(0,len(anstable)): \n",
    "    if checkduplicate.get(anstable[\"c.number\"][i]) is None:\n",
    "        checkduplicate[anstable[\"c.number\"][i]] = 1\n",
    "        finalList.append(anstable[\"c.number\"][i])\n",
    "print(finalList)"
   ]
  },
  {
   "cell_type": "code",
   "execution_count": 294,
   "id": "05b95e8b",
   "metadata": {},
   "outputs": [],
   "source": [
    "finalcase_freq = {}\n",
    "finalcases = []\n",
    "for i in range(0,len(anstable)): \n",
    "    if finalcase_freq.get(anstable[\"c.number\"][i]) is None:\n",
    "        finalcase_freq[anstable[\"c.number\"][i]] = 1\n",
    "    else:\n",
    "        finalcase_freq[anstable[\"c.number\"][i]] = finalcase_freq[anstable[\"c.number\"][i]] + 1\n",
    "finalcases=list(finalcase_freq.items())"
   ]
  },
  {
   "cell_type": "code",
   "execution_count": 295,
   "id": "4b62dfb5",
   "metadata": {},
   "outputs": [
    {
     "name": "stdout",
     "output_type": "stream",
     "text": [
      "[(3, 1), (4, 2), (7, 2), (8, 2), (9, 2), (11, 2), (1, 1), (6, 1), (10, 1)]\n",
      "[(11, 2), (9, 2), (8, 2), (7, 2), (4, 2), (10, 1), (6, 1), (1, 1), (3, 1)]\n"
     ]
    }
   ],
   "source": [
    "print(finalcases)\n",
    "finalcases.sort(key = lambda a:a[1])\n",
    "finalcases.reverse()\n",
    "print(finalcases)"
   ]
  },
  {
   "cell_type": "code",
   "execution_count": 296,
   "id": "480bc4af",
   "metadata": {},
   "outputs": [],
   "source": [
    "finalcases_list = []\n",
    "for i in range(0,min(5,len(finalcases))):\n",
    "    finalcases_list.append(finalcases[i][0])"
   ]
  },
  {
   "cell_type": "code",
   "execution_count": 297,
   "id": "f8644610",
   "metadata": {},
   "outputs": [
    {
     "name": "stdout",
     "output_type": "stream",
     "text": [
      "[11, 9, 8, 7, 4]\n"
     ]
    }
   ],
   "source": [
    "print(finalcases_list)"
   ]
  },
  {
   "cell_type": "code",
   "execution_count": null,
   "id": "b2e8da62",
   "metadata": {},
   "outputs": [],
   "source": []
  }
 ],
 "metadata": {
  "kernelspec": {
   "display_name": "Python 3",
   "language": "python",
   "name": "python3"
  },
  "language_info": {
   "codemirror_mode": {
    "name": "ipython",
    "version": 3
   },
   "file_extension": ".py",
   "mimetype": "text/x-python",
   "name": "python",
   "nbconvert_exporter": "python",
   "pygments_lexer": "ipython3",
   "version": "3.8.8"
  }
 },
 "nbformat": 4,
 "nbformat_minor": 5
}

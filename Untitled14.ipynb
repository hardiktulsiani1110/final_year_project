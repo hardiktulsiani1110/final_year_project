{
 "cells": [
  {
   "cell_type": "code",
   "execution_count": 6,
   "id": "c4ac985f",
   "metadata": {},
   "outputs": [],
   "source": [
    "keywords = [\"drunkard\", \"unlawful_imprisonment\", \"abuse\", \"mental_torture\", \"torture\", \"kill\", \"murdered\", \"services\",\"crime\", \"self_defense\", \"crime\", \"offense\", \"defendant\", \"victim\", \"accused\", \"guilty\", \"plea\", \"evidence\", \"witness\", \"prosecutor\", \"defense\", \"sentence\", \"jail\", \"prison\", \"probation\", \"parole\", \"murder\", \"homicide\", \"manslaughter\", \"assault\", \"battery\", \"theft\", \"robbery\", \"burglary\", \"fraud\", \"embezzlement\", \"extortion\", \"kidnapping\", \"sexual_assault\", \"drug\", \"weapon\", \"firearm\", \"knife\", \"self_defense\", \"premeditation\", \"intent\", \"motive\", \"malice\", \"recklessness\", \"negligence\", \"conspiracy\", \"accomplice\", \"plea_bargain\", \"restitution\", \"fine\", \"appeal\", \"habeas_corpus\", \"Miranda_rights\", \"probable_cause\", \"search_warrant\", \"warrantless_search\", \"due_process\", \"double_jeopardy\", \"immunity\", \"entrapment\", \"insanity\", \"alibi\", \"confession\", \"testimony\", \"hearsay\", \"chain_of_custody\", \"forensic_evidence\", \"DNA\",\"fingerprint\", \"expert_witness\", \"sentencing_guidelines\", \"aggravating_factors\", \"mitigating_factors\", \"recidivism\", \"rehabilitation\", \"capital_punishment\", \"death_penalty\", \"life_sentence\", \"parole_board\", \"acquittal\", \"indictment\", \"probation_violation\", \"restoration_order\", \"statute_of_limitations\", \"venue\", \"plea_bargain_agreement\", \"felony\", \"juvenile_delinquency\", \"habitual_offender\", \"selfincrimination\", \"speedy_trial\", \"trial_by_jury\", \"bail\", \"bond\", \"contempt_of_court\", \"subpoena\", \"warrant\", \"reasonable_doubt\", \"strict_liability\", \"exculpatory_evidence\", \"hearsay_exception\", \"hearsay_rule\", \"search_and_seizure\", \"exclusionary_rule\", \"cruel_and_unusual_punishment\", \"probation_officer\", \"parole_officer\", \"community_service\", \"plea_of_no_contest\", \"adjudication\", \"arraignment\", \"arrest\", \"booking\", \"cross_examination\", \"detention\", \"expungement\", \"grand_jury\", \"inadmissible\", \"incarceration\", \"interrogation\", \"jury_instructions\", \"misdemeanor\",\"Mistrial\", \"Nolo_contendere\", \"Obstruction_of_justice\", \"Pardon\", \"Parole\", \"Perjury\", \"Petit_jury\", \"Plea_agreement\", \"Preliminary_hearing\", \"Prosecutor\", \"Public_defender\", \"Reasonable_suspicion\", \"Reckless_endangerment\", \"Retrial\", \"Sentence\", \"Sentencing_guidelines\", \"Statute_of_limitations\", \"Subpoena\", \"Suspended_sentence\", \"Testimony\", \"Trial\", \"Verdict\", \"Voir_dire\", \"Waiver\"]\n",
    "case_dict = {\n",
    "    1 : ['plea', 'evidence', 'intent', 'fine', 'appeal', 'habeas_corpus', 'adjudication', 'trial','restitution', 'bail','Warrant' ],\n",
    "    2: ['evidence', 'appeal', 'trial','fine'],\n",
    "    3: ['kill', 'accused', 'evidence', 'prison', 'appeal', 'detention', 'trial', 'sentence', 'jail', 'fine', 'bail','Fines'],\n",
    "    4: ['prison', 'habeas_corpus', 'detention', 'unlawful_imprisonment'],\n",
    "    5: ['services', 'prison', 'motive', 'fine', 'appeal', 'adjudication', 'trial', 'guilty', 'fraud', 'venue'],\n",
    "    6: ['kill', 'evidence', 'kidnapping', 'habeas_corpus', 'dna', 'conviction', 'crime', 'sentence', 'probation', 'assault', 'fraud', 'intent', 'fine', 'appeal','trial'],\n",
    "    7: ['evidence', 'prison', 'appeal', 'habeas_corpus', 'detention'],\n",
    "    8: ['unlawful_imprisonment', 'abuse', 'evidence', 'prison', 'assault', 'habeas_corpus', 'adjudication', 'detention', 'plea', 'fine', 'appeal','bail'],\n",
    "    9: ['plea', 'prison', 'intent', 'fine', 'habeas_corpus', 'bond', 'detention', 'unlawful_imprisonment', 'guilty', 'evidence'],\n",
    "    10:['habeas_corpus', 'bond', 'appeal'],\n",
    "    11:['evidence', 'fraud', 'habeas_corpus', 'detention'],\n",
    "    12:['abuse', 'evidence', 'arrest', 'services', 'victim', 'fine','bond']\n",
    "}"
   ]
  },
  {
   "cell_type": "code",
   "execution_count": 11,
   "id": "680a9801",
   "metadata": {},
   "outputs": [],
   "source": [
    "import numpy as np\n",
    "from neo4j import GraphDatabase\n",
    "\n",
    "execution_commands = []\n",
    "\n",
    "# for i in range(1,13):\n",
    "#     neo4j_create_statemenet = \"create (\" + \"c:CASE{number:\" + str(i) + \",date:\" + '\"' + \"20.\" + str(i) + \".1960\" + '\"' + \"})\"\n",
    "#     execution_commands.append(neo4j_create_statemenet)\n",
    "\n",
    "execution_commands.append(\"create (\" + \"c1:CASE{number:\" + str(1) + \",date:\" + '\"' + \"10.07.2009\" + '\"' + \"})\")\n",
    "execution_commands.append(\"create (\" + \"c2:CASE{number:\" + str(2) + \",date:\" + '\"' + \"24.07.1986\" + '\"' + \"})\")\n",
    "execution_commands.append(\"create (\" + \"c3:CASE{number:\" + str(3) + \",date:\" + '\"' + \"17.05.2022\" + '\"' + \"})\")\n",
    "execution_commands.append(\"create (\" + \"c4:CASE{number:\" + str(4) + \",date:\" + '\"' + \"08.08.2008\" + '\"' + \"})\")\n",
    "execution_commands.append(\"create (\" + \"c5:CASE{number:\" + str(5) + \",date:\" + '\"' + \"30.11.2010\" + '\"' + \"})\")\n",
    "execution_commands.append(\"create (\" + \"c6:CASE{number:\" + str(6) + \",date:\" + '\"' + \"27.11.2019\" + '\"' + \"})\")\n",
    "execution_commands.append(\"create (\" + \"c7:CASE{number:\" + str(7) + \",date:\" + '\"' + \"13.06.2022\" + '\"' + \"})\")\n",
    "execution_commands.append(\"create (\" + \"c8:CASE{number:\" + str(8) + \",date:\" + '\"' + \"22.05.2015\" + '\"' + \"})\")\n",
    "execution_commands.append(\"create (\" + \"c9:CASE{number:\" + str(9) + \",date:\" + '\"' + \"09.04.2019\" + '\"' + \"})\")\n",
    "execution_commands.append(\"create (\" + \"c10:CASE{number:\" + str(10) + \",date:\" + '\"' + \"12.04.2022\" + '\"' + \"})\")\n",
    "execution_commands.append(\"create (\" + \"c11:CASE{number:\" + str(11) + \",date:\" + '\"' + \"09.06.2022\" + '\"' + \"})\")\n",
    "execution_commands.append(\"create (\" + \"c12:CASE{number:\" + str(12) + \",date:\" + '\"' + \"06.05.2019\" + '\"' + \"})\")\n",
    "    \n",
    "def execute(execution_commands):\n",
    "    data_base_connection = GraphDatabase.driver(uri = \"bolt://localhost:7687\", auth=(\"neo4j\", \"password\"))\n",
    "    session = data_base_connection.session()    \n",
    "    for i in execution_commands:\n",
    "        session.run(i)\n",
    "        \n",
    "execute(execution_commands)"
   ]
  },
  {
   "cell_type": "code",
   "execution_count": null,
   "id": "d2d213d9",
   "metadata": {},
   "outputs": [],
   "source": [
    "from neo4j import GraphDatabase\n",
    "def execute(execution_commands):\n",
    "    data_base_connection = GraphDatabase.driver(uri = \"bolt://localhost:7687\", auth=(\"neo4j\", \"password\"))\n",
    "    session = data_base_connection.session()    \n",
    "    for i in execution_commands:\n",
    "        session.run(i)"
   ]
  },
  {
   "cell_type": "code",
   "execution_count": 10,
   "id": "58821a5f",
   "metadata": {},
   "outputs": [],
   "source": [
    "transaction_deletion_commands = []\n",
    "neo4j_delete_statemenet = \"MATCH(n) DETACH DELETE n\"\n",
    "transaction_deletion_commands.append(neo4j_delete_statemenet)\n",
    "execute(transaction_deletion_commands)"
   ]
  },
  {
   "cell_type": "code",
   "execution_count": 12,
   "id": "a738eb4f",
   "metadata": {},
   "outputs": [],
   "source": [
    "execution_commands = []\n",
    "for i in keywords:\n",
    "    neo4j_create_statemenet = \"create (k:KEYWORD{key:\" + '\"' + i + '\"' + \"})\"\n",
    "    execution_commands.append(neo4j_create_statemenet)\n",
    "\n",
    "execute(execution_commands)"
   ]
  },
  {
   "cell_type": "code",
   "execution_count": 13,
   "id": "c9001c90",
   "metadata": {},
   "outputs": [],
   "source": [
    "execution_commands = []\n",
    "\n",
    "for i in range(1,13):\n",
    "    for j in range(0,len(case_dict[i])):\n",
    "        neo4j_statemenet1 = \"match (c:CASE{number:\" + str(i) + \"}) , (k:KEYWORD{key:\" + '\"' + case_dict[i][j] + '\"' + \"}) MERGE (c)-[r:KEY_RELATED]->(k)\"\n",
    "        neo4j_statemenet2 = \"match (c:CASE{number:\" + str(i) + \"}) , (k:KEYWORD{key:\" + '\"' + case_dict[i][j] + '\"' + \"}) MERGE (k)-[r:CASE_RELATED]->(c)\"\n",
    "        execution_commands.append(neo4j_statemenet1)\n",
    "        execution_commands.append(neo4j_statemenet2)\n",
    "\n",
    "execute(execution_commands)"
   ]
  },
  {
   "cell_type": "code",
   "execution_count": 4,
   "id": "79105bfc",
   "metadata": {},
   "outputs": [],
   "source": []
  },
  {
   "cell_type": "code",
   "execution_count": 5,
   "id": "7ce47872",
   "metadata": {},
   "outputs": [],
   "source": []
  },
  {
   "cell_type": "code",
   "execution_count": 8,
   "id": "b700baf3",
   "metadata": {},
   "outputs": [],
   "source": []
  },
  {
   "cell_type": "code",
   "execution_count": null,
   "id": "0b495743",
   "metadata": {},
   "outputs": [],
   "source": []
  },
  {
   "cell_type": "code",
   "execution_count": null,
   "id": "1f7a3b08",
   "metadata": {},
   "outputs": [],
   "source": []
  },
  {
   "cell_type": "code",
   "execution_count": null,
   "id": "f8302efc",
   "metadata": {},
   "outputs": [],
   "source": []
  }
 ],
 "metadata": {
  "kernelspec": {
   "display_name": "Python 3",
   "language": "python",
   "name": "python3"
  },
  "language_info": {
   "codemirror_mode": {
    "name": "ipython",
    "version": 3
   },
   "file_extension": ".py",
   "mimetype": "text/x-python",
   "name": "python",
   "nbconvert_exporter": "python",
   "pygments_lexer": "ipython3",
   "version": "3.8.8"
  }
 },
 "nbformat": 4,
 "nbformat_minor": 5
}

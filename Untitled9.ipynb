{
 "cells": [
  {
   "cell_type": "code",
   "execution_count": 4,
   "id": "4ef0511c",
   "metadata": {},
   "outputs": [
    {
     "name": "stdout",
     "output_type": "stream",
     "text": [
      "^C\n",
      "Note: you may need to restart the kernel to use updated packages.\n"
     ]
    }
   ],
   "source": [
    "pip uninstall pixiedust_node"
   ]
  },
  {
   "cell_type": "code",
   "execution_count": 2,
   "id": "964549a5",
   "metadata": {},
   "outputs": [
    {
     "name": "stdout",
     "output_type": "stream",
     "text": [
      "Pixiedust database opened successfully\n"
     ]
    },
    {
     "data": {
      "text/html": [
       "\n",
       "        <div style=\"margin:10px\">\n",
       "            <a href=\"https://github.com/ibm-watson-data-lab/pixiedust\" target=\"_new\">\n",
       "                <img src=\"https://github.com/ibm-watson-data-lab/pixiedust/raw/master/docs/_static/pd_icon32.png\" style=\"float:left;margin-right:10px\"/>\n",
       "            </a>\n",
       "            <span>Pixiedust version 1.1.19</span>\n",
       "        </div>\n",
       "        "
      ],
      "text/plain": [
       "<IPython.core.display.HTML object>"
      ]
     },
     "metadata": {},
     "output_type": "display_data"
    },
    {
     "data": {
      "text/html": [
       "\n",
       "            <div style=\"margin:10px\"> \n",
       "            <a href=\"https://github.com/ibm-cds-labs/pixiedust_node\" target=\"_new\"> \n",
       "            <img src=\"https://github.com/ibm-cds-labs/pixiedust_node/raw/master/docs/_images/pdn_icon32.png\" style=\"float:left;margin-right:10px\"/> \n",
       "            </a> \n",
       "            <span>Pixiedust Node.js</span> \n",
       "            </div> \n"
      ],
      "text/plain": [
       "<IPython.core.display.HTML object>"
      ]
     },
     "metadata": {},
     "output_type": "display_data"
    },
    {
     "name": "stdout",
     "output_type": "stream",
     "text": [
      "pixiedust_node 0.2.5 started. Cells starting '%%node' may contain Node.js code.\n"
     ]
    }
   ],
   "source": [
    "import pixiedust_node"
   ]
  },
  {
   "cell_type": "code",
   "execution_count": 3,
   "id": "374fa511",
   "metadata": {},
   "outputs": [
    {
     "name": "stdout",
     "output_type": "stream",
     "text": [
      "6\n"
     ]
    }
   ],
   "source": [
    "%%node\n",
    "var x = 6;\n",
    "print(x)"
   ]
  },
  {
   "cell_type": "code",
   "execution_count": 4,
   "id": "0caf29c6",
   "metadata": {},
   "outputs": [
    {
     "name": "stdout",
     "output_type": "stream",
     "text": [
      "C:\\Program Files\\nodejs\\npm.cmd install -s request request-promise\n",
      "+ request-promise@4.2.6\n",
      "+ request@2.88.2\n",
      "added 52 packages from 62 contributors and audited 52 packages in 9.53s\n",
      "2 packages are looking for funding\n",
      "run `npm fund` for details\n",
      "found 1 moderate severity vulnerability\n",
      "run `npm audit fix` to fix them, or `npm audit` for details\n"
     ]
    }
   ],
   "source": [
    "npm.install( ('request', 'request-promise') )"
   ]
  },
  {
   "cell_type": "code",
   "execution_count": 8,
   "id": "3aa60552",
   "metadata": {},
   "outputs": [
    {
     "name": "stdout",
     "output_type": "stream",
     "text": [
      "... ..... ..... ..... ..... ... ..... ..... ..... ..... ..... ..... ..... ...\n",
      "... ...\n",
      "{\"latitude\": 1.531, \"longitude\": 63.1987, \"time\": 1682667655489}\n"
     ]
    }
   ],
   "source": [
    "%%node\n",
    "var request = require('request-promise');\n",
    "var getPosition = function(callback) {\n",
    "    var r = {\n",
    "        method:'GET',\n",
    "        url: 'http://api.open-notify.org/iss-now.json',\n",
    "        json: true\n",
    "    };\n",
    "    return request(r).then(function(body) {\n",
    "        var obj = null;\n",
    "        obj = body.iss_position\n",
    "        obj.latitude = parseFloat(obj.latitude);\n",
    "        obj.longitude = parseFloat(obj.longitude);\n",
    "        obj.time = new Date().getTime();         \n",
    "        return obj;\n",
    "    });\n",
    "};\n",
    "\n",
    "getPosition().then(function(data) {\n",
    "  print(data);\n",
    "});"
   ]
  },
  {
   "cell_type": "code",
   "execution_count": 9,
   "id": "e7e308ee",
   "metadata": {},
   "outputs": [
    {
     "name": "stdout",
     "output_type": "stream",
     "text": [
      "C:\\Program Files\\nodejs\\npm.cmd install -s express\n",
      "+ express@4.18.2\n",
      "added 54 packages from 39 contributors and audited 127 packages in 19.912s\n",
      "8 packages are looking for funding\n",
      "run `npm fund` for details\n",
      "found 1 moderate severity vulnerability\n",
      "run `npm audit fix` to fix them, or `npm audit` for details\n"
     ]
    }
   ],
   "source": [
    "npm.install( 'express' )"
   ]
  },
  {
   "cell_type": "code",
   "execution_count": 3,
   "id": "0b50bbe7",
   "metadata": {},
   "outputs": [
    {
     "name": "stdout",
     "output_type": "stream",
     "text": [
      "... ... ...\n",
      "Server is running on port 7000\n"
     ]
    }
   ],
   "source": [
    "%%node\n",
    "const express = require('express');\n",
    "const app = express();\n",
    "\n",
    "app.use(express.json({ limit: \"2mb\" }));\n",
    "\n",
    "const port = process.env.PORT || 7000;\n",
    "\n",
    "app.listen(port, () => console.log(`Server is running on port ${port}`));\n",
    "\n",
    "app.post(\"/tp\", async function (req, res) {\n",
    "  let number = req.body.abc;\n",
    "  res.send(number);\n",
    "});"
   ]
  },
  {
   "cell_type": "code",
   "execution_count": 7,
   "id": "98304f20",
   "metadata": {},
   "outputs": [
    {
     "name": "stdout",
     "output_type": "stream",
     "text": [
      "Uncaught\n",
      "[]\n"
     ]
    }
   ],
   "source": [
    "%%node\n",
    "x = []\n",
    "x.append(5)\n",
    "print(x)"
   ]
  },
  {
   "cell_type": "code",
   "execution_count": 8,
   "id": "b459b0ae",
   "metadata": {},
   "outputs": [
    {
     "name": "stdout",
     "output_type": "stream",
     "text": [
      "[5]\n"
     ]
    }
   ],
   "source": [
    "x = []\n",
    "x.append(5)\n",
    "print(x)"
   ]
  },
  {
   "cell_type": "code",
   "execution_count": 9,
   "id": "ff84704d",
   "metadata": {},
   "outputs": [
    {
     "name": "stdout",
     "output_type": "stream",
     "text": [
      "Collecting django\n",
      "  Downloading Django-4.2-py3-none-any.whl (8.0 MB)\n",
      "     ---------------------------------------- 8.0/8.0 MB 4.7 MB/s eta 0:00:00\n",
      "Collecting tzdata\n",
      "  Downloading tzdata-2023.3-py2.py3-none-any.whl (341 kB)\n",
      "     -------------------------------------- 341.8/341.8 kB 4.3 MB/s eta 0:00:00\n",
      "Collecting backports.zoneinfo\n",
      "  Downloading backports.zoneinfo-0.2.1-cp38-cp38-win_amd64.whl (38 kB)\n",
      "Collecting asgiref<4,>=3.6.0\n",
      "  Downloading asgiref-3.6.0-py3-none-any.whl (23 kB)\n",
      "Collecting sqlparse>=0.3.1\n",
      "  Downloading sqlparse-0.4.4-py3-none-any.whl (41 kB)\n",
      "     ---------------------------------------- 41.2/41.2 kB 1.9 MB/s eta 0:00:00Note: you may need to restart the kernel to use updated packages.\n",
      "Installing collected packages: tzdata, sqlparse, backports.zoneinfo, asgiref, django\n",
      "Successfully installed asgiref-3.6.0 backports.zoneinfo-0.2.1 django-4.2 sqlparse-0.4.4 tzdata-2023.3\n",
      "\n"
     ]
    },
    {
     "name": "stderr",
     "output_type": "stream",
     "text": [
      "\n",
      "[notice] A new release of pip available: 22.3.1 -> 23.1.1\n",
      "[notice] To update, run: python.exe -m pip install --upgrade pip\n"
     ]
    }
   ],
   "source": [
    "pip install django\n"
   ]
  },
  {
   "cell_type": "code",
   "execution_count": 12,
   "id": "3933cf25",
   "metadata": {
    "scrolled": true
   },
   "outputs": [
    {
     "ename": "SyntaxError",
     "evalue": "invalid syntax (<ipython-input-12-c1e86d9fd7ee>, line 1)",
     "output_type": "error",
     "traceback": [
      "\u001b[1;36m  File \u001b[1;32m\"<ipython-input-12-c1e86d9fd7ee>\"\u001b[1;36m, line \u001b[1;32m1\u001b[0m\n\u001b[1;33m    django-admin startproject fyp\u001b[0m\n\u001b[1;37m                 ^\u001b[0m\n\u001b[1;31mSyntaxError\u001b[0m\u001b[1;31m:\u001b[0m invalid syntax\n"
     ]
    }
   ],
   "source": [
    "django-admin startproject fyp"
   ]
  },
  {
   "cell_type": "code",
   "execution_count": null,
   "id": "e235a1fc",
   "metadata": {},
   "outputs": [],
   "source": []
  }
 ],
 "metadata": {
  "kernelspec": {
   "display_name": "Python 3",
   "language": "python",
   "name": "python3"
  },
  "language_info": {
   "codemirror_mode": {
    "name": "ipython",
    "version": 3
   },
   "file_extension": ".py",
   "mimetype": "text/x-python",
   "name": "python",
   "nbconvert_exporter": "python",
   "pygments_lexer": "ipython3",
   "version": "3.8.8"
  }
 },
 "nbformat": 4,
 "nbformat_minor": 5
}

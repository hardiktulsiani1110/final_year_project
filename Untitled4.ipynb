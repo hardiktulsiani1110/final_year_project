{
 "cells": [
  {
   "cell_type": "code",
   "execution_count": 1,
   "id": "0631ed1b",
   "metadata": {},
   "outputs": [
    {
     "ename": "RuntimeError",
     "evalue": "module compiled against API version 0xe but this version of numpy is 0xd",
     "output_type": "error",
     "traceback": [
      "\u001b[1;31m---------------------------------------------------------------------------\u001b[0m",
      "\u001b[1;31mRuntimeError\u001b[0m                              Traceback (most recent call last)",
      "\u001b[1;31mRuntimeError\u001b[0m: module compiled against API version 0xe but this version of numpy is 0xd"
     ]
    },
    {
     "ename": "ImportError",
     "evalue": "initialization failed",
     "output_type": "error",
     "traceback": [
      "\u001b[1;31m---------------------------------------------------------------------------\u001b[0m",
      "\u001b[1;31mImportError\u001b[0m                               Traceback (most recent call last)",
      "\u001b[1;31mImportError\u001b[0m: numpy.core.multiarray failed to import",
      "\nThe above exception was the direct cause of the following exception:\n",
      "\u001b[1;31mSystemError\u001b[0m                               Traceback (most recent call last)",
      "\u001b[1;31mSystemError\u001b[0m: <built-in method __contains__ of dict object at 0x000001EBF221F780> returned a result with an error set",
      "\nThe above exception was the direct cause of the following exception:\n",
      "\u001b[1;31mImportError\u001b[0m                               Traceback (most recent call last)",
      "\u001b[1;32m<ipython-input-1-7cb8f3f2ef0d>\u001b[0m in \u001b[0;36m<module>\u001b[1;34m\u001b[0m\n\u001b[1;32m----> 1\u001b[1;33m \u001b[1;32mfrom\u001b[0m \u001b[0msummarizer\u001b[0m \u001b[1;32mimport\u001b[0m \u001b[0mSummarizer\u001b[0m\u001b[1;33m,\u001b[0m\u001b[0mTransformerSummarizer\u001b[0m\u001b[1;33m\u001b[0m\u001b[1;33m\u001b[0m\u001b[0m\n\u001b[0m",
      "\u001b[1;32m~\\AppData\\Roaming\\Python\\Python38\\site-packages\\summarizer\\__init__.py\u001b[0m in \u001b[0;36m<module>\u001b[1;34m\u001b[0m\n\u001b[1;32m----> 1\u001b[1;33m \u001b[1;32mfrom\u001b[0m \u001b[0msummarizer\u001b[0m\u001b[1;33m.\u001b[0m\u001b[0mbert\u001b[0m \u001b[1;32mimport\u001b[0m \u001b[0mSummarizer\u001b[0m\u001b[1;33m,\u001b[0m \u001b[0mTransformerSummarizer\u001b[0m\u001b[1;33m\u001b[0m\u001b[1;33m\u001b[0m\u001b[0m\n\u001b[0m\u001b[0;32m      2\u001b[0m \u001b[1;33m\u001b[0m\u001b[0m\n\u001b[0;32m      3\u001b[0m \u001b[0m__all__\u001b[0m \u001b[1;33m=\u001b[0m \u001b[1;33m[\u001b[0m\u001b[1;34m\"Summarizer\"\u001b[0m\u001b[1;33m,\u001b[0m \u001b[1;34m\"TransformerSummarizer\"\u001b[0m\u001b[1;33m]\u001b[0m\u001b[1;33m\u001b[0m\u001b[1;33m\u001b[0m\u001b[0m\n",
      "\u001b[1;32m~\\AppData\\Roaming\\Python\\Python38\\site-packages\\summarizer\\bert.py\u001b[0m in \u001b[0;36m<module>\u001b[1;34m\u001b[0m\n\u001b[0;32m      2\u001b[0m \u001b[1;32mfrom\u001b[0m \u001b[0mtyping\u001b[0m \u001b[1;32mimport\u001b[0m \u001b[0mList\u001b[0m\u001b[1;33m,\u001b[0m \u001b[0mOptional\u001b[0m\u001b[1;33m,\u001b[0m \u001b[0mUnion\u001b[0m\u001b[1;33m\u001b[0m\u001b[1;33m\u001b[0m\u001b[0m\n\u001b[0;32m      3\u001b[0m \u001b[1;33m\u001b[0m\u001b[0m\n\u001b[1;32m----> 4\u001b[1;33m from transformers import (AlbertModel, AlbertTokenizer, BartModel, BigBirdModel, BigBirdTokenizer,\n\u001b[0m\u001b[0;32m      5\u001b[0m                           \u001b[0mBartTokenizer\u001b[0m\u001b[1;33m,\u001b[0m \u001b[0mBertModel\u001b[0m\u001b[1;33m,\u001b[0m \u001b[0mBertTokenizer\u001b[0m\u001b[1;33m,\u001b[0m\u001b[1;33m\u001b[0m\u001b[1;33m\u001b[0m\u001b[0m\n\u001b[0;32m      6\u001b[0m                           \u001b[0mCamembertModel\u001b[0m\u001b[1;33m,\u001b[0m \u001b[0mCamembertTokenizer\u001b[0m\u001b[1;33m,\u001b[0m \u001b[0mCTRLModel\u001b[0m\u001b[1;33m,\u001b[0m\u001b[1;33m\u001b[0m\u001b[1;33m\u001b[0m\u001b[0m\n",
      "\u001b[1;32m~\\anaconda3\\lib\\site-packages\\transformers\\__init__.py\u001b[0m in \u001b[0;36m<module>\u001b[1;34m\u001b[0m\n\u001b[0;32m     28\u001b[0m \u001b[1;33m\u001b[0m\u001b[0m\n\u001b[0;32m     29\u001b[0m \u001b[1;31m# Check the dependencies satisfy the minimal versions required.\u001b[0m\u001b[1;33m\u001b[0m\u001b[1;33m\u001b[0m\u001b[1;33m\u001b[0m\u001b[0m\n\u001b[1;32m---> 30\u001b[1;33m \u001b[1;32mfrom\u001b[0m \u001b[1;33m.\u001b[0m \u001b[1;32mimport\u001b[0m \u001b[0mdependency_versions_check\u001b[0m\u001b[1;33m\u001b[0m\u001b[1;33m\u001b[0m\u001b[0m\n\u001b[0m\u001b[0;32m     31\u001b[0m from .utils import (\n\u001b[0;32m     32\u001b[0m     \u001b[0mOptionalDependencyNotAvailable\u001b[0m\u001b[1;33m,\u001b[0m\u001b[1;33m\u001b[0m\u001b[1;33m\u001b[0m\u001b[0m\n",
      "\u001b[1;32m~\\anaconda3\\lib\\site-packages\\transformers\\dependency_versions_check.py\u001b[0m in \u001b[0;36m<module>\u001b[1;34m\u001b[0m\n\u001b[0;32m     15\u001b[0m \u001b[1;33m\u001b[0m\u001b[0m\n\u001b[0;32m     16\u001b[0m \u001b[1;32mfrom\u001b[0m \u001b[1;33m.\u001b[0m\u001b[0mdependency_versions_table\u001b[0m \u001b[1;32mimport\u001b[0m \u001b[0mdeps\u001b[0m\u001b[1;33m\u001b[0m\u001b[1;33m\u001b[0m\u001b[0m\n\u001b[1;32m---> 17\u001b[1;33m \u001b[1;32mfrom\u001b[0m \u001b[1;33m.\u001b[0m\u001b[0mutils\u001b[0m\u001b[1;33m.\u001b[0m\u001b[0mversions\u001b[0m \u001b[1;32mimport\u001b[0m \u001b[0mrequire_version\u001b[0m\u001b[1;33m,\u001b[0m \u001b[0mrequire_version_core\u001b[0m\u001b[1;33m\u001b[0m\u001b[1;33m\u001b[0m\u001b[0m\n\u001b[0m\u001b[0;32m     18\u001b[0m \u001b[1;33m\u001b[0m\u001b[0m\n\u001b[0;32m     19\u001b[0m \u001b[1;33m\u001b[0m\u001b[0m\n",
      "\u001b[1;32m~\\anaconda3\\lib\\site-packages\\transformers\\utils\\__init__.py\u001b[0m in \u001b[0;36m<module>\u001b[1;34m\u001b[0m\n\u001b[0;32m     32\u001b[0m     \u001b[0mreplace_return_docstrings\u001b[0m\u001b[1;33m,\u001b[0m\u001b[1;33m\u001b[0m\u001b[1;33m\u001b[0m\u001b[0m\n\u001b[0;32m     33\u001b[0m )\n\u001b[1;32m---> 34\u001b[1;33m from .generic import (\n\u001b[0m\u001b[0;32m     35\u001b[0m     \u001b[0mContextManagers\u001b[0m\u001b[1;33m,\u001b[0m\u001b[1;33m\u001b[0m\u001b[1;33m\u001b[0m\u001b[0m\n\u001b[0;32m     36\u001b[0m     \u001b[0mExplicitEnum\u001b[0m\u001b[1;33m,\u001b[0m\u001b[1;33m\u001b[0m\u001b[1;33m\u001b[0m\u001b[0m\n",
      "\u001b[1;32m~\\anaconda3\\lib\\site-packages\\transformers\\utils\\generic.py\u001b[0m in \u001b[0;36m<module>\u001b[1;34m\u001b[0m\n\u001b[0;32m     31\u001b[0m \u001b[1;33m\u001b[0m\u001b[0m\n\u001b[0;32m     32\u001b[0m \u001b[1;32mif\u001b[0m \u001b[0mis_tf_available\u001b[0m\u001b[1;33m(\u001b[0m\u001b[1;33m)\u001b[0m\u001b[1;33m:\u001b[0m\u001b[1;33m\u001b[0m\u001b[1;33m\u001b[0m\u001b[0m\n\u001b[1;32m---> 33\u001b[1;33m     \u001b[1;32mimport\u001b[0m \u001b[0mtensorflow\u001b[0m \u001b[1;32mas\u001b[0m \u001b[0mtf\u001b[0m\u001b[1;33m\u001b[0m\u001b[1;33m\u001b[0m\u001b[0m\n\u001b[0m\u001b[0;32m     34\u001b[0m \u001b[1;33m\u001b[0m\u001b[0m\n\u001b[0;32m     35\u001b[0m \u001b[1;32mif\u001b[0m \u001b[0mis_flax_available\u001b[0m\u001b[1;33m(\u001b[0m\u001b[1;33m)\u001b[0m\u001b[1;33m:\u001b[0m\u001b[1;33m\u001b[0m\u001b[1;33m\u001b[0m\u001b[0m\n",
      "\u001b[1;32m~\\anaconda3\\lib\\site-packages\\tensorflow\\__init__.py\u001b[0m in \u001b[0;36m<module>\u001b[1;34m\u001b[0m\n\u001b[0;32m     39\u001b[0m \u001b[1;32mimport\u001b[0m \u001b[0msys\u001b[0m \u001b[1;32mas\u001b[0m \u001b[0m_sys\u001b[0m\u001b[1;33m\u001b[0m\u001b[1;33m\u001b[0m\u001b[0m\n\u001b[0;32m     40\u001b[0m \u001b[1;33m\u001b[0m\u001b[0m\n\u001b[1;32m---> 41\u001b[1;33m \u001b[1;32mfrom\u001b[0m \u001b[0mtensorflow\u001b[0m\u001b[1;33m.\u001b[0m\u001b[0mpython\u001b[0m\u001b[1;33m.\u001b[0m\u001b[0mtools\u001b[0m \u001b[1;32mimport\u001b[0m \u001b[0mmodule_util\u001b[0m \u001b[1;32mas\u001b[0m \u001b[0m_module_util\u001b[0m\u001b[1;33m\u001b[0m\u001b[1;33m\u001b[0m\u001b[0m\n\u001b[0m\u001b[0;32m     42\u001b[0m \u001b[1;32mfrom\u001b[0m \u001b[0mtensorflow\u001b[0m\u001b[1;33m.\u001b[0m\u001b[0mpython\u001b[0m\u001b[1;33m.\u001b[0m\u001b[0mutil\u001b[0m\u001b[1;33m.\u001b[0m\u001b[0mlazy_loader\u001b[0m \u001b[1;32mimport\u001b[0m \u001b[0mLazyLoader\u001b[0m \u001b[1;32mas\u001b[0m \u001b[0m_LazyLoader\u001b[0m\u001b[1;33m\u001b[0m\u001b[1;33m\u001b[0m\u001b[0m\n\u001b[0;32m     43\u001b[0m \u001b[1;33m\u001b[0m\u001b[0m\n",
      "\u001b[1;32m~\\anaconda3\\lib\\site-packages\\tensorflow\\python\\__init__.py\u001b[0m in \u001b[0;36m<module>\u001b[1;34m\u001b[0m\n\u001b[0;32m     35\u001b[0m \u001b[1;33m\u001b[0m\u001b[0m\n\u001b[0;32m     36\u001b[0m \u001b[1;32mfrom\u001b[0m \u001b[0mtensorflow\u001b[0m\u001b[1;33m.\u001b[0m\u001b[0mpython\u001b[0m \u001b[1;32mimport\u001b[0m \u001b[0mpywrap_tensorflow\u001b[0m \u001b[1;32mas\u001b[0m \u001b[0m_pywrap_tensorflow\u001b[0m\u001b[1;33m\u001b[0m\u001b[1;33m\u001b[0m\u001b[0m\n\u001b[1;32m---> 37\u001b[1;33m \u001b[1;32mfrom\u001b[0m \u001b[0mtensorflow\u001b[0m\u001b[1;33m.\u001b[0m\u001b[0mpython\u001b[0m\u001b[1;33m.\u001b[0m\u001b[0meager\u001b[0m \u001b[1;32mimport\u001b[0m \u001b[0mcontext\u001b[0m\u001b[1;33m\u001b[0m\u001b[1;33m\u001b[0m\u001b[0m\n\u001b[0m\u001b[0;32m     38\u001b[0m \u001b[1;33m\u001b[0m\u001b[0m\n\u001b[0;32m     39\u001b[0m \u001b[1;31m# pylint: enable=wildcard-import\u001b[0m\u001b[1;33m\u001b[0m\u001b[1;33m\u001b[0m\u001b[1;33m\u001b[0m\u001b[0m\n",
      "\u001b[1;32m~\\anaconda3\\lib\\site-packages\\tensorflow\\python\\eager\\context.py\u001b[0m in \u001b[0;36m<module>\u001b[1;34m\u001b[0m\n\u001b[0;32m     32\u001b[0m \u001b[1;32mfrom\u001b[0m \u001b[0mtensorflow\u001b[0m\u001b[1;33m.\u001b[0m\u001b[0mpython\u001b[0m \u001b[1;32mimport\u001b[0m \u001b[0mpywrap_tfe\u001b[0m\u001b[1;33m\u001b[0m\u001b[1;33m\u001b[0m\u001b[0m\n\u001b[0;32m     33\u001b[0m \u001b[1;32mfrom\u001b[0m \u001b[0mtensorflow\u001b[0m\u001b[1;33m.\u001b[0m\u001b[0mpython\u001b[0m \u001b[1;32mimport\u001b[0m \u001b[0mtf2\u001b[0m\u001b[1;33m\u001b[0m\u001b[1;33m\u001b[0m\u001b[0m\n\u001b[1;32m---> 34\u001b[1;33m \u001b[1;32mfrom\u001b[0m \u001b[0mtensorflow\u001b[0m\u001b[1;33m.\u001b[0m\u001b[0mpython\u001b[0m\u001b[1;33m.\u001b[0m\u001b[0mclient\u001b[0m \u001b[1;32mimport\u001b[0m \u001b[0mpywrap_tf_session\u001b[0m\u001b[1;33m\u001b[0m\u001b[1;33m\u001b[0m\u001b[0m\n\u001b[0m\u001b[0;32m     35\u001b[0m \u001b[1;32mfrom\u001b[0m \u001b[0mtensorflow\u001b[0m\u001b[1;33m.\u001b[0m\u001b[0mpython\u001b[0m\u001b[1;33m.\u001b[0m\u001b[0meager\u001b[0m \u001b[1;32mimport\u001b[0m \u001b[0mexecutor\u001b[0m\u001b[1;33m\u001b[0m\u001b[1;33m\u001b[0m\u001b[0m\n\u001b[0;32m     36\u001b[0m \u001b[1;32mfrom\u001b[0m \u001b[0mtensorflow\u001b[0m\u001b[1;33m.\u001b[0m\u001b[0mpython\u001b[0m\u001b[1;33m.\u001b[0m\u001b[0meager\u001b[0m \u001b[1;32mimport\u001b[0m \u001b[0mmonitoring\u001b[0m\u001b[1;33m\u001b[0m\u001b[1;33m\u001b[0m\u001b[0m\n",
      "\u001b[1;32m~\\anaconda3\\lib\\site-packages\\tensorflow\\python\\client\\pywrap_tf_session.py\u001b[0m in \u001b[0;36m<module>\u001b[1;34m\u001b[0m\n\u001b[0;32m     17\u001b[0m \u001b[1;31m# pylint: disable=invalid-import-order,g-bad-import-order, wildcard-import, unused-import\u001b[0m\u001b[1;33m\u001b[0m\u001b[1;33m\u001b[0m\u001b[1;33m\u001b[0m\u001b[0m\n\u001b[0;32m     18\u001b[0m \u001b[1;32mfrom\u001b[0m \u001b[0mtensorflow\u001b[0m\u001b[1;33m.\u001b[0m\u001b[0mpython\u001b[0m \u001b[1;32mimport\u001b[0m \u001b[0mpywrap_tensorflow\u001b[0m\u001b[1;33m\u001b[0m\u001b[1;33m\u001b[0m\u001b[0m\n\u001b[1;32m---> 19\u001b[1;33m \u001b[1;32mfrom\u001b[0m \u001b[0mtensorflow\u001b[0m\u001b[1;33m.\u001b[0m\u001b[0mpython\u001b[0m\u001b[1;33m.\u001b[0m\u001b[0mclient\u001b[0m\u001b[1;33m.\u001b[0m\u001b[0m_pywrap_tf_session\u001b[0m \u001b[1;32mimport\u001b[0m \u001b[1;33m*\u001b[0m\u001b[1;33m\u001b[0m\u001b[1;33m\u001b[0m\u001b[0m\n\u001b[0m\u001b[0;32m     20\u001b[0m \u001b[1;32mfrom\u001b[0m \u001b[0mtensorflow\u001b[0m\u001b[1;33m.\u001b[0m\u001b[0mpython\u001b[0m\u001b[1;33m.\u001b[0m\u001b[0mclient\u001b[0m\u001b[1;33m.\u001b[0m\u001b[0m_pywrap_tf_session\u001b[0m \u001b[1;32mimport\u001b[0m \u001b[0m_TF_SetTarget\u001b[0m\u001b[1;33m\u001b[0m\u001b[1;33m\u001b[0m\u001b[0m\n\u001b[0;32m     21\u001b[0m \u001b[1;32mfrom\u001b[0m \u001b[0mtensorflow\u001b[0m\u001b[1;33m.\u001b[0m\u001b[0mpython\u001b[0m\u001b[1;33m.\u001b[0m\u001b[0mclient\u001b[0m\u001b[1;33m.\u001b[0m\u001b[0m_pywrap_tf_session\u001b[0m \u001b[1;32mimport\u001b[0m \u001b[0m_TF_SetConfig\u001b[0m\u001b[1;33m\u001b[0m\u001b[1;33m\u001b[0m\u001b[0m\n",
      "\u001b[1;31mImportError\u001b[0m: initialization failed"
     ]
    }
   ],
   "source": [
    "from summarizer import Summarizer,TransformerSummarizer"
   ]
  },
  {
   "cell_type": "code",
   "execution_count": 2,
   "id": "fe297729",
   "metadata": {},
   "outputs": [
    {
     "name": "stderr",
     "output_type": "stream",
     "text": [
      "Some weights of the model checkpoint at bert-large-uncased were not used when initializing BertModel: ['cls.seq_relationship.bias', 'cls.predictions.bias', 'cls.seq_relationship.weight', 'cls.predictions.transform.dense.weight', 'cls.predictions.transform.LayerNorm.bias', 'cls.predictions.decoder.weight', 'cls.predictions.transform.LayerNorm.weight', 'cls.predictions.transform.dense.bias']\n",
      "- This IS expected if you are initializing BertModel from the checkpoint of a model trained on another task or with another architecture (e.g. initializing a BertForSequenceClassification model from a BertForPreTraining model).\n",
      "- This IS NOT expected if you are initializing BertModel from the checkpoint of a model that you expect to be exactly identical (initializing a BertForSequenceClassification model from a BertForSequenceClassification model).\n"
     ]
    }
   ],
   "source": [
    "bert_model = Summarizer()"
   ]
  },
  {
   "cell_type": "code",
   "execution_count": 14,
   "id": "b3e50da4",
   "metadata": {},
   "outputs": [],
   "source": [
    "body2 = '''\n",
    "The  services  of  respondents\t2 and  3,  engaged  as\tward\n",
    "servants in the J. J. Group Of Hospital, Bombay, under State\n",
    "control\t and management were retrenched without\t payment  of\n",
    "compensation  as  required by S. 25F(b)\t of  the  Industrial\n",
    "Disputes\n",
    "867\n",
    "Act, 1947.  The respondents applied to the High Court for  a\n",
    "writ  of mandamus under Art. 226 of the\t Constitution.\t The\n",
    "single\tjudge who heard the matter held that non-payment  of\n",
    "retrenchment  compensation did not render  the\tretrenchment\n",
    "orders\tinvalid\t as S. 25I of the Act  provided\t a  specific\n",
    "remedy for its recovery and dismissed the application.\t The\n",
    "Division Bench on appeal reversed the decision of the single\n",
    "judge  upholding the respondents' contention that  the\tsaid\n",
    "hospitals were an industry as defined by S. 2(i) of the\t Act\n",
    "and  non-payment of retrenchment compensation  rendered\t the\n",
    "retrenchment bad in law.  On appeal by the State of Bombay.\n",
    "Held, that the decision of the Division Bench was right and\n",
    "must be affirmed.\n",
    "The  mandatory\tlanguage  of S.\t 25F(b)\t of  the  Industrial\n",
    "Disputes Act, 1947, plain and unambiguous in effect,  leaves\n",
    "no  manner  of\tdoubt that the payment\tof  compensation  as\n",
    "required by it is a condition precedent to retrenchment\t and\n",
    "that  S.  25I  Of the Act is intended  to  provide  for\t the\n",
    "recovery  of other monies that became due to  the  employees\n",
    "under Ch.  V of the Act.\n",
    "The  object and the scope of the Act, as apparent  from\t its\n",
    "various provisions, made it amply clear that the Legislature\n",
    "in  defining the word 'industry' in s. 2(j) of the  Act\t was\n",
    "deliberately  using term of wide import in its first  clause\n",
    "and  referring to several other industries in the second  in\n",
    "an   inclusive\t way  obviously\t denoting   extention.\t  In\n",
    "construing the definition, therefore, it is inappropriate to\n",
    "apply  the  maxim noscitur a sociis so as  to  restrict\t its\n",
    "meaning.  The maxim is a rule of construction and can  apply\n",
    "only  where the intention of the Legislature in\t associating\n",
    "terms  of wider import with those or narrower import or\t the\n",
    "meaning of the wider terms used is in doubt.\n",
    "The  corporation of Glasgow v. Glasgow Tramway\tand  Omnibus\n",
    "Co.  Ltd., 1898 A. C. 631, referred to.\n",
    "Nor  can  undue importance be attached to  the\tconventional\n",
    "meaning\t attributed to trade or business in  construing\t the\n",
    "wide  words of the definition since it has lost some of\t its\n",
    "force  and can no longer be wholly valid for the purpose  of\n",
    "industrial  adjudication in a modern welfare state.   It  is\n",
    "clear that the presence of a profit motive or the investment\n",
    "of  capital, traditionally associated with notion  of  trade\n",
    "and  business,\tcan  be no indispensable  requisite  for  an\n",
    "industry under S. 2(j) of the Act.\n",
    "Such  activities  of  the  Government  as  can\tproperly  be\n",
    "decribed  as  regal  or\t sovereign  activities\teasily\tfall\n",
    "outside the scope of the definition.  But the field of\tsuch\n",
    "activities  cannot  be extended to  cover  other  activities\n",
    "which  are undertaken by the State in implementation of\t the\n",
    "Directive  Principles  of State Policy and the\tideal  of  a\n",
    "welfare State.\n",
    "Coomber v. Justices of Berks, 9 A. C. 61, referred to.\n",
    "Although  it 'may not be possible to enumerate all  possible\n",
    "attributes that can make an activity an undertaking under S.\n",
    "2(j)  as being analogous to trade or business,\tthe  working\n",
    "principle  should  be that any activity\t systematically\t and\n",
    "habitually under-\n",
    "868\n",
    "     taken  for the production or distribution of  goods  or\n",
    "for the rendering of material services to the community or a\n",
    "part of it  with the help of employees organised or arranged\n",
    "in  the\t manner\t   of  a  trade\t or  business  in  such\t  an\n",
    "undertaking.\n",
    "  No question of the application of the doctrine of quid pro\n",
    "quo    can arise in deciding such a matter,  for  that would\n",
    "only  be  raising the question of profit motive\t in  another\n",
    "form.\n",
    "So judged there could be no doubt that the State in  running\n",
    "the hospitals in question was carrying on an industry within\n",
    "the meaning of the Act.\n",
    "D.  N.\tBanerji\t v. P. R. Mukherjee, (1953) S.\tC.  R.\t302,\n",
    "Baroda Borough Municipality v. Its Workmen, (1957) S. C.  R.\n",
    "33, Sri Vishuddhananda Saraswathi Marwari Hospital v.  Their\n",
    "Workmen\t (1952)\t II  L. L. J. 327 and  The  Federated  State\n",
    "School\tTeachers' Association of Australia v. The  State  of\n",
    "Victoria & Ors., (1929) 41 C. L. R. 569, referred to.\n",
    "Brij  Mohan Bagaria v. Chatterjec (N.  C.) (1958) L.  L.  J.\n",
    "190, disapproved.\n",
    "\n",
    "\n",
    "\n",
    "JUDGMENT:\n",
    "CIVIL APPELLATE J-URISDICTION: Civil Appeal No. 712 of 1957. Appeal from the judgment and order dated April 18, 1956, of the Bombay High Court in Appeal No. 65 of 1955, arising out of the judgment and order dated July 28, 1955, of the said High Court is Misc. Petition No. 113 of 1955. C. K Daphtary, Solicitor-General of India, and R. H. Dhebar, for the appellants.\n",
    "\n",
    "K. R. Chaudhuri, T. S. Venkataraman and K. R. Sharma, for the respondents.\n",
    "\n",
    "       1960.\tJanuary\t  29.\t The   Judgment\t  of   the    Court\n",
    "       was delivered by\n",
    "GAJENDRAGADKAR, J.-This is an appeal by the State of Bombay (hereinafter called the appellant) and two others and it arises from a writ petition filed against it by the Hospital Mazdoor Sabha, a trade union registered under the Industrial Trade Unions Act XIV of 1926 and two of its members Mrs. Vatsala Narayan and Mrs. Ruth Isaac (hereinafter called respondents I to 3). Respondents IQ and 3 were employed as Ward servants in the J. J. group of Hospitals. The superintendent of this said group of Hospitals informed the said respondents by notices issued respectively against them that their services would be terminated with effect from the dates mentioned in the said notices and in accordance with the said notices their services were in fact terminated;\n",
    "\n",
    "subsequently in their place two State servants who were discharged from the Civil Supplies Department were appointed. The writ petition filed by the respondents alleged that the retrenchment of respondents 2 and 3 was void as it did not comply with the mandatory provisions of ss. 25F and 25H of the Industrial Disputes Act, 1947 (14 of 1947) (hereinafter called the Act) and it claimed a writ of mandamus directing the appellant to reinstate them in their posts. This petition was resisted by the appellant on several grounds. It was urged that the orders terminating the services of respondents 2 and 3 were not void and so the respondents' claim for a writ was unjustified on the merits and it was argued that the writ application was wholly misconceived inasmuch as the J. J group of Hospitals did not constitute an industry and so the relevant provisions of the Act were inapplicable to the respondent's case. This writ petition was heard by Tendolkar J. The learned judge did not think it necessary to consider what he called the somewhat ticklish question as to whether the group of Hospitals constitutes an industry because he held that even assuming that the relevant provisions of the Act were applicable and could be invoked by the respondents it was not shown that the impugned orders were void. In his opinion non-compliance with the provisions of s. 251' did not invalidate the said orders, and it was open to the respondents to seek for an appropriate remedy under s. 251 of the Act. He also held that the question about the application of s. 25H did not arise. On these findings the writ petition filed by the respondents was dismissed. The matter was then taken before the Court of Appeal. The Court of Appeal held that the impugned orders had not complied with the mandatory provisions of s. 25F and so they were invalid and inoperative. That is why the question as to whether s. 25H applied was not considered by it. The finding that the impugned orders were invalid for contravention of the mandatory provisions of s. 25F made it necessary to decide the larger issue as to whether the Act applied to the Hospitals. The Court of Appeal has observed that it was first inclined to send the matter back to Tendolkar J. but it was requested by the learned counsel appearing for both the parties that it Would be better if the said question was decided by it as it was a question of law and the decision of the said issue by the Court of Appeal would avoid a remand and a further appeal. That is how the issue was considered by the Court of Appeal and answered in favour of the respondents. In the result the decision of Tendolkar J. was reversed, the writ petition was allowed and a writ in the nature of mandamus was issued against the appellant.\n",
    "\n",
    "The appellant then applied for and obtained a certificate of fitness from the Bombay High Court and with the said certificate it has brought the present appeal before us. On behalf of the appellant two points have been raised for our decision in the present appeal: Was the Appellate Court justified.in holding that the contravention of the material provisions of s. 25F of the Act rendered the impugned orders invalid; and do the relevant provisions of the Act apply to the group of Hospitals run by the appellant; are they an industry within the meaning of the Act ?\n",
    "\n",
    "Before dealing with these points it would be relevant to state the material facts in regard to the group of Hospitals themselves which are not in dispute. This group consists of five Hospitals. It appears that in 1835 Sir Robert Grant, the then Governor of Bombay, desired to start an institution for the purposes of imparting medical education in the Presidency of Bombay. His proposal in that behalf was sanctioned by the Board of Directors of the East India Company and funds amounting to Rs. 44,000 were collected for the purpose and an equal amount was contributed by the Directors to defray the cost of construction of the College building. 'In 1843 the foundation of the Medical College building was laid and the same was completed in 1845. About that time an idea of building a hospital for the sick people of all classes and castes was mooted and Sir Jamsetjee Jeejibboy offered donation and some contribution was made by the Government with which the J. J. Hospital was constructed and it was formally opened on May 15, 1845. Similarly the other four Hospitals in the group were built in course of time from donations. Except for a small amount of Rs. 10,000 the rest of the expenditure which is in the neighbourhood of Rs. 27 lakhs is entirely met by the appellant out of the grant sanctioned in the budget under the bead \" 38-Medical \". The group is under the administrative control of the Surgeon- General of the appellant and its day-to-day affairs are conducted and controlled by the Superintendent who is a full time employee of the appellant; the residential staff including the Resident Medical Officers, Assistant Medical Officers, Housemen, Nurses and others are all full-time employees of the -appellant and their salaries are drawn on the establishment pay bills every month and paid entirely by the appellant. This group serves as a clinical training ground for students of the Grant Medical College which is a Government Medical College run and . managed by the appellant for imparting medical sciences leading to the Degrees of Bachelor of Medicine and Bachelor of Surgery of the Bombay University as well as various Post-Graduate qualifications of the said University and the College of Physicians and Surgeons, Bombay; the group is thus run and managed by the appellant to provide medical relief and to promote the health of the people of Bombay.\n",
    "\n",
    "Now, turning to the first point, it may be stated that the facts on which the respondents' plea is based are not in dispute. It is conceded that the services of respondents 2 and 3 have been retrenched though it may be for the purpose of making room for other Government servants with a longer record of service who had to be retrenched owing to the closure of the appellant',-, Civil Supplies Department,. It is also not disputed that the said respondents had not been paid at the time of retrenchment compensation as prescribed by s. 25F(b). The respondents' contention is that the failure to comply with the said requirement makes the order of retrenchment invalid. This plea has been upheld by the Court of Appeal. Section 25F (b) provides that no workman employed III in any industry who has been in continuous service for not less than one year under an employer shall beretrenched by that employer until he has been paid at the time of retrenchment compensation which shall be equivalent to fifteen days' average pay for every completed year of service or any part thereof in excess of six months. Clauses (a) and (c) of the said section prescribe similar conditions but we are not concerned with them. On a plain reading of s. 25F (b) it is clear that the requirement prescribed by it is a condition precedent for the retrenchment of the workman. The section provides that no workman shall be retrenched until the condition in question has been satisfied. It is difficult to accede to the argument that where the section imposes in mandatory terms a condition precedent, non-compliance with the said condition would not render the impugned retrenchment invalid. The argument which appealed to Tendolkar, J., however, was that the consequence of non-compliance with the requirement of s. 25F (b) was not to render the impugned retrenchment invalid, because be thought that by s. 251 a specific provision has been made for the recovery of the amount prescribed by s. 25F (b). Section 251 provides for the recovery of monies due from employers under Ch. V, and according to Tendolkor J. this provision covers the amount due to the workman by way of compensation under s. 25F (b). In our opinion, this view is untenable. Having regard to the fact that the words used in s. 25F (b) are mandatory and their effect is plain and unambiguous it seems to us that the Court of Appeal was right in holding that s. 251 covered cases of recover of ninnies other than those specified in s. 25F (b), an it is obvious that there are several other cases i which monies become due from the employers to th employees under Ch. V; it is for the recovery of the monies that s. 251 had been enacted. Therefore, we see no substance in the argument that the Court of Appeal has misconstrued s. 25F\n",
    "\n",
    "(b). That being so failure to comply with the said provision renders the impugned orders invalid and inoperative, Does the said provision apply to the present proceedings ? In other words, is the Act itself applicable to the group of Hospitals with which are concerned ? That is the next question which calls for an answer in the present appeal. Indeed it is this general question which has been strenuously argued before us by the learned Solicitor- General on behalf of the appellant. The decision of this question depends upon the interpretation of the definition of industry \" prescribed by s. 2(j) of the Act. Let us first read the definition. Section 2(j) providies that ',industry\" means any business, trade, undertaking, manufacture of calling of employers and includes any calling, service, employment, handicraft, or industrial occupation or avocation of workmen. It would be noticed that the words used in the definition are very wide in their import and even so its latter part purports to provide an inclusive definition. The word \"undertaking\" according to Webster means\" anything undertaken ; any business, work or project which one engages in or attempts, an enterprise \". Similarly, \" trade \" according to Halsbury, in its primary meaning, is \" exchange of goods for goods or goods for money \", and in its secondary meaning it is \" any business carried on with a view to profit whether manual or mercantile, as distinguished from the liberal arts or learned professions and from agriculture \"; whereas \" business \" is a wider term not synonymous with trade and means practically \" anything which is an occupation as distinguished from a pleasure The word SC calling \" again is very wide; it means`one's usual occupation, vocation, business or trade\"; so is the word \"service\" very wide in its import. Prima facie, if the definition has deliberately used words of such wide import, it would be necessary to read those words in their wide denotation; and so read, Hospitals cannot be excluded from the definition.\n",
    "\n",
    "It is, however, contended that, in construing the definition, we must adopt the rule of construction noscuntur a sociis. This rule, according to Maxwell, means that, when two or more words which are susceptible of analogous meaning are coupled toge-\n",
    "\n",
    "ther they are understood to be used in their cognate sense. They take is it were their colour from each other, that is, the more general is restricted to a sense analogous to a less general. The same rule is thus interpreted in \" Words and Phrases \" (Vol. XIV, P. 207): \" Associated words take their meaning from one another under the doctrine of noscuntur a sociis, the philosophy of which is that the meaning of a doubtful word may be ascertained by reference to the meaning of words associated with it; such doctrine is broader than the maxim Ejusdem Generis.\" In fact the latter I maxim \"is only an illustration or specific application of the broader maxim noscuntur a sociis \". The argument is that certain essential features or attributes are invariably associated with the words \" business and trade \" as understood in the popular and conventional sense, and it is the colour of these attributes which is taken by the other words used in the definition though their normal import may be much wider. We are not impressed by this argument. It must be borne in mind that noscuntur a sociis is merely a rule of construction and it cannot prevail in cases where it is clear that the wider words have been deliberately used in order to make the scope of the defined word correspondingly wider. 1 is only where the intention of the Legislature i associating wider words with words of narrow significance is doubtful, or otherwise not clear that the present rule of construction can be useful applied. It can also be applied where the meaning of the words of wider import is doubtful; but, where the object of the Legislature in using wider words i clear and free of ambiguity, the rule of construction in question cannot be pressed into service. As ha been observed by Earl of Halsbury, L. C., in The Corporation of Glasgow v. Glasgow Tramway an Omnibus Co. Ltd. (1), in dealing with the wider word used in s. 6 of Valuation of Lands (Scotland) Act, 1854 \" the words 'free from all expenses whatever i connection with the said tramways' appear to me to be so wide in their application that I should have thought it impossible to qualify or cut them down by their being associated with other words on the (1) (1898) A.C 63, at p. 634.\n",
    "\n",
    "principle of their being ejusdem generis with the previous words enumerated \". If the object and scope -of the statute are considered there would be no difficulty in holding that the relevant words of wide import have been deliberately used by the Legislature in defining \" industry\" in s. 2(j). The object of the Act was to make provision for the investigation and settlement of industrial disputes, and the extent and scope of its provisions would be realised if we bear in mind the definition of \" industrial dispute \" given by s. 2(k), of \" wagesby s. 2(rr), \" workman \" by s. 2(s), and of \" employer by s. 2(g). Besides, the definition of public utility service prescribed by s. 2(m) is very significant. One has merely to glance at the six categories of public utility service mentioned by s. 2(m) to realise that the rule of construction on which the appellant relies is inapplicable in interpreting the definition prescribed by s. 2(j).\n",
    "\n",
    "There is another point which cannot be ignored. Section 2(j) does not define \" industry \" in the usual manner by prescribing what it means: the first clause of the definition gives the statutory meaning of \" industry \" and the second clause deliberately refers to several other items of industry and brings them in the definition in an inclusive way. It is obvious that the words used in an inclusive definition denote extension and cannot be treated as restricted in any sense. (Vide: Stroud's \" Judicial Dictionary \", Vol. 2, p. 1415). Where we are dealing with an inclusive definition it would be inappropriate to put a restrictive interpretation upon terms of wider denotation. Besides, it would be relevant to point out that too much reliance cannot be placed on what are described as the essential attributes or features of trade or business as conventionally understood. The conventional meaning attributed to the words \"trade and business\" has lost some of it validity for the purpose of industrial adjudication. Industrial adjudication has necessarily to be aware of the current of socioeconomic thought around; it must recogiiise that in the modern welfare State healthy industrial relations are a matter of paramount import-\n",
    "\n",
    "ance and its essential function is to assist the State by helping a solution of industrial disputes which constitute a distinct and persistent phenomenon of modern ~industrialised States. ~In attempting to solve industrial disputes industrial adjudication does not and should not adopt a ~doctrinnaire approach. It must evolve some working principles and should generally avoid formulating or adopting abstract generalisations. Nevertheless it cannot harp back to old-age notions about the relations between employer and employee or to the doctrine of laissez faire which then governed the regulation of the said relations. That is why, we think, in construing the wide words used in s. 2(j) it would be erroneous to attach undue importance to attributes associated with business or trade in the popular mind in days gone by.\n",
    "\n",
    "It is clear, however, that though s. 2(j) uses words of very wide denotation, a line would have to be drawn in a fair and just manner so as to exclude some callings, services or undertakings. If all the words used are given their widest meaning, all services and all callings would come within the purview of the definition; even service rendered by a servant purely in a personal or domestic matter or even in a casual way would fall within the definition. It is not and cannot be suggested that in its wide sweep the word \"service\" is intended to include service howsoever rendered in whatsoever capacity and for whatsoever reason. We must, therefore, consider where the line should be drawn and what limitations can and should be reasonably implied in interpreting the wide words used in s. 2(j); and that no doubt is a somewhat difficult problem to decide. It is true that under the old-world notion prevailing under the capitalist form of society industry generally means an economic activity involving investment of capital systematically carried on for profit for the production or sale of goods by the employment of labour. When it is urged by the appellant that an undertaking should be analogous to trade or business what is really intended is that unless the undertaking in question shares the aforesaid essential features associated with the conventional notion of trade or business it should not be treated as falling under s. 2(j). There are two serious difficulties in accepting such a suggestion, and indeed the appellant concedes the presence of these two difficulties. It is not disputed that under s. 2(j) an activity can and must be regarded as an industry even though in carrying it out profit motive may be absent. It is also common ground that the absence of investment of any capital would not make a material difference to the applicability of s. 2(j). Thus, two of the important attributes conventionally associated with trade or business are not necessarily predicated in interpreting s. 2(j). What then can be said to be the attributes or features which should be common between trade and business on the one hand and an undertaking and other items mentioned in s. 2(j) on the other ?\n",
    "\n",
    "It would be possible to exclude some activities from s. 2(j) without any difficulty. Negatively stated the activities of the Government which can be properly described as regal or sovereign activities are outsidly the scope of s. 2(j). These are functions which a constitutional Government can and must undertake for governance and which no private citizen can undertake. This position is not in dispute. An attempt is, however, made by the appellant to suggest that in view of the Directive Principles enunciated in Part IV of the Constitution and in view of the ideal of a welfare State which has been placed before the country, Governments, both at the level of the States as well as at the Centre, undertake several welfare activities; and the argument is that the field of governmental or regal activities which are excluded from the operation of s. 2(j) should be extended to cover other activities undertaken by the Governments in pursuit of their welfare policies. In our opinion, this contention cannot be accepted . The activities which do not fall within s. 2(j) and which are described as governmental or regal or sovereign have been pithily described by Lord Watson as \"the primary and inalienable functions of a constitutional Government\" (Vide: Coomber v. Justices of Berks(1) ); and it is only these activities that are outside the scope of s. 2(j). It sounds incongruous and self- contradictory (1) (1883) App. cas. 61.\n",
    "\n",
    "to suggest that activities undertaken by the Government in the interests of socioeconomic progress of the country as beneficial measures should be exempted from the operation of the Act which in substance is a very important beneficial measure itself In this connection it would be relevant to point out that the definition of the word \"employer\" given by s. 2(g) is not without significance: an \"employer\" means under s. 2(g)(i) \"in relation to an industry carried on by or under the authority of any department of the Central Government or State Government authority prescribed in this behalf, or where no authority is prescribed the head of the department.\" This definition clearly indicates that the Legislature intended the application of the Act to activities of the Government which fall within s. 2(j). In considering the question as to whether the group of Hospitals run by the appellant undoubtedly for the purpose of giving medical relief to the citizens and for helping to impart medical education are an undertaking or not, it would be pertinent to enquire whether an activity of a like nature would be an undertaking if it is carried on by a private citizen or a group of private citizens. There is no doubt that if a hospital is run by private citizens for profit it would be an undertaking very much like the trade or business in their conventional sense. We have already stated that the presence of profit motive is not essential for bringing an undertaking within s. 2 (j). If that be so, if a private citizen runs a hospital without charging any fees from the patients treated in it would nevertheless be an undertaking under s. 2(j). Thus the character of the activity involved in running a hospital brings the institution of the hospital within s. 2(j). Does it make any difference that the hospital is run by the Government in the interpretation of the word \"undertaking\" in s. 2(j) ? In our opinion, the answer to this question must be in the negative. It is the character of the activity which decides the question as to whether the activity in question attracts the provision of s. 2(j); who conducts the activity and whether it is conducted for profit or not do not make a material difference.\n",
    "\n",
    "We have yet to decide which are the attributes the presence of which makes in activity an under taking within s. 2(j), on the ground that it is analogous to trade or business. It is difficult to state these possible, attributes definitely or exhaustively; as a working principle it may be stated that an activity systematically or habitually undertaken for the production or distribution of goods or for the rendering of material services to the community at large or a part of such community with the help of employees -is an. undertaking. Such an activity generally involves the co- operation of the employer and the employees; and its object is the satisfaction of material human needs. It must be organised or arranged in a manner in which trade or business is generally organised or arranged. It must not be casual nor must it be for oneself nor for pleasure. Thus the manner in which the activity in question is organised or arranged, the condition of the co-operation between employer and the employee necessary for its success and its object to render material service to the community can be regarded as some of the features which are distinctive of activities to which s. 2(j) applies. Judged by this test there would be no difficulty in holding that the State is carrying on an undertaking when it runs the group of Hospitals in question. Is quid pro quo necessary for bringing an activity under s. 2(j) ? It has been urged before us that though profit motive may not be essential, it is nevertheless necessary that the person who carries on the activity should receive some consideration in return ; and it is only if the test of quid pro quo is satisfied that an activity should be treated as an undertaking. Though this argument is put in a slightly different form, in substance it is really based on the idea that profit motive is necessary to make any activity an undertaking analogous to trade or, business. If the absence of profit motive is immaterial why should an activity be excluded from s. 2(j) merely because the person responsible for the conduct of the activity expects no consideration, does not want any quid pro quo and is actuated by philanthropic or charitable motive ? In our opinion, in deciding the question as to whether any activity in question is an undertaking under s. 2(j) the doctrine of quid pro quo can have no application. Therefore, we are satisfied that the High Court was right in coming to the conclusion that the conduct and running of the group of Hospitals by the appellant amounted to an undertaking under s. 2 (j) and the relevant provisions of the Act were applicable. In this connection it would be relevant to refer to the fact that in the First Schedule to the Act which enumerates industries which may be declared as public utility service under s. 2(n)(vi), three entries have been added by Act 36 of 1956. They are Defence Establishment, services in hospitals and dispensaries, and Fire, Brigade service. In other words, by the addition of these three entries the Leo- islature has clearly indicated its intention that service in hospitals and dispensaries can be declared to be a public utility service under s. 2(n)(vi); and there is no doubt that unless the service in hospitals falls under s. 2(j) and is treated as an industry it cannot be declared to be a public utility service. It is true that this particular entry had not been included in the First Schedule at the time when the present reference wag made, but its subsequent inclusion can be reasonably taken as evidence of legislative intention, and, if on a construction of s. 2(j) we have independently reached the conclusion that service in hospitals is service or the conduct of hospitals is an undertaking, we may reasonably seek to derive corroboration to our conclusion by this subsequent legislative enactment,. After the addition of the relevant entry in the First Schedule it would not be open to anybody to suggest that service in hospitals does not fall under s. 2(j). It now remains to consider some of the decisions to which our attention was invited. In D. N. Banerji v. P. R. Mukherjee & Ors. (1), this Court was dealing with a a industrial dispute raised by the Municipal Workers' Union of the Budge Budge Municipality, on behalf of the Sanitary Inspector and Head Clerk of the said Municipality on the ground that the dismissal of the said two Municipal employees was unjustified and (1)[1953] S.C.R. 302.\n",
    "\n",
    "illegal, and that they were entitled to an order of reinstatement. The dispute thus referred to the Industrial Tribunal was decided in favour of the Union and an award was made directing the Municipality to reinstate the said two employees. The Municipality then took the matter to the High Court at Calcutta by means of a petition for a writ of certiorari under Arts. 226 and 227 of the Constitution. It was urged in support of the petition that the Act was inapplicable to the dispute in question and that there was really no industrial dispute which could be validly referred to the Industrial Tribunal. Other contentions were also raised but it is unnecessary to refer to them. The High Court rejected all the pleas raised by the Municipality and dismissed the application for a writ. The Municipality then brought the dispute to this Court under Art. 132(1) of the Constitution. This Court dismissed the appeal preferred by the Municipality and confirmed the order of the High Court. In dealing with the appeal this Court laid down certain propositions which are relevant for our purpose in the present appeal. It was observed that \" in determining the meaning of the word \" industry \" and \" industrial dispute \" it was necessary to leave aside the original meaning attributed to the words in a simpler state of society; then the contention of the Municipality that its activities in question did not amount to an industry were dealt with in these words: \" The only ground on which one could say that what would amount to the carrying on of an industry if it is done by a private person ceases to be so if the same work is carried on by a local body like the Municipality is that in the latter there is nothing like the investment of any capital or the existence of a profit earning notice as there generally is in a business. But neither the one nor the other seems a sine qua non or necessary element in the modern conception of industry \". It is because of this positive decision that the appellant has fairly conceded in the course of the argument before us that the absence of the profit motive or of investment of capital would not make a material difference in determinig the character of an activity this court has also examined the other relevant factors pertaining to the construction of the word \" industry \" and industry dispute\" and has declared its decision thus; Having regard to the definitions found In our Act the aim or objective that the Legislature had in view and the nature, variety and range of disputes that occur between employers and employees, were forced to the conclusion that the definitions in our Act include also disputes that right arise between municipalities and their employees in branches of work that can be said to be analogy to the carrying out of a trade or business \". In the present appeal we have to decide the question as to \",hat attributes or features can be said to make an activity in question analogous to trade or business. Incidentally we may add that quite apart from the relevant considerations which we have already discussed it would be difficult to suggest that though the sanitary department of a local body is an undertaking under s. 2(j) a hospital run by a Government is not.\n",
    "\n",
    "This decision has been referred to by this, Court in Baroda Borough Municipality v. Its Workmen (1), and it has been observed that it is now finally settled that a municipal undertaking of the nature with which the court was then concerned is an industry within the meaning of the definition of that word in s. 2(j) of the Act and that the expression\" industrial dispute \" in that Act includes disputes between municipalities and their employees in branches of work that can be regarded as analogous to the carrying on of a trade or business. In that case this Court was concerned with the claim for bonus made by the workmen of the Baroda Borough Municipality and it was rejected; comment has been made by learned counsel on some of the grounds accepted by this Court in support of its final decision, but in the present appeal we are not concerned with the claim for bonus and it is not necessary for us to refer to the said comment or to deal with it.\n",
    "\n",
    "So far as the decisions of the Industrial Tribunals are concerned it appears that the Labour Appellate Tribunal has held as early as 1952 that a hospital is an undertaking within the meaning of s. 2(j). In (1)[1957] S.C.R. 33.\n",
    "\n",
    "Sri Vishuddhananda Saraswathi Marwari Hospital v. Their Workmen (1) the, Labour Appellate Tribunal considered at length the policy and object of the Act, several judgments cited before it and came to the conclusion that the definition of industry in s. 2(j) was of wide amplitude and that there was no good reason for cutting down its natural meaning so as to limit its operation to profit-making enterprises only. It has not been suggested before us that this view has ever been doubted or dissented from in any subsequent industrial adjudication.\n",
    "\n",
    "In judicial discussions about the scope and character of the concept of industry as it has developed in a modern democratic State the decision of the High Court of Australia in The Federated State School Teachers' Association of Australia And The State of Victoria& Ors (2), is generally cited. In that case, according to the majority decision it was held that the educational activities of the State carried on under the appropriate statutes and statutory regulations of each State relating to education did not constitute an industry with the meaning of s. 4 of the Commonwealth Conciliation and Arbitration Act, 1904-1928 ; that the occupation of teachers so employed was riot an industrial occupation; and that the dispute which existed between the State and the teachers employed by them was therefore, not an industrial dispute within s. 51 (xxxv) of the Constitution. Isaacs J., however, struck an emphatic note of dissent, and the principles enunciated in this note of dissent have received approval from industrial tribunals in this country, and they have been rightly accepted by the Bombay High Court as affording valuable assistance in deciding the question in the present proceedings. Isaacs J. has uttered a note of caution that in dealing with industrial disputes industrial adjudicators must be conversant with the current knowledge on the subject and they should not ignore the constant currents of life, around them for otherwise it would introduce a serious infirmity in their approach. Dealing with the general characteristics of industrial enterprises the learned judge observed (1) [1952] II L.L.J. 327.\n",
    "\n",
    "(2) [1929] 4 C.L.R. 569.\n",
    "\n",
    "that they contribute more or less to the general welfare of the community; and he has reiterated his earlier observations on the point in these words: \"Industrial disputes occur when in relation to operations in which capital and labour are contributed in co-operation for the satisfaction of human wants or desires, those engaged in co-operation dispute as to basis to be observed by the parties engaged, respecting either a share of the product or any other terms or conditions of their co-operation \". According to the learned judge, the question must always be decided by determing the true character of the activity in question. It is these tests which the High Court has applied in deciding the present dispute and we are in general agreement with the decision of the High Court. We ought to make it clear that in the present appeal we are not expressing any opinion on the question as to whether running an educational institution would be an industry under the Act; that question does not arise in the present proceedings.\n",
    "\n",
    "There are two more decisions to which reference may be made before we part with this appeal. In Brij Mohan Bagaria And Chatterjee (N.C.) & Ors. (1), the Calcutta High Court was dealing with a dispute between an attorney of the court and some of his employees who bad been dismissed by him; and it was held that the said dispute was outside the purview of the Act. Sinha J., who heard the petition filed by the attorney, observed that \" however extended the meaning be given to the word industry or to industrial dispute or to undertaking or calling we cannot include within their concept the case of an individual who carries on a profession dependent upon its own intellectual skill \". The learned judge has then added that \" every case must be decided upon its own facts \". It appears that, according to the learned judge, if an attorney or a doctor or a lawyer who follows a liberal profession, the pursuit of which depends upon his own education, intellectual attainments and special equipment, engages employees, that would not mean that the employer is engaging in an industry under s. 2(j); but with the question of the attorney or doctor (1) (1958) 11 L.L.J. 190.\n",
    "\n",
    "or the lawyer we are not directly concerned in the present appeal. We have, however, referred to this decision because, in the course of discussion, the learned judge has expressed his dissent from the view taken by the Bombay High Court in regard to hospitals, and we wish to make it clear that, in our opinion, the criticism made by the learned judge against the inclusion of hospitals within s. 2(j) is not well-founded. Dealing with a similar case of an attorney, the Bombay High Court has taken the same view in National Union of Commercial Employees & Anr. And Meher (M.R.) & Ors. (Pereira Fazalbhoy & Co.) (1). We would accordingly bold that the High Court was right in holding that the dispute between the appellant and the respondents was an industrial dispute to which s. 251' of the Act applied. The order passed by the High Court on the writ petition filed by the respondents is confirmed and the appeal is dismissed with costs.\n",
    "\n",
    "Appeal dismissed.\n",
    "'''"
   ]
  },
  {
   "cell_type": "code",
   "execution_count": 15,
   "id": "2e6d6208",
   "metadata": {},
   "outputs": [
    {
     "name": "stdout",
     "output_type": "stream",
     "text": [
      "The  services  of  respondents\t2 and  3,  engaged  as\tward\n",
      "servants in the J. J. Group Of Hospital, Bombay, under State\n",
      "control\t and management were retrenched without\t payment  of\n",
      "compensation  as  required by S. 25F(b)\t of  the  Industrial\n",
      "Disputes\n",
      "867\n",
      "Act, 1947. The\n",
      "Division Bench on appeal reversed the decision of the single\n",
      "judge  upholding the respondents' contention that  the\tsaid\n",
      "hospitals were an industry as defined by S. 2(i) of the\t Act\n",
      "and  non-payment of retrenchment compensation  rendered\t the\n",
      "retrenchment bad in law. Such  activities  of  the  Government  as  can\tproperly  be\n",
      "decribed  as  regal  or\t sovereign  activities\teasily\tfall\n",
      "outside the scope of the definition. Although  it 'may not be possible to enumerate all  possible\n",
      "attributes that can make an activity an undertaking under S.\n",
      "2(j)  as being analogous to trade or business,\tthe  working\n",
      "principle  should  be that any activity\t systematically\t and\n",
      "habitually under-\n",
      "868\n",
      "     taken  for the production or distribution of  goods  or\n",
      "for the rendering of material services to the community or a\n",
      "part of it  with the help of employees organised or arranged\n",
      "in  the\t manner\t   of  a  trade\t or  business  in  such\t  an\n",
      "undertaking. D.  N.\tBanerji\t v. P. R. Mukherjee, (1953) S.\tC.  R.\t302,\n",
      "Baroda Borough Municipality v. Its Workmen, (1957) S. C.  R.\n",
      "33, Sri Vishuddhananda Saraswathi Marwari Hospital v.  Their\n",
      "Workmen\t (1952)\t II  L. L. J. 327 and  The  Federated  State\n",
      "School\tTeachers' Association of Australia v. The  State  of\n",
      "Victoria & Ors., ( The appellant then applied for and obtained a certificate of fitness from the Bombay High Court and with the said certificate it has brought the present appeal before us. It appears that in 1835 Sir Robert Grant, the then Governor of Bombay, desired to start an institution for the purposes of imparting medical education in the Presidency of Bombay. 44,000 were collected for the purpose and an equal amount was contributed by the Directors to defray the cost of construction of the College building. ' About that time an idea of building a hospital for the sick people of all classes and castes was mooted and Sir Jamsetjee Jeejibboy offered donation and some contribution was made by the Government with which the J. J. Hospital was constructed and it was formally opened on May 15, 1845. Having regard to the fact that the words used in s. 25F (b) are mandatory and their effect is plain and unambiguous it seems to us that the Court of Appeal was right in holding that s. 251 covered cases of recover of ninnies other than those specified in s. 25F (b), an it is obvious that there are several other cases i which monies become due from the employers to th employees under Ch. The word \"undertaking\" according to Webster means\" anything undertaken ; any business, work or project which one engages in or attempts, an enterprise \". It must be borne in mind that noscuntur a sociis is merely a rule of construction and it cannot prevail in cases where it is clear that the wider words have been deliberately used in order to make the scope of the defined word correspondingly wider. It can also be applied where the meaning of the words of wider import is doubtful; but, where the object of the Legislature in using wider words i clear and free of ambiguity, the rule of construction in question cannot be pressed into service. Industrial adjudication has necessarily to be aware of the current of socioeconomic thought around; it must recogiiise that in the modern welfare State healthy industrial relations are a matter of paramount import-\n",
      "\n",
      "ance and its essential function is to assist the State by helping a solution of industrial disputes which constitute a distinct and persistent phenomenon of modern ~industrialised States. Thus, two of the important attributes conventionally associated with trade or business are not necessarily predicated in interpreting s. 2(j). These are functions which a constitutional Government can and must undertake for governance and which no private citizen can undertake. An attempt is, however, made by the appellant to suggest that in view of the Directive Principles enunciated in Part IV of the Constitution and in view of the ideal of a welfare State which has been placed before the country, Governments, both at the level of the States as well as at the Centre, undertake several welfare activities; and the argument is that the field of governmental or regal activities which are excluded from the operation of s. 2(j) should be extended to cover other activities undertaken by the Governments in pursuit of their welfare policies. There is no doubt that if a hospital is run by private citizens for profit it would be an undertaking very much like the trade or business in their conventional sense. Does it make any difference that the hospital is run by the Government in the interpretation of the word \"undertaking\" in s. 2(j) ? Such an activity generally involves the co- operation of the employer and the employees; and its object is the satisfaction of material human needs. In our opinion, in deciding the question as to whether any activity in question is an undertaking under s. 2(j) the doctrine of quid pro quo can have no application. In other words, by the addition of these three entries the Leo- islature has clearly indicated its intention that service in hospitals and dispensaries can be declared to be a public utility service under s. 2(n)(vi); and there is no doubt that unless the service in hospitals falls under s. 2(j) and is treated as an industry it cannot be declared to be a public utility service. It is these tests which the High Court has applied in deciding the present dispute and we are in general agreement with the decision of the High Court. We ought to make it clear that in the present appeal we are not expressing any opinion on the question as to whether running an educational institution would be an industry under the Act; that question does not arise in the present proceedings. We would accordingly bold that the High Court was right in holding that the dispute between the appellant and the respondents was an industrial dispute to which s. 251' of the Act applied.\n"
     ]
    }
   ],
   "source": [
    "bert_summary = ''.join(bert_model(body2,min_length=130))\n",
    "print(bert_summary)"
   ]
  },
  {
   "cell_type": "code",
   "execution_count": 16,
   "id": "06dec4e8",
   "metadata": {},
   "outputs": [
    {
     "name": "stdout",
     "output_type": "stream",
     "text": [
      "The  services  of  respondents\t2 and  3  engaged  as\tward\n",
      "servants in the J J Group Of Hospital Bombay under State\n",
      "control\t and management were retrenched without\t payment  of\n",
      "compensation  as  required by S 25Fb\t of  the  Industrial\n",
      "Disputes\n",
      "867\n",
      "Act 1947 The\n",
      "Division Bench on appeal reversed the decision of the single\n",
      "judge  upholding the respondents' contention that  the\tsaid\n",
      "hospitals were an industry as defined by S 2i of the\t Act\n",
      "and  non-payment of retrenchment compensation  rendered\t the\n",
      "retrenchment bad in law Such  activities  of  the  Government  as  can\tproperly  be\n",
      "decribed  as  regal  or\t sovereign  activities\teasily\tfall\n",
      "outside the scope of the definition Although  it 'may not be possible to enumerate all  possible\n",
      "attributes that can make an activity an undertaking under S\n",
      "2j  as being analogous to trade or business\tthe  working\n",
      "principle  should  be that any activity\t systematically\t and\n",
      "habitually under-\n",
      "868\n",
      "     taken  for the production or distribution of  goods  or\n",
      "for the rendering of material services to the community or a\n",
      "part of it  with the help of employees organised or arranged\n",
      "in  the\t manner\t   of  a  trade\t or  business  in  such\t  an\n",
      "undertaking D  N\tBanerji\t v P R Mukherjee 1953 S\tC  R\t302\n",
      "Baroda Borough Municipality v Its Workmen 1957 S C  R\n",
      "33 Sri Vishuddhananda Saraswathi Marwari Hospital v  Their\n",
      "Workmen\t 1952\t II  L L J 327 and  The  Federated  State\n",
      "School\tTeachers' Association of Australia v The  State  of\n",
      "Victoria  Ors  The appellant then applied for and obtained a certificate of fitness from the Bombay High Court and with the said certificate it has brought the present appeal before us It appears that in 1835 Sir Robert Grant the then Governor of Bombay desired to start an institution for the purposes of imparting medical education in the Presidency of Bombay 44000 were collected for the purpose and an equal amount was contributed by the Directors to defray the cost of construction of the College building ' About that time an idea of building a hospital for the sick people of all classes and castes was mooted and Sir Jamsetjee Jeejibboy offered donation and some contribution was made by the Government with which the J J Hospital was constructed and it was formally opened on May 15 1845 Having regard to the fact that the words used in s 25F b are mandatory and their effect is plain and unambiguous it seems to us that the Court of Appeal was right in holding that s 251 covered cases of recover of ninnies other than those specified in s 25F b an it is obvious that there are several other cases i which monies become due from the employers to th employees under Ch The word \"undertaking\" according to Webster means\" anything undertaken  any business work or project which one engages in or attempts an enterprise \" It must be borne in mind that noscuntur a sociis is merely a rule of construction and it cannot prevail in cases where it is clear that the wider words have been deliberately used in order to make the scope of the defined word correspondingly wider It can also be applied where the meaning of the words of wider import is doubtful but where the object of the Legislature in using wider words i clear and free of ambiguity the rule of construction in question cannot be pressed into service Industrial adjudication has necessarily to be aware of the current of socioeconomic thought around it must recogiiise that in the modern welfare State healthy industrial relations are a matter of paramount import-\n",
      "\n",
      "ance and its essential function is to assist the State by helping a solution of industrial disputes which constitute a distinct and persistent phenomenon of modern ~industrialised States Thus two of the important attributes conventionally associated with trade or business are not necessarily predicated in interpreting s 2j These are functions which a constitutional Government can and must undertake for governance and which no private citizen can undertake An attempt is however made by the appellant to suggest that in view of the Directive Principles enunciated in Part IV of the Constitution and in view of the ideal of a welfare State which has been placed before the country Governments both at the level of the States as well as at the Centre undertake several welfare activities and the argument is that the field of governmental or regal activities which are excluded from the operation of s 2j should be extended to cover other activities undertaken by the Governments in pursuit of their welfare policies There is no doubt that if a hospital is run by private citizens for profit it would be an undertaking very much like the trade or business in their conventional sense Does it make any difference that the hospital is run by the Government in the interpretation of the word \"undertaking\" in s 2j  Such an activity generally involves the co- operation of the employer and the employees and its object is the satisfaction of material human needs In our opinion in deciding the question as to whether any activity in question is an undertaking under s 2j the doctrine of quid pro quo can have no application In other words by the addition of these three entries the Leo- islature has clearly indicated its intention that service in hospitals and dispensaries can be declared to be a public utility service under s 2nvi and there is no doubt that unless the service in hospitals falls under s 2j and is treated as an industry it cannot be declared to be a public utility service It is these tests which the High Court has applied in deciding the present dispute and we are in general agreement with the decision of the High Court We ought to make it clear that in the present appeal we are not expressing any opinion on the question as to whether running an educational institution would be an industry under the Act that question does not arise in the present proceedings We would accordingly bold that the High Court was right in holding that the dispute between the appellant and the respondents was an industrial dispute to which s 251' of the Act applied\n"
     ]
    }
   ],
   "source": [
    "punc = '''!()–[]{}:;‘“\\,<>./?@#$%^&*_'''\n",
    "\n",
    "no_punc = \"\"\n",
    "\n",
    "for char in body2:\n",
    "              if char not in punc:\n",
    "                             no_punc = no_punc + char\n",
    "print(no_punc) "
   ]
  },
  {
   "cell_type": "code",
   "execution_count": 6,
   "id": "804807af",
   "metadata": {},
   "outputs": [],
   "source": [
    "def jaccard(str1, str2): \n",
    "    a = set(str1.lower().split()) \n",
    "    b = set(str2.lower().split())\n",
    "    c = a.intersection(b)\n",
    "    return float(len(c)) / (len(a) + len(b) - len(c))"
   ]
  },
  {
   "cell_type": "code",
   "execution_count": 7,
   "id": "f2c39b24",
   "metadata": {},
   "outputs": [
    {
     "name": "stdout",
     "output_type": "stream",
     "text": [
      "0.24336009882643608\n"
     ]
    }
   ],
   "source": [
    "print(jaccard(body2,no_punc))"
   ]
  },
  {
   "cell_type": "code",
   "execution_count": 8,
   "id": "588a2e63",
   "metadata": {},
   "outputs": [],
   "source": [
    "GPT2_model = TransformerSummarizer(transformer_type=\"GPT2\",transformer_model_key=\"gpt2-medium\")"
   ]
  },
  {
   "cell_type": "code",
   "execution_count": 17,
   "id": "0e45c860",
   "metadata": {},
   "outputs": [
    {
     "name": "stdout",
     "output_type": "stream",
     "text": [
      "The  services  of  respondents\t2 and  3,  engaged  as\tward\n",
      "servants in the J. J. Group Of Hospital, Bombay, under State\n",
      "control\t and management were retrenched without\t payment  of\n",
      "compensation  as  required by S. 25F(b)\t of  the  Industrial\n",
      "Disputes\n",
      "867\n",
      "Act, 1947. The  mandatory\tlanguage  of S.\t 25F(b)\t of  the  Industrial\n",
      "Disputes Act, 1947, plain and unambiguous in effect,  leaves\n",
      "no  manner  of\tdoubt that the payment\tof  compensation  as\n",
      "required by it is a condition precedent to retrenchment\t and\n",
      "that  S.  25I  Of the Act is intended  to  provide  for\t the\n",
      "recovery  of other monies that became due to  the  employees\n",
      "under Ch. It  is\n",
      "clear that the presence of a profit motive or the investment\n",
      "of  capital, traditionally associated with notion  of  trade\n",
      "and  business,\tcan  be no indispensable  requisite  for  an\n",
      "industry under S. 2(j) of the Act. JUDGMENT:\n",
      "CIVIL APPELLATE J-URISDICTION: Civil Appeal No. 65 of 1955, arising out of the judgment and order dated July 28, 1955, of the said High Court is Misc. C. K Daphtary, Solicitor-General of India, and R. H. Dhebar, for the appellants. The   Judgment\t  of   the    Court\n",
      "       was delivered by\n",
      "GAJENDRAGADKAR, J.-This is an appeal by the State of Bombay (hereinafter called the appellant) and two others and it arises from a writ petition filed against it by the Hospital Mazdoor Sabha, a trade union registered under the Industrial Trade Unions Act XIV of 1926 and two of its members Mrs. Vatsala Narayan and Mrs. Ruth Isaac (hereinafter called respondents I to 3). The matter was then taken before the Court of Appeal. That is why the question as to whether s. 25H applied was not considered by it. Similarly the other four Hospitals in the group were built in course of time from donations. The group is under the administrative control of the Surgeon- General of the appellant and its day-to-day affairs are conducted and controlled by the Superintendent who is a full time employee of the appellant; the residential staff including the Resident Medical Officers, Assistant Medical Officers, Housemen, Nurses and others are all full-time employees of the -appellant and their salaries are drawn on the establishment pay bills every month and paid entirely by the appellant. Section 25F (b) provides that no workman employed III in any industry who has been in continuous service for not less than one year under an employer shall beretrenched by that employer until he has been paid at the time of retrenchment compensation which shall be equivalent to fifteen days' average pay for every completed year of service or any part thereof in excess of six months. The argument which appealed to Tendolkar, J., however, was that the consequence of non-compliance with the requirement of s. 25F (b) was not to render the impugned retrenchment invalid, because be thought that by s. 251 a specific provision has been made for the recovery of the amount prescribed by s. 25F (b). V, and according to Tendolkor J. this provision covers the amount due to the workman by way of compensation under s. 25F (b). It would be noticed that the words used in the definition are very wide in their import and even so its latter part purports to provide an inclusive definition. It is, however, contended that, in construing the definition, we must adopt the rule of construction noscuntur a sociis. It can also be applied where the meaning of the words of wider import is doubtful; but, where the object of the Legislature in using wider words i clear and free of ambiguity, the rule of construction in question cannot be pressed into service. principle of their being ejusdem generis with the previous words enumerated \". Where we are dealing with an inclusive definition it would be inappropriate to put a restrictive interpretation upon terms of wider denotation. It is not and cannot be suggested that in its wide sweep the word \"service\" is intended to include service howsoever rendered in whatsoever capacity and for whatsoever reason. In our opinion, this contention cannot be accepted . The activities which do not fall within s. 2(j) and which are described as governmental or regal or sovereign have been pithily described by Lord Watson as \"the primary and inalienable functions of a constitutional Government\" (Vide: Coomber v. Justices of Berks(1) ); and it is only these activities that are outside the scope of s. 2(j). It sounds incongruous and self- contradictory (1) (1883) App. We have already stated that the presence of profit motive is not essential for bringing an undertaking within s. 2 (j). In our opinion, the answer to this question must be in the negative. It is difficult to state these possible, attributes definitely or exhaustively; as a working principle it may be stated that an activity systematically or habitually undertaken for the production or distribution of goods or for the rendering of material services to the community at large or a part of such community with the help of employees -is an. It must be organised or arranged in a manner in which trade or business is generally organised or arranged. Judged by this test there would be no difficulty in holding that the State is carrying on an undertaking when it runs the group of Hospitals in question. In our opinion, in deciding the question as to whether any activity in question is an undertaking under s. 2(j) the doctrine of quid pro quo can have no application. In other words, by the addition of these three entries the Leo- islature has clearly indicated its intention that service in hospitals and dispensaries can be declared to be a public utility service under s. 2(n)(vi); and there is no doubt that unless the service in hospitals falls under s. 2(j) and is treated as an industry it cannot be declared to be a public utility service. The Municipality then took the matter to the High Court at Calcutta by means of a petition for a writ of certiorari under Arts. Other contentions were also raised but it is unnecessary to refer to them. The High Court rejected all the pleas raised by the Municipality and dismissed the application for a writ. In dealing with the appeal this Court laid down certain propositions which are relevant for our purpose in the present appeal. Isaacs J. has uttered a note of caution that in dealing with industrial disputes industrial adjudicators must be conversant with the current knowledge on the subject and they should not ignore the constant currents of life, around them for otherwise it would introduce a serious infirmity in their approach. Dealing with the general characteristics of industrial enterprises the learned judge observed (1) [1952] II L.L.J. 327. 1), the Calcutta High Court was dealing with a dispute between an attorney of the court and some of his employees who bad been dismissed by him; and it was held that the said dispute was outside the purview of the Act. or the lawyer we are not directly concerned in the present appeal. We have, however, referred to this decision because, in the course of discussion, the learned judge has expressed his dissent from the view taken by the Bombay High Court in regard to hospitals, and we wish to make it clear that, in our opinion, the criticism made by the learned judge against the inclusion of hospitals within s. 2(j) is not well-founded.\n"
     ]
    }
   ],
   "source": [
    "full = ''.join(GPT2_model(body2))\n",
    "print(full)"
   ]
  },
  {
   "cell_type": "code",
   "execution_count": 18,
   "id": "ddc08c8d",
   "metadata": {},
   "outputs": [
    {
     "name": "stdout",
     "output_type": "stream",
     "text": [
      "The  services  of  respondents\t2 and  3  engaged  as\tward\n",
      "servants in the J J Group Of Hospital Bombay under State\n",
      "control\t and management were retrenched without\t payment  of\n",
      "compensation  as  required by S 25Fb\t of  the  Industrial\n",
      "Disputes\n",
      "867\n",
      "Act 1947 The  mandatory\tlanguage  of S\t 25Fb\t of  the  Industrial\n",
      "Disputes Act 1947 plain and unambiguous in effect  leaves\n",
      "no  manner  of\tdoubt that the payment\tof  compensation  as\n",
      "required by it is a condition precedent to retrenchment\t and\n",
      "that  S  25I  Of the Act is intended  to  provide  for\t the\n",
      "recovery  of other monies that became due to  the  employees\n",
      "under Ch It  is\n",
      "clear that the presence of a profit motive or the investment\n",
      "of  capital traditionally associated with notion  of  trade\n",
      "and  business\tcan  be no indispensable  requisite  for  an\n",
      "industry under S 2j of the Act JUDGMENT\n",
      "CIVIL APPELLATE J-URISDICTION Civil Appeal No 65 of 1955 arising out of the judgment and order dated July 28 1955 of the said High Court is Misc C K Daphtary Solicitor-General of India and R H Dhebar for the appellants The   Judgment\t  of   the    Court\n",
      "       was delivered by\n",
      "GAJENDRAGADKAR J-This is an appeal by the State of Bombay hereinafter called the appellant and two others and it arises from a writ petition filed against it by the Hospital Mazdoor Sabha a trade union registered under the Industrial Trade Unions Act XIV of 1926 and two of its members Mrs Vatsala Narayan and Mrs Ruth Isaac hereinafter called respondents I to 3 The matter was then taken before the Court of Appeal That is why the question as to whether s 25H applied was not considered by it Similarly the other four Hospitals in the group were built in course of time from donations The group is under the administrative control of the Surgeon- General of the appellant and its day-to-day affairs are conducted and controlled by the Superintendent who is a full time employee of the appellant the residential staff including the Resident Medical Officers Assistant Medical Officers Housemen Nurses and others are all full-time employees of the -appellant and their salaries are drawn on the establishment pay bills every month and paid entirely by the appellant Section 25F b provides that no workman employed III in any industry who has been in continuous service for not less than one year under an employer shall beretrenched by that employer until he has been paid at the time of retrenchment compensation which shall be equivalent to fifteen days' average pay for every completed year of service or any part thereof in excess of six months The argument which appealed to Tendolkar J however was that the consequence of non-compliance with the requirement of s 25F b was not to render the impugned retrenchment invalid because be thought that by s 251 a specific provision has been made for the recovery of the amount prescribed by s 25F b V and according to Tendolkor J this provision covers the amount due to the workman by way of compensation under s 25F b It would be noticed that the words used in the definition are very wide in their import and even so its latter part purports to provide an inclusive definition It is however contended that in construing the definition we must adopt the rule of construction noscuntur a sociis It can also be applied where the meaning of the words of wider import is doubtful but where the object of the Legislature in using wider words i clear and free of ambiguity the rule of construction in question cannot be pressed into service principle of their being ejusdem generis with the previous words enumerated \" Where we are dealing with an inclusive definition it would be inappropriate to put a restrictive interpretation upon terms of wider denotation It is not and cannot be suggested that in its wide sweep the word \"service\" is intended to include service howsoever rendered in whatsoever capacity and for whatsoever reason In our opinion this contention cannot be accepted  The activities which do not fall within s 2j and which are described as governmental or regal or sovereign have been pithily described by Lord Watson as \"the primary and inalienable functions of a constitutional Government\" Vide Coomber v Justices of Berks1  and it is only these activities that are outside the scope of s 2j It sounds incongruous and self- contradictory 1 1883 App We have already stated that the presence of profit motive is not essential for bringing an undertaking within s 2 j In our opinion the answer to this question must be in the negative It is difficult to state these possible attributes definitely or exhaustively as a working principle it may be stated that an activity systematically or habitually undertaken for the production or distribution of goods or for the rendering of material services to the community at large or a part of such community with the help of employees -is an It must be organised or arranged in a manner in which trade or business is generally organised or arranged Judged by this test there would be no difficulty in holding that the State is carrying on an undertaking when it runs the group of Hospitals in question In our opinion in deciding the question as to whether any activity in question is an undertaking under s 2j the doctrine of quid pro quo can have no application In other words by the addition of these three entries the Leo- islature has clearly indicated its intention that service in hospitals and dispensaries can be declared to be a public utility service under s 2nvi and there is no doubt that unless the service in hospitals falls under s 2j and is treated as an industry it cannot be declared to be a public utility service The Municipality then took the matter to the High Court at Calcutta by means of a petition for a writ of certiorari under Arts Other contentions were also raised but it is unnecessary to refer to them The High Court rejected all the pleas raised by the Municipality and dismissed the application for a writ In dealing with the appeal this Court laid down certain propositions which are relevant for our purpose in the present appeal Isaacs J has uttered a note of caution that in dealing with industrial disputes industrial adjudicators must be conversant with the current knowledge on the subject and they should not ignore the constant currents of life around them for otherwise it would introduce a serious infirmity in their approach Dealing with the general characteristics of industrial enterprises the learned judge observed 1 1952 II LLJ 327 1 the Calcutta High Court was dealing with a dispute between an attorney of the court and some of his employees who bad been dismissed by him and it was held that the said dispute was outside the purview of the Act or the lawyer we are not directly concerned in the present appeal We have however referred to this decision because in the course of discussion the learned judge has expressed his dissent from the view taken by the Bombay High Court in regard to hospitals and we wish to make it clear that in our opinion the criticism made by the learned judge against the inclusion of hospitals within s 2j is not well-founded\n"
     ]
    }
   ],
   "source": [
    "punc = '''!()–[]{}:;‘“\\,<>./?@#$%^&*_'''\n",
    "\n",
    "no_punc2 = \"\"\n",
    "\n",
    "for char in full:\n",
    "              if char not in punc:\n",
    "                             no_punc2 = no_punc2 + char\n",
    "print(no_punc2)            "
   ]
  },
  {
   "cell_type": "code",
   "execution_count": 19,
   "id": "98e42577",
   "metadata": {},
   "outputs": [
    {
     "name": "stdout",
     "output_type": "stream",
     "text": [
      "0.27144607843137253\n"
     ]
    }
   ],
   "source": [
    "print(jaccard(body2,no_punc2))"
   ]
  },
  {
   "cell_type": "code",
   "execution_count": 2,
   "id": "48daa1bc",
   "metadata": {},
   "outputs": [],
   "source": [
    "import nltk\n",
    "from rake_nltk import Rake"
   ]
  },
  {
   "cell_type": "code",
   "execution_count": 1,
   "id": "b152800e",
   "metadata": {},
   "outputs": [],
   "source": [
    "text = '''The  services  of  respondents\t2 and  3,  engaged  as\tward\n",
    "servants in the J. J. Group Of Hospital, Bombay, under State\n",
    "control\t and management were retrenched without\t payment  of\n",
    "compensation  as  required by S. 25F(b)\t of  the  Industrial\n",
    "Disputes\n",
    "867\n",
    "Act, 1947. The\n",
    "Division Bench on appeal reversed the decision of the single\n",
    "judge  upholding the respondents' contention that  the\tsaid\n",
    "hospitals were an industry as defined by S. 2(i) of the\t Act\n",
    "and  non-payment of retrenchment compensation  rendered\t the\n",
    "retrenchment bad in law. Such  activities  of  the  Government  as  can\tproperly  be\n",
    "decribed  as  regal  or\t sovereign  activities\teasily\tfall\n",
    "outside the scope of the definition. Although  it 'may not be possible to enumerate all  possible\n",
    "attributes that can make an activity an undertaking under S.\n",
    "2(j)  as being analogous to trade or business,\tthe  working\n",
    "principle  should  be that any activity\t systematically\t and\n",
    "habitually under-\n",
    "868\n",
    "     taken  for the production or distribution of  goods  or\n",
    "for the rendering of material services to the community or a\n",
    "part of it  with the help of employees organised or arranged\n",
    "in  the\t manner\t   of  a  trade\t or  business  in  such\t  an\n",
    "undertaking. D.  N.\tBanerji\t v. P. R. Mukherjee, (1953) S.\tC.  R.\t302,\n",
    "Baroda Borough Municipality v. Its Workmen, (1957) S. C.  R.\n",
    "33, Sri Vishuddhananda Saraswathi Marwari Hospital v.  Their\n",
    "Workmen\t (1952)\t II  L. L. J. 327 and  The  Federated  State\n",
    "School\tTeachers' Association of Australia v. The  State  of\n",
    "Victoria & Ors., ( The appellant then applied for and obtained a certificate of fitness from the Bombay High Court and with the said certificate it has brought the present appeal before us. It appears that in 1835 Sir Robert Grant, the then Governor of Bombay, desired to start an institution for the purposes of imparting medical education in the Presidency of Bombay. 44,000 were collected for the purpose and an equal amount was contributed by the Directors to defray the cost of construction of the College building. ' About that time an idea of building a hospital for the sick people of all classes and castes was mooted and Sir Jamsetjee Jeejibboy offered donation and some contribution was made by the Government with which the J. J. Hospital was constructed and it was formally opened on May 15, 1845. Having regard to the fact that the words used in s. 25F (b) are mandatory and their effect is plain and unambiguous it seems to us that the Court of Appeal was right in holding that s. 251 covered cases of recover of ninnies other than those specified in s. 25F (b), an it is obvious that there are several other cases i which monies become due from the employers to th employees under Ch. The word \"undertaking\" according to Webster means\" anything undertaken ; any business, work or project which one engages in or attempts, an enterprise \". It must be borne in mind that noscuntur a sociis is merely a rule of construction and it cannot prevail in cases where it is clear that the wider words have been deliberately used in order to make the scope of the defined word correspondingly wider. It can also be applied where the meaning of the words of wider import is doubtful; but, where the object of the Legislature in using wider words i clear and free of ambiguity, the rule of construction in question cannot be pressed into service. Industrial adjudication has necessarily to be aware of the current of socioeconomic thought around; it must recogiiise that in the modern welfare State healthy industrial relations are a matter of paramount import-\n",
    "\n",
    "ance and its essential function is to assist the State by helping a solution of industrial disputes which constitute a distinct and persistent phenomenon of modern ~industrialised States. Thus, two of the important attributes conventionally associated with trade or business are not necessarily predicated in interpreting s. 2(j). These are functions which a constitutional Government can and must undertake for governance and which no private citizen can undertake. An attempt is, however, made by the appellant to suggest that in view of the Directive Principles enunciated in Part IV of the Constitution and in view of the ideal of a welfare State which has been placed before the country, Governments, both at the level of the States as well as at the Centre, undertake several welfare activities; and the argument is that the field of governmental or regal activities which are excluded from the operation of s. 2(j) should be extended to cover other activities undertaken by the Governments in pursuit of their welfare policies. There is no doubt that if a hospital is run by private citizens for profit it would be an undertaking very much like the trade or business in their conventional sense. Does it make any difference that the hospital is run by the Government in the interpretation of the word \"undertaking\" in s. 2(j) ? Such an activity generally involves the co- operation of the employer and the employees; and its object is the satisfaction of material human needs. In our opinion, in deciding the question as to whether any activity in question is an undertaking under s. 2(j) the doctrine of quid pro quo can have no application. In other words, by the addition of these three entries the Leo- islature has clearly indicated its intention that service in hospitals and dispensaries can be declared to be a public utility service under s. 2(n)(vi); and there is no doubt that unless the service in hospitals falls under s. 2(j) and is treated as an industry it cannot be declared to be a public utility service. It is these tests which the High Court has applied in deciding the present dispute and we are in general agreement with the decision of the High Court. We ought to make it clear that in the present appeal we are not expressing any opinion on the question as to whether running an educational institution would be an industry under the Act; that question does not arise in the present proceedings. We would accordingly bold that the High Court was right in holding that the dispute between the appellant and the respondents was an industrial dispute to which s. 251' of the Act applied.'''"
   ]
  },
  {
   "cell_type": "code",
   "execution_count": 5,
   "id": "8791902b",
   "metadata": {},
   "outputs": [
    {
     "name": "stdout",
     "output_type": "stream",
     "text": [
      "['sri vishuddhananda saraswathi marwari hospital v', 'modern welfare state healthy industrial relations', 'sir jamsetjee jeejibboy offered donation', 'sovereign activities easily fall outside', '1835 sir robert grant', 'baroda borough municipality v', 'important attributes conventionally associated', 'federated state school teachers', 'n )( vi );', 'industrial disputes 867 act', 'defined word correspondingly wider', 'undertake several welfare activities', 'socioeconomic thought around', 'single judge upholding', 'quid pro quo', 'monies become due', 'imparting medical education', 'directive principles enunciated', 'material human needs', 'would accordingly bold', 'retrenched without payment', 'public utility service', 'public utility service', 'activity generally involves', 'using wider words', 'retrenchment compensation rendered', 'educational institution would', '251 covered cases', 'industrial disputes', 'welfare state', 'bombay high court', 'welfare policies', 'banerji v', 'australia v', 'industrial adjudication', 'industrial dispute', 'activities undertaken', 'wider import', 'state control', 'wider words', 'retrenchment bad', 'possible attributes', 'regal activities', 'high court', 'high court', 'high court', 'working principle', 'webster means', 'ward servants', 'three entries', 'sick people', 'private citizens', 'private citizen', 'present proceedings', 'persistent phenomenon', 'paramount import', 'ors .,', 'one engages', 'must undertake', 'much like', 'material services', 'general agreement', 'formally opened', 'essential function', 'equal amount', 'enterprise \".', 'division bench', 'deliberately used', 'conventional sense', 'clearly indicated', 'anything undertaken', '868 taken', 'words used', 'present appeal', 'present appeal', 'appeal reversed', 'activity systematically', 'th employees', 'said hospitals', 'present dispute', 'must recogiiise', 'hospitals falls', 'employees organised', 'cannot prevail', 'whether running', 'said certificate', 'part iv', 'necessarily predicated', 'modern', 'may 15', 'industrialised states', 'ii l', 'college building', 'b ),', 'constitutional government', 'act applied', 'j ).', 'question cannot', 'activities', 'state', 'state', 'several', 'n', 'defined', 'respondents 2', 'would', 'undertake', 'word', 'word', 'payment', 'institution', 'court', 'compensation', 'act', 'act', '251', 'hospital', 'hospital', 'hospital', 'hospital', 'hospital', 'words', 'words', 'service', 'service', 'service', 'appeal', 'activity', 'activity', 'must', 'hospitals', 'employees', 'dispute', 'cases', 'cases', 'cannot', 'whether', 'states', 'services', 'regal', 'possible', 'part', 'necessarily', 'may', 'l', 'certificate', 'building', 'bombay', 'bombay', 'bombay', 'respondents', 'respondents', 'b', 'b', 'government', 'government', 'government', 'applied', 'applied', 'applied', 'question', 'question', 'question', 'question', '2', '2', '2', '2', '2', '2', '2', '2', 'j', 'j', 'j', 'j', 'j', 'j', 'j', 'j', 'j', 'j', 'workmen', 'workmen', 'work', 'well', 'view', 'view', 'victoria', 'us', 'us', 'unless', 'undertaking', 'undertaking', 'undertaking', 'undertaking', 'undertaking', 'undertaking', 'unambiguous', 'two', 'treated', 'trade', 'trade', 'trade', 'trade', 'time', 'thus', 'tests', 'suggest', 'start', 'specified', 'solution', 'sociis', 'seems', 'scope', 'scope', 'satisfaction', 'run', 'run', 'rule', 'rule', 'right', 'right', 'required', 'rendering', 'regard', 'recover', 'r', 'r', 'r', 'pursuit', 'purposes', 'purpose', 'properly', 'project', 'profit', 'production', 'pressed', 'presidency', 'plain', 'placed', 'p', 'ought', 'order', 'opinion', 'opinion', 'operation', 'operation', 'obvious', 'obtained', 'object', 'object', 'noscuntur', 'non', 'ninnies', 'mukherjee', 'mooted', 'mind', 'merely', 'meaning', 'matter', 'manner', 'mandatory', 'management', 'make', 'make', 'make', 'make', 'made', 'made', 'level', 'leo', 'legislature', 'law', 'islature', 'interpreting', 'interpretation', 'intention', 'industry', 'industry', 'industry', 'ideal', 'idea', 'however', 'holding', 'holding', 'helping', 'help', 'habitually', 'group', 'governor', 'governments', 'governments', 'governmental', 'governance', 'goods', 'functions', 'free', 'fitness', 'field', 'fact', 'extended', 'expressing', 'excluded', 'enumerate', 'engaged', 'employers', 'employer', 'effect', 'doubtful', 'doubt', 'doubt', 'doctrine', 'distribution', 'distinct', 'dispensaries', 'directors', 'difference', 'desired', 'defray', 'definition', 'decribed', 'declared', 'declared', 'decision', 'decision', 'deciding', 'deciding', 'current', 'cover', 'country', 'cost', 'contribution', 'contributed', 'contention', 'construction', 'construction', 'construction', 'constructed', 'constitution', 'constitute', 'community', 'collected', 'co', 'clear', 'clear', 'clear', 'classes', 'ch', 'centre', 'castes', 'c', 'c', 'business', 'business', 'business', 'business', 'business', 'brought', 'borne', 'aware', 'attempts', 'attempt', 'association', 'assist', 'arranged', 'arise', 'argument', 'application', 'appellant', 'appellant', 'appellant', 'appears', 'ance', 'analogous', 'ambiguity', 'although', 'also', 'addition', 'according', '44', '33', '327', '302', '3', '25f', '25f', '25f', '1957', '1953', '1952', '1947', '1845', '000']\n"
     ]
    }
   ],
   "source": [
    "r = Rake()\n",
    "\n",
    "r.extract_keywords_from_text(text)\n",
    "\n",
    "print(r.get_ranked_phrases())"
   ]
  },
  {
   "cell_type": "code",
   "execution_count": 10,
   "id": "bee7695b",
   "metadata": {},
   "outputs": [
    {
     "name": "stdout",
     "output_type": "stream",
     "text": [
      "The  services  of  respondents\t2 and  3  engaged  as\tward\n",
      "servants in the J J Group Of Hospital Bombay under State\n",
      "control\t and management were retrenched without\t payment  of\n",
      "compensation  as  required by S 25Fb\t of  the  Industrial\n",
      "Disputes\n",
      "867\n",
      "Act 1947 The\n",
      "Division Bench on appeal reversed the decision of the single\n",
      "judge  upholding the respondents' contention that  the\tsaid\n",
      "hospitals were an industry as defined by S 2i of the\t Act\n",
      "and  non-payment of retrenchment compensation  rendered\t the\n",
      "retrenchment bad in law Such  activities  of  the  Government  as  can\tproperly  be\n",
      "decribed  as  regal  or\t sovereign  activities\teasily\tfall\n",
      "outside the scope of the definition Although  it 'may not be possible to enumerate all  possible\n",
      "attributes that can make an activity an undertaking under S\n",
      "2j  as being analogous to trade or business\tthe  working\n",
      "principle  should  be that any activity\t systematically\t and\n",
      "habitually under-\n",
      "868\n",
      "     taken  for the production or distribution of  goods  or\n",
      "for the rendering of material services to the community or a\n",
      "part of it  with the help of employees organised or arranged\n",
      "in  the\t manner\t   of  a  trade\t or  business  in  such\t  an\n",
      "undertaking D  N\tBanerji\t v P R Mukherjee 1953 S\tC  R\t302\n",
      "Baroda Borough Municipality v Its Workmen 1957 S C  R\n",
      "33 Sri Vishuddhananda Saraswathi Marwari Hospital v  Their\n",
      "Workmen\t 1952\t II  L L J 327 and  The  Federated  State\n",
      "School\tTeachers' Association of Australia v The  State  of\n",
      "Victoria  Ors  The appellant then applied for and obtained a certificate of fitness from the Bombay High Court and with the said certificate it has brought the present appeal before us It appears that in 1835 Sir Robert Grant the then Governor of Bombay desired to start an institution for the purposes of imparting medical education in the Presidency of Bombay 44000 were collected for the purpose and an equal amount was contributed by the Directors to defray the cost of construction of the College building ' About that time an idea of building a hospital for the sick people of all classes and castes was mooted and Sir Jamsetjee Jeejibboy offered donation and some contribution was made by the Government with which the J J Hospital was constructed and it was formally opened on May 15 1845 Having regard to the fact that the words used in s 25F b are mandatory and their effect is plain and unambiguous it seems to us that the Court of Appeal was right in holding that s 251 covered cases of recover of ninnies other than those specified in s 25F b an it is obvious that there are several other cases i which monies become due from the employers to th employees under Ch The word \"undertaking\" according to Webster means\" anything undertaken  any business work or project which one engages in or attempts an enterprise \" It must be borne in mind that noscuntur a sociis is merely a rule of construction and it cannot prevail in cases where it is clear that the wider words have been deliberately used in order to make the scope of the defined word correspondingly wider It can also be applied where the meaning of the words of wider import is doubtful but where the object of the Legislature in using wider words i clear and free of ambiguity the rule of construction in question cannot be pressed into service Industrial adjudication has necessarily to be aware of the current of socioeconomic thought around it must recogiiise that in the modern welfare State healthy industrial relations are a matter of paramount import-\n",
      "\n",
      "ance and its essential function is to assist the State by helping a solution of industrial disputes which constitute a distinct and persistent phenomenon of modern ~industrialised States Thus two of the important attributes conventionally associated with trade or business are not necessarily predicated in interpreting s 2j These are functions which a constitutional Government can and must undertake for governance and which no private citizen can undertake An attempt is however made by the appellant to suggest that in view of the Directive Principles enunciated in Part IV of the Constitution and in view of the ideal of a welfare State which has been placed before the country Governments both at the level of the States as well as at the Centre undertake several welfare activities and the argument is that the field of governmental or regal activities which are excluded from the operation of s 2j should be extended to cover other activities undertaken by the Governments in pursuit of their welfare policies There is no doubt that if a hospital is run by private citizens for profit it would be an undertaking very much like the trade or business in their conventional sense Does it make any difference that the hospital is run by the Government in the interpretation of the word \"undertaking\" in s 2j  Such an activity generally involves the co- operation of the employer and the employees and its object is the satisfaction of material human needs In our opinion in deciding the question as to whether any activity in question is an undertaking under s 2j the doctrine of quid pro quo can have no application In other words by the addition of these three entries the Leo- islature has clearly indicated its intention that service in hospitals and dispensaries can be declared to be a public utility service under s 2nvi and there is no doubt that unless the service in hospitals falls under s 2j and is treated as an industry it cannot be declared to be a public utility service It is these tests which the High Court has applied in deciding the present dispute and we are in general agreement with the decision of the High Court We ought to make it clear that in the present appeal we are not expressing any opinion on the question as to whether running an educational institution would be an industry under the Act that question does not arise in the present proceedings We would accordingly bold that the High Court was right in holding that the dispute between the appellant and the respondents was an industrial dispute to which s 251' of the Act applied\n"
     ]
    }
   ],
   "source": [
    "punc = '''!()–[]{}:;‘“\\,<>./?@#$%^&*_'''\n",
    "\n",
    "no_punc2_text = \"\"\n",
    "\n",
    "for char in text:\n",
    "              if char not in punc:\n",
    "                             no_punc2_text = no_punc2_text + char\n",
    "print(no_punc2_text) "
   ]
  },
  {
   "cell_type": "code",
   "execution_count": 4,
   "id": "27fe0f65",
   "metadata": {},
   "outputs": [
    {
     "name": "stdout",
     "output_type": "stream",
     "text": [
      "['c r 33 sri vishuddhananda saraswathi marwari hospital v', 'c r 302 baroda borough municipality v', 'n banerji v p r mukherjee 1953', 'workmen 1952 ii l l j 327', 'modern welfare state healthy industrial relations', 'sir jamsetjee jeejibboy offered donation', 'sovereign activities easily fall outside', 'industrial disputes 867 act 1947', 'centre undertake several welfare activities', '1835 sir robert grant', 'important attributes conventionally associated', 'federated state school teachers', 'industrialised states thus two', 'defined word correspondingly wider', 'j j group', 'j j hospital', 'socioeconomic thought around', 'single judge upholding', 'quid pro quo', 'monies become due', 'imparting medical education', 'directive principles enunciated', 'service industrial adjudication', 'material human needs', 'would accordingly bold', 'australia v', 'public utility service', 'public utility service', 'retrenched without payment', 'may 15 1845', 'activity generally involves', 'using wider words', 'retrenchment compensation rendered', 'educational institution would', 'industrial disputes', '251 covered cases', 'workmen 1957', 'bombay high court', 'welfare state', 'welfare policies', 'industrial dispute', 'hospital bombay', 'activities undertaken', 'wider import', 'state control', 'wider words', 'retrenchment bad', 'regal activities', 'possible attributes', 'must undertake', 'high court', 'high court', 'high court', 'bombay desired', 'bombay 44000', 'working principle', 'webster means', 'ward servants', 'victoria ors', 'three entries', 'sick people', 'private citizens', 'private citizen', 'present proceedings', 'persistent phenomenon', 'paramount import', 'one engages', 'much like', 'material services', 'general agreement', 'formally opened', 'essential function', 'equal amount', 'division bench', 'deliberately used', 'definition although', 'conventional sense', 'clearly indicated', 'anything undertaken', '868 taken', '3 engaged', '25f b', '25f b', 'words used', 'present appeal', 'present appeal', 'appeal reversed', 'activity systematically', 'th employees', 'said hospitals', 'present dispute', 'must recogiiise', 'hospitals falls', 'employees organised', 'cannot prevail', 'whether running', 'said certificate', 'part iv', 'necessarily predicated', 'modern', 'however made', 'country governments', 'college building', 'act applied', 'respondents 2', 'constitutional government', 'business work', 'several', 'activities', 'question cannot', 'hospital', 'hospital', 'hospital', 'undertake', 'state', 'state', 'states', 'defined', 'would', 'act', 'act', 'service', 'service', 'word', 'word', 'payment', 'may', 'institution', 'court', 'compensation', '251', 'words', 'words', 'appeal', 'activity', 'activity', 'must', 'hospitals', 'employees', 'dispute', 'cases', 'cases', 'cannot', 'whether', 'services', 'regal', 'possible', 'part', 'necessarily', 'made', 'governments', 'certificate', 'building', 'respondents', 'respondents', 'government', 'government', 'government', 'applied', 'applied', 'applied', 'question', 'question', 'question', 'question', 'business', 'business', 'business', 'business', 'well', 'view', 'view', 'us', 'us', 'unless', 'undertaking', 'undertaking', 'undertaking', 'undertaking', 'undertaking', 'undertaking', 'unambiguous', 'treated', 'trade', 'trade', 'trade', 'trade', 'time', 'tests', 'suggest', 'start', 'specified', 'solution', 'sociis', 'seems', 'scope', 'scope', 'satisfaction', 'run', 'run', 'rule', 'rule', 'right', 'right', 'required', 'rendering', 'regard', 'recover', 'pursuit', 'purposes', 'purpose', 'properly', 'project', 'profit', 'production', 'pressed', 'presidency', 'plain', 'placed', 'ought', 'order', 'opinion', 'opinion', 'operation', 'operation', 'obvious', 'obtained', 'object', 'object', 'noscuntur', 'non', 'ninnies', 'mooted', 'mind', 'merely', 'meaning', 'matter', 'manner', 'mandatory', 'management', 'make', 'make', 'make', 'make', 'level', 'leo', 'legislature', 'law', 'islature', 'interpreting', 'interpretation', 'intention', 'industry', 'industry', 'industry', 'ideal', 'idea', 'holding', 'holding', 'helping', 'help', 'habitually', 'governor', 'governmental', 'governance', 'goods', 'functions', 'free', 'fitness', 'field', 'fact', 'extended', 'expressing', 'excluded', 'enumerate', 'enterprise', 'employers', 'employer', 'effect', 'doubtful', 'doubt', 'doubt', 'doctrine', 'distribution', 'distinct', 'dispensaries', 'directors', 'difference', 'defray', 'decribed', 'declared', 'declared', 'decision', 'decision', 'deciding', 'deciding', 'current', 'cover', 'cost', 'contribution', 'contributed', 'contention', 'construction', 'construction', 'construction', 'constructed', 'constitution', 'constitute', 'community', 'collected', 'co', 'clear', 'clear', 'clear', 'classes', 'ch', 'castes', 'brought', 'borne', 'aware', 'attempts', 'attempt', 'association', 'assist', 'arranged', 'arise', 'argument', 'application', 'appellant', 'appellant', 'appellant', 'appears', 'ance', 'analogous', 'ambiguity', 'also', 'addition', 'according', '2nvi', '2j', '2j', '2j', '2j', '2j', '2j', '2i', '25fb']\n"
     ]
    }
   ],
   "source": [
    "r = Rake()\n",
    "\n",
    "r.extract_keywords_from_text(no_punc2_text)\n",
    "\n",
    "print(r.get_ranked_phrases())"
   ]
  },
  {
   "cell_type": "code",
   "execution_count": 8,
   "id": "977c78a6",
   "metadata": {},
   "outputs": [
    {
     "name": "stdout",
     "output_type": "stream",
     "text": [
      "Requirement already satisfied: scikit-learn in c:\\users\\hardi\\anaconda3\\lib\\site-packages (0.24.1)Note: you may need to restart the kernel to use updated packages.\n"
     ]
    },
    {
     "name": "stderr",
     "output_type": "stream",
     "text": [
      "\n",
      "[notice] A new release of pip available: 22.3.1 -> 23.0\n",
      "[notice] To update, run: python.exe -m pip install --upgrade pip\n"
     ]
    },
    {
     "name": "stdout",
     "output_type": "stream",
     "text": [
      "\n",
      "Requirement already satisfied: threadpoolctl>=2.0.0 in c:\\users\\hardi\\anaconda3\\lib\\site-packages (from scikit-learn) (2.1.0)\n",
      "Requirement already satisfied: numpy>=1.13.3 in c:\\users\\hardi\\anaconda3\\lib\\site-packages (from scikit-learn) (1.19.5)\n",
      "Requirement already satisfied: scipy>=0.19.1 in c:\\users\\hardi\\anaconda3\\lib\\site-packages (from scikit-learn) (1.6.2)\n",
      "Requirement already satisfied: joblib>=0.11 in c:\\users\\hardi\\anaconda3\\lib\\site-packages (from scikit-learn) (1.0.1)\n"
     ]
    }
   ],
   "source": [
    "pip install scikit-learn"
   ]
  },
  {
   "cell_type": "code",
   "execution_count": 9,
   "id": "ed8b5231",
   "metadata": {},
   "outputs": [
    {
     "name": "stdout",
     "output_type": "stream",
     "text": [
      "[(0.10607887190179215, 'states'), (0.12123299645919103, 'ii'), (0.12881005873789048, 'single'), (0.12881005873789048, 'these'), (0.1515412455739888, 'services'), (0.16669537013138766, 'three'), (0.21973480608228374, 'words'), (0.26519717975448037, 'which'), (0.41673842532846916, 'working'), (0.689512667361649, 'would')]\n"
     ]
    }
   ],
   "source": [
    "from sklearn.feature_extraction.text import TfidfVectorizer\n",
    "\n",
    "# The summary of the legal judgment\n",
    "#text = \"summary of legal judgment\"\n",
    "\n",
    "# Convert the text into a matrix of TF-IDF features\n",
    "vectorizer = TfidfVectorizer()\n",
    "tfidf_matrix = vectorizer.fit_transform([no_punc2_text])\n",
    "\n",
    "# Get the terms (keywords) from the matrix and sort them by TF-IDF score\n",
    "terms = vectorizer.get_feature_names()\n",
    "sorted_keywords = sorted(zip(tfidf_matrix.data, terms))\n",
    "\n",
    "# Print the top N keywords\n",
    "N = 10\n",
    "print(sorted_keywords[-N:])"
   ]
  },
  {
   "cell_type": "code",
   "execution_count": 10,
   "id": "c52f1cac",
   "metadata": {},
   "outputs": [
    {
     "name": "stdout",
     "output_type": "stream",
     "text": [
      "Requirement already satisfied: spacy in c:\\users\\hardi\\anaconda3\\lib\\site-packages (3.4.3)\n",
      "Requirement already satisfied: thinc<8.2.0,>=8.1.0 in c:\\users\\hardi\\anaconda3\\lib\\site-packages (from spacy) (8.1.5)\n",
      "Requirement already satisfied: typer<0.8.0,>=0.3.0 in c:\\users\\hardi\\anaconda3\\lib\\site-packages (from spacy) (0.7.0)\n",
      "Requirement already satisfied: requests<3.0.0,>=2.13.0 in c:\\users\\hardi\\anaconda3\\lib\\site-packages (from spacy) (2.25.1)\n",
      "Requirement already satisfied: jinja2 in c:\\users\\hardi\\anaconda3\\lib\\site-packages (from spacy) (2.11.3)\n",
      "Requirement already satisfied: srsly<3.0.0,>=2.4.3 in c:\\users\\hardi\\anaconda3\\lib\\site-packages (from spacy) (2.4.5)\n",
      "Requirement already satisfied: murmurhash<1.1.0,>=0.28.0 in c:\\users\\hardi\\anaconda3\\lib\\site-packages (from spacy) (1.0.9)\n",
      "Requirement already satisfied: spacy-loggers<2.0.0,>=1.0.0 in c:\\users\\hardi\\anaconda3\\lib\\site-packages (from spacy) (1.0.3)\n",
      "Requirement already satisfied: numpy>=1.15.0 in c:\\users\\hardi\\anaconda3\\lib\\site-packages (from spacy) (1.19.5)\n",
      "Requirement already satisfied: pydantic!=1.8,!=1.8.1,<1.11.0,>=1.7.4 in c:\\users\\hardi\\anaconda3\\lib\\site-packages (from spacy) (1.8.2)\n",
      "Requirement already satisfied: wasabi<1.1.0,>=0.9.1 in c:\\users\\hardi\\anaconda3\\lib\\site-packages (from spacy) (0.10.1)\n",
      "Requirement already satisfied: catalogue<2.1.0,>=2.0.6 in c:\\users\\hardi\\anaconda3\\lib\\site-packages (from spacy) (2.0.8)\n",
      "Requirement already satisfied: setuptools in c:\\users\\hardi\\anaconda3\\lib\\site-packages (from spacy) (52.0.0.post20210125)\n",
      "Requirement already satisfied: preshed<3.1.0,>=3.0.2 in c:\\users\\hardi\\anaconda3\\lib\\site-packages (from spacy) (3.0.8)\n",
      "Requirement already satisfied: langcodes<4.0.0,>=3.2.0 in c:\\users\\hardi\\anaconda3\\lib\\site-packages (from spacy) (3.3.0)\n",
      "Requirement already satisfied: tqdm<5.0.0,>=4.38.0 in c:\\users\\hardi\\anaconda3\\lib\\site-packages (from spacy) (4.59.0)\n",
      "Requirement already satisfied: cymem<2.1.0,>=2.0.2 in c:\\users\\hardi\\anaconda3\\lib\\site-packages (from spacy) (2.0.7)\n",
      "Requirement already satisfied: pathy>=0.3.5 in c:\\users\\hardi\\anaconda3\\lib\\site-packages (from spacy) (0.10.0)\n",
      "Requirement already satisfied: spacy-legacy<3.1.0,>=3.0.10 in c:\\users\\hardi\\anaconda3\\lib\\site-packages (from spacy) (3.0.10)\n",
      "Requirement already satisfied: packaging>=20.0 in c:\\users\\hardi\\anaconda3\\lib\\site-packages (from spacy) (20.9)\n",
      "Requirement already satisfied: pyparsing>=2.0.2 in c:\\users\\hardi\\anaconda3\\lib\\site-packages (from packaging>=20.0->spacy) (2.4.7)\n",
      "Requirement already satisfied: smart-open<6.0.0,>=5.2.1 in c:\\users\\hardi\\anaconda3\\lib\\site-packages (from pathy>=0.3.5->spacy) (5.2.1)\n",
      "Requirement already satisfied: typing-extensions>=3.7.4.3 in c:\\users\\hardi\\anaconda3\\lib\\site-packages (from pydantic!=1.8,!=1.8.1,<1.11.0,>=1.7.4->spacy) (3.7.4.3)Note: you may need to restart the kernel to use updated packages.\n",
      "Requirement already satisfied: chardet<5,>=3.0.2 in c:\\users\\hardi\\anaconda3\\lib\\site-packages (from requests<3.0.0,>=2.13.0->spacy) (4.0.0)\n",
      "Requirement already satisfied: idna<3,>=2.5 in c:\\users\\hardi\\anaconda3\\lib\\site-packages (from requests<3.0.0,>=2.13.0->spacy) (2.10)\n",
      "Requirement already satisfied: certifi>=2017.4.17 in c:\\users\\hardi\\anaconda3\\lib\\site-packages (from requests<3.0.0,>=2.13.0->spacy) (2020.12.5)\n",
      "Requirement already satisfied: urllib3<1.27,>=1.21.1 in c:\\users\\hardi\\anaconda3\\lib\\site-packages (from requests<3.0.0,>=2.13.0->spacy) (1.26.4)\n",
      "Requirement already satisfied: blis<0.8.0,>=0.7.8 in c:\\users\\hardi\\anaconda3\\lib\\site-packages (from thinc<8.2.0,>=8.1.0->spacy) (0.7.9)\n",
      "Requirement already satisfied: confection<1.0.0,>=0.0.1 in c:\\users\\hardi\\anaconda3\\lib\\site-packages (from thinc<8.2.0,>=8.1.0->spacy) (0.0.3)\n",
      "Requirement already satisfied: click<9.0.0,>=7.1.1 in c:\\users\\hardi\\anaconda3\\lib\\site-packages (from typer<0.8.0,>=0.3.0->spacy) (7.1.2)\n",
      "\n"
     ]
    },
    {
     "name": "stderr",
     "output_type": "stream",
     "text": [
      "\n",
      "[notice] A new release of pip available: 22.3.1 -> 23.0\n",
      "[notice] To update, run: python.exe -m pip install --upgrade pip\n"
     ]
    },
    {
     "name": "stdout",
     "output_type": "stream",
     "text": [
      "Requirement already satisfied: MarkupSafe>=0.23 in c:\\users\\hardi\\anaconda3\\lib\\site-packages (from jinja2->spacy) (2.0.1)\n"
     ]
    }
   ],
   "source": [
    "pip install spacy"
   ]
  },
  {
   "cell_type": "code",
   "execution_count": 6,
   "id": "bdafc0a3",
   "metadata": {},
   "outputs": [
    {
     "name": "stdout",
     "output_type": "stream",
     "text": [
      "Requirement already satisfied: numpy in c:\\users\\hardi\\anaconda3\\lib\\site-packages (1.19.5)\n",
      "Collecting numpy\n",
      "  Downloading numpy-1.24.1-cp38-cp38-win_amd64.whl (14.9 MB)\n",
      "     -------------------------------------- 14.9/14.9 MB 579.7 kB/s eta 0:00:00\n",
      "Installing collected packages: numpy\n",
      "  Attempting uninstall: numpy\n",
      "    Found existing installation: numpy 1.19.5\n",
      "    Uninstalling numpy-1.19.5:\n",
      "      Successfully uninstalled numpy-1.19.5\n",
      "Note: you may need to restart the kernel to use updated packages.\n"
     ]
    },
    {
     "name": "stderr",
     "output_type": "stream",
     "text": [
      "ERROR: Could not install packages due to an OSError: [WinError 5] Access is denied: 'C:\\\\Users\\\\hardi\\\\anaconda3\\\\Lib\\\\site-packages\\\\~umpy\\\\.libs\\\\libopenblas.WCDJNK7YVMPZQ2ME2ZZHJJRJ3JIKNDB7.gfortran-win_amd64.dll'\n",
      "Consider using the `--user` option or check the permissions.\n",
      "\n",
      "\n",
      "[notice] A new release of pip available: 22.3.1 -> 23.0\n",
      "[notice] To update, run: python.exe -m pip install --upgrade pip\n"
     ]
    }
   ],
   "source": [
    "pip install numpy --upgrade"
   ]
  },
  {
   "cell_type": "code",
   "execution_count": 14,
   "id": "7851efca",
   "metadata": {},
   "outputs": [
    {
     "ename": "KeyError",
     "evalue": "'__reduce_cython__'",
     "output_type": "error",
     "traceback": [
      "\u001b[1;31m---------------------------------------------------------------------------\u001b[0m",
      "\u001b[1;31mKeyError\u001b[0m                                  Traceback (most recent call last)",
      "\u001b[1;32m<ipython-input-14-410bea3cf362>\u001b[0m in \u001b[0;36m<module>\u001b[1;34m\u001b[0m\n\u001b[1;32m----> 1\u001b[1;33m \u001b[1;32mimport\u001b[0m \u001b[0mspacy\u001b[0m\u001b[1;33m\u001b[0m\u001b[1;33m\u001b[0m\u001b[0m\n\u001b[0m\u001b[0;32m      2\u001b[0m \u001b[1;33m\u001b[0m\u001b[0m\n\u001b[0;32m      3\u001b[0m \u001b[1;31m# Load the NER model\u001b[0m\u001b[1;33m\u001b[0m\u001b[1;33m\u001b[0m\u001b[1;33m\u001b[0m\u001b[0m\n\u001b[0;32m      4\u001b[0m \u001b[0mnlp\u001b[0m \u001b[1;33m=\u001b[0m \u001b[0mspacy\u001b[0m\u001b[1;33m.\u001b[0m\u001b[0mload\u001b[0m\u001b[1;33m(\u001b[0m\u001b[1;34m\"en\"\u001b[0m\u001b[1;33m)\u001b[0m\u001b[1;33m\u001b[0m\u001b[1;33m\u001b[0m\u001b[0m\n\u001b[0;32m      5\u001b[0m \u001b[1;33m\u001b[0m\u001b[0m\n",
      "\u001b[1;32m~\\anaconda3\\lib\\site-packages\\spacy\\__init__.py\u001b[0m in \u001b[0;36m<module>\u001b[1;34m\u001b[0m\n\u001b[0;32m     12\u001b[0m \u001b[1;32mfrom\u001b[0m \u001b[0mthinc\u001b[0m\u001b[1;33m.\u001b[0m\u001b[0mapi\u001b[0m \u001b[1;32mimport\u001b[0m \u001b[0mConfig\u001b[0m\u001b[1;33m\u001b[0m\u001b[1;33m\u001b[0m\u001b[0m\n\u001b[0;32m     13\u001b[0m \u001b[1;33m\u001b[0m\u001b[0m\n\u001b[1;32m---> 14\u001b[1;33m \u001b[1;32mfrom\u001b[0m \u001b[1;33m.\u001b[0m \u001b[1;32mimport\u001b[0m \u001b[0mpipeline\u001b[0m  \u001b[1;31m# noqa: F401\u001b[0m\u001b[1;33m\u001b[0m\u001b[1;33m\u001b[0m\u001b[0m\n\u001b[0m\u001b[0;32m     15\u001b[0m \u001b[1;32mfrom\u001b[0m \u001b[1;33m.\u001b[0m\u001b[0mcli\u001b[0m\u001b[1;33m.\u001b[0m\u001b[0minfo\u001b[0m \u001b[1;32mimport\u001b[0m \u001b[0minfo\u001b[0m  \u001b[1;31m# noqa: F401\u001b[0m\u001b[1;33m\u001b[0m\u001b[1;33m\u001b[0m\u001b[0m\n\u001b[0;32m     16\u001b[0m \u001b[1;32mfrom\u001b[0m \u001b[1;33m.\u001b[0m\u001b[0mglossary\u001b[0m \u001b[1;32mimport\u001b[0m \u001b[0mexplain\u001b[0m  \u001b[1;31m# noqa: F401\u001b[0m\u001b[1;33m\u001b[0m\u001b[1;33m\u001b[0m\u001b[0m\n",
      "\u001b[1;32m~\\anaconda3\\lib\\site-packages\\spacy\\pipeline\\__init__.py\u001b[0m in \u001b[0;36m<module>\u001b[1;34m\u001b[0m\n\u001b[0;32m      1\u001b[0m \u001b[1;32mfrom\u001b[0m \u001b[1;33m.\u001b[0m\u001b[0mattributeruler\u001b[0m \u001b[1;32mimport\u001b[0m \u001b[0mAttributeRuler\u001b[0m\u001b[1;33m\u001b[0m\u001b[1;33m\u001b[0m\u001b[0m\n\u001b[1;32m----> 2\u001b[1;33m \u001b[1;32mfrom\u001b[0m \u001b[1;33m.\u001b[0m\u001b[0mdep_parser\u001b[0m \u001b[1;32mimport\u001b[0m \u001b[0mDependencyParser\u001b[0m\u001b[1;33m\u001b[0m\u001b[1;33m\u001b[0m\u001b[0m\n\u001b[0m\u001b[0;32m      3\u001b[0m \u001b[1;32mfrom\u001b[0m \u001b[1;33m.\u001b[0m\u001b[0medit_tree_lemmatizer\u001b[0m \u001b[1;32mimport\u001b[0m \u001b[0mEditTreeLemmatizer\u001b[0m\u001b[1;33m\u001b[0m\u001b[1;33m\u001b[0m\u001b[0m\n\u001b[0;32m      4\u001b[0m \u001b[1;32mfrom\u001b[0m \u001b[1;33m.\u001b[0m\u001b[0mentity_linker\u001b[0m \u001b[1;32mimport\u001b[0m \u001b[0mEntityLinker\u001b[0m\u001b[1;33m\u001b[0m\u001b[1;33m\u001b[0m\u001b[0m\n\u001b[0;32m      5\u001b[0m \u001b[1;32mfrom\u001b[0m \u001b[1;33m.\u001b[0m\u001b[0mner\u001b[0m \u001b[1;32mimport\u001b[0m \u001b[0mEntityRecognizer\u001b[0m\u001b[1;33m\u001b[0m\u001b[1;33m\u001b[0m\u001b[0m\n",
      "\u001b[1;32m~\\anaconda3\\lib\\site-packages\\spacy\\pipeline\\dep_parser.pyx\u001b[0m in \u001b[0;36minit spacy.pipeline.dep_parser\u001b[1;34m()\u001b[0m\n",
      "\u001b[1;32m~\\anaconda3\\lib\\site-packages\\spacy\\pipeline\\transition_parser.pyx\u001b[0m in \u001b[0;36minit spacy.pipeline.transition_parser\u001b[1;34m()\u001b[0m\n",
      "\u001b[1;31mKeyError\u001b[0m: '__reduce_cython__'"
     ]
    }
   ],
   "source": [
    "import spacy\n",
    "\n",
    "# Load the NER model\n",
    "nlp = spacy.load(\"en\")\n",
    "\n",
    "# Process the text using the NER model\n",
    "doc = nlp(no_punc2_text)\n",
    "\n",
    "# Extract the entities from the processed text\n",
    "entities = [(entity.text, entity.label_) for entity in doc.ents]\n",
    "\n",
    "# Filter the entities to get only the ones of interest (e.g. LOC, WEA)\n",
    "filtered_entities = [entity for entity in entities if entity[1] in [\"LOC\", \"WEA\"]]\n",
    "\n",
    "# Print the filtered entities\n",
    "print(filtered_entities)"
   ]
  },
  {
   "cell_type": "code",
   "execution_count": 12,
   "id": "4648b952",
   "metadata": {},
   "outputs": [
    {
     "name": "stdout",
     "output_type": "stream",
     "text": [
      "Requirement already satisfied: spacy in c:\\users\\hardi\\anaconda3\\lib\\site-packages (3.4.3)\n",
      "Requirement already satisfied: requests<3.0.0,>=2.13.0 in c:\\users\\hardi\\anaconda3\\lib\\site-packages (from spacy) (2.25.1)\n",
      "Requirement already satisfied: pydantic!=1.8,!=1.8.1,<1.11.0,>=1.7.4 in c:\\users\\hardi\\anaconda3\\lib\\site-packages (from spacy) (1.8.2)\n",
      "Requirement already satisfied: catalogue<2.1.0,>=2.0.6 in c:\\users\\hardi\\anaconda3\\lib\\site-packages (from spacy) (2.0.8)\n",
      "Requirement already satisfied: packaging>=20.0 in c:\\users\\hardi\\anaconda3\\lib\\site-packages (from spacy) (20.9)\n",
      "Requirement already satisfied: spacy-legacy<3.1.0,>=3.0.10 in c:\\users\\hardi\\anaconda3\\lib\\site-packages (from spacy) (3.0.10)\n",
      "Requirement already satisfied: langcodes<4.0.0,>=3.2.0 in c:\\users\\hardi\\anaconda3\\lib\\site-packages (from spacy) (3.3.0)\n",
      "Requirement already satisfied: typer<0.8.0,>=0.3.0 in c:\\users\\hardi\\anaconda3\\lib\\site-packages (from spacy) (0.7.0)\n",
      "Requirement already satisfied: pathy>=0.3.5 in c:\\users\\hardi\\anaconda3\\lib\\site-packages (from spacy) (0.10.0)\n",
      "Requirement already satisfied: setuptools in c:\\users\\hardi\\anaconda3\\lib\\site-packages (from spacy) (52.0.0.post20210125)\n",
      "Requirement already satisfied: numpy>=1.15.0 in c:\\users\\hardi\\anaconda3\\lib\\site-packages (from spacy) (1.24.1)\n",
      "Requirement already satisfied: cymem<2.1.0,>=2.0.2 in c:\\users\\hardi\\anaconda3\\lib\\site-packages (from spacy) (2.0.7)\n",
      "Requirement already satisfied: thinc<8.2.0,>=8.1.0 in c:\\users\\hardi\\anaconda3\\lib\\site-packages (from spacy) (8.1.5)\n",
      "Requirement already satisfied: preshed<3.1.0,>=3.0.2 in c:\\users\\hardi\\anaconda3\\lib\\site-packages (from spacy) (3.0.8)\n",
      "Requirement already satisfied: spacy-loggers<2.0.0,>=1.0.0 in c:\\users\\hardi\\anaconda3\\lib\\site-packages (from spacy) (1.0.3)\n",
      "Requirement already satisfied: jinja2 in c:\\users\\hardi\\anaconda3\\lib\\site-packages (from spacy) (2.11.3)\n",
      "Note: you may need to restart the kernel to use updated packages.Requirement already satisfied: murmurhash<1.1.0,>=0.28.0 in c:\\users\\hardi\\anaconda3\\lib\\site-packages (from spacy) (1.0.9)\n",
      "Requirement already satisfied: wasabi<1.1.0,>=0.9.1 in c:\\users\\hardi\\anaconda3\\lib\\site-packages (from spacy) (0.10.1)\n",
      "Requirement already satisfied: tqdm<5.0.0,>=4.38.0 in c:\\users\\hardi\\anaconda3\\lib\\site-packages (from spacy) (4.59.0)\n",
      "Requirement already satisfied: srsly<3.0.0,>=2.4.3 in c:\\users\\hardi\\anaconda3\\lib\\site-packages (from spacy) (2.4.5)\n",
      "Requirement already satisfied: pyparsing>=2.0.2 in c:\\users\\hardi\\anaconda3\\lib\\site-packages (from packaging>=20.0->spacy) (2.4.7)\n",
      "Requirement already satisfied: smart-open<6.0.0,>=5.2.1 in c:\\users\\hardi\\anaconda3\\lib\\site-packages (from pathy>=0.3.5->spacy) (5.2.1)\n",
      "Requirement already satisfied: typing-extensions>=3.7.4.3 in c:\\users\\hardi\\anaconda3\\lib\\site-packages (from pydantic!=1.8,!=1.8.1,<1.11.0,>=1.7.4->spacy) (3.7.4.3)\n",
      "Requirement already satisfied: urllib3<1.27,>=1.21.1 in c:\\users\\hardi\\anaconda3\\lib\\site-packages (from requests<3.0.0,>=2.13.0->spacy) (1.26.4)\n",
      "Requirement already satisfied: certifi>=2017.4.17 in c:\\users\\hardi\\anaconda3\\lib\\site-packages (from requests<3.0.0,>=2.13.0->spacy) (2020.12.5)\n"
     ]
    },
    {
     "name": "stderr",
     "output_type": "stream",
     "text": [
      "\n",
      "[notice] A new release of pip available: 22.3.1 -> 23.0\n",
      "[notice] To update, run: python.exe -m pip install --upgrade pip\n"
     ]
    },
    {
     "name": "stdout",
     "output_type": "stream",
     "text": [
      "\n",
      "Requirement already satisfied: idna<3,>=2.5 in c:\\users\\hardi\\anaconda3\\lib\\site-packages (from requests<3.0.0,>=2.13.0->spacy) (2.10)\n",
      "Requirement already satisfied: chardet<5,>=3.0.2 in c:\\users\\hardi\\anaconda3\\lib\\site-packages (from requests<3.0.0,>=2.13.0->spacy) (4.0.0)\n",
      "Requirement already satisfied: confection<1.0.0,>=0.0.1 in c:\\users\\hardi\\anaconda3\\lib\\site-packages (from thinc<8.2.0,>=8.1.0->spacy) (0.0.3)\n",
      "Requirement already satisfied: blis<0.8.0,>=0.7.8 in c:\\users\\hardi\\anaconda3\\lib\\site-packages (from thinc<8.2.0,>=8.1.0->spacy) (0.7.9)\n",
      "Requirement already satisfied: click<9.0.0,>=7.1.1 in c:\\users\\hardi\\anaconda3\\lib\\site-packages (from typer<0.8.0,>=0.3.0->spacy) (7.1.2)\n",
      "Requirement already satisfied: MarkupSafe>=0.23 in c:\\users\\hardi\\anaconda3\\lib\\site-packages (from jinja2->spacy) (2.0.1)\n"
     ]
    }
   ],
   "source": [
    "pip install spacy"
   ]
  },
  {
   "cell_type": "code",
   "execution_count": null,
   "id": "1f7f1900",
   "metadata": {},
   "outputs": [],
   "source": []
  }
 ],
 "metadata": {
  "kernelspec": {
   "display_name": "Python 3",
   "language": "python",
   "name": "python3"
  },
  "language_info": {
   "codemirror_mode": {
    "name": "ipython",
    "version": 3
   },
   "file_extension": ".py",
   "mimetype": "text/x-python",
   "name": "python",
   "nbconvert_exporter": "python",
   "pygments_lexer": "ipython3",
   "version": "3.8.8"
  }
 },
 "nbformat": 4,
 "nbformat_minor": 5
}

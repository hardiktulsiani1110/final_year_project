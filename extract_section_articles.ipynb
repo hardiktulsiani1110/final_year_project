{
 "cells": [
  {
   "cell_type": "code",
   "execution_count": 1,
   "id": "973caef1",
   "metadata": {},
   "outputs": [],
   "source": [
    "from summarizer import Summarizer,TransformerSummarizer"
   ]
  },
  {
   "cell_type": "code",
   "execution_count": 8,
   "id": "9156b27f",
   "metadata": {},
   "outputs": [
    {
     "name": "stdout",
     "output_type": "stream",
     "text": [
      "^C\n",
      "Note: you may need to restart the kernel to use updated packages.\n"
     ]
    }
   ],
   "source": [
    "pip uninstall tensorflow"
   ]
  },
  {
   "cell_type": "code",
   "execution_count": 3,
   "id": "d787d5f5",
   "metadata": {},
   "outputs": [
    {
     "name": "stdout",
     "output_type": "stream",
     "text": [
      "pip 22.3.1 from C:\\Users\\hardi\\anaconda3\\lib\\site-packages\\pip (python 3.8)\n",
      "\n",
      "Note: you may need to restart the kernel to use updated packages.\n"
     ]
    }
   ],
   "source": [
    "pip --version"
   ]
  },
  {
   "cell_type": "code",
   "execution_count": 12,
   "id": "e97e3222",
   "metadata": {},
   "outputs": [
    {
     "name": "stdout",
     "output_type": "stream",
     "text": [
      "Requirement already satisfied: tensorflow==2.5 in c:\\users\\hardi\\appdata\\roaming\\python\\python38\\site-packages (2.5.0)\n",
      "Requirement already satisfied: six~=1.15.0 in c:\\users\\hardi\\anaconda3\\lib\\site-packages (from tensorflow==2.5) (1.15.0)\n",
      "Requirement already satisfied: h5py~=3.1.0 in c:\\users\\hardi\\anaconda3\\lib\\site-packages (from tensorflow==2.5) (3.1.0)\n",
      "Requirement already satisfied: numpy~=1.19.2 in c:\\users\\hardi\\anaconda3\\lib\\site-packages (from tensorflow==2.5) (1.19.5)\n",
      "Requirement already satisfied: typing-extensions~=3.7.4 in c:\\users\\hardi\\anaconda3\\lib\\site-packages (from tensorflow==2.5) (3.7.4.3)\n",
      "Requirement already satisfied: grpcio~=1.34.0 in c:\\users\\hardi\\appdata\\roaming\\python\\python38\\site-packages (from tensorflow==2.5) (1.34.1)\n",
      "Requirement already satisfied: flatbuffers~=1.12.0 in c:\\users\\hardi\\anaconda3\\lib\\site-packages (from tensorflow==2.5) (1.12)\n",
      "Requirement already satisfied: absl-py~=0.10 in c:\\users\\hardi\\appdata\\roaming\\python\\python38\\site-packages (from tensorflow==2.5) (0.15.0)\n",
      "Requirement already satisfied: keras-preprocessing~=1.1.2 in c:\\users\\hardi\\anaconda3\\lib\\site-packages (from tensorflow==2.5) (1.1.2)\n",
      "Requirement already satisfied: termcolor~=1.1.0 in c:\\users\\hardi\\anaconda3\\lib\\site-packages (from tensorflow==2.5) (1.1.0)\n",
      "Requirement already satisfied: astunparse~=1.6.3 in c:\\users\\hardi\\anaconda3\\lib\\site-packages (from tensorflow==2.5) (1.6.3)\n",
      "Requirement already satisfied: gast==0.4.0 in c:\\users\\hardi\\anaconda3\\lib\\site-packages (from tensorflow==2.5) (0.4.0)\n",
      "Requirement already satisfied: tensorflow-estimator<2.6.0,>=2.5.0rc0 in c:\\users\\hardi\\anaconda3\\lib\\site-packages (from tensorflow==2.5) (2.5.0)\n",
      "Requirement already satisfied: protobuf>=3.9.2 in c:\\users\\hardi\\anaconda3\\lib\\site-packages (from tensorflow==2.5) (3.19.6)\n",
      "Requirement already satisfied: opt-einsum~=3.3.0 in c:\\users\\hardi\\anaconda3\\lib\\site-packages (from tensorflow==2.5) (3.3.0)\n",
      "Requirement already satisfied: tensorboard~=2.5 in c:\\users\\hardi\\anaconda3\\lib\\site-packages (from tensorflow==2.5) (2.11.2)\n",
      "Requirement already satisfied: google-pasta~=0.2 in c:\\users\\hardi\\anaconda3\\lib\\site-packages (from tensorflow==2.5) (0.2.0)\n",
      "Requirement already satisfied: keras-nightly~=2.5.0.dev in c:\\users\\hardi\\anaconda3\\lib\\site-packages (from tensorflow==2.5) (2.5.0.dev2021032900)\n",
      "Requirement already satisfied: wrapt~=1.12.1 in c:\\users\\hardi\\anaconda3\\lib\\site-packages (from tensorflow==2.5) (1.12.1)\n",
      "Requirement already satisfied: wheel~=0.35 in c:\\users\\hardi\\anaconda3\\lib\\site-packages (from tensorflow==2.5) (0.36.2)\n",
      "Requirement already satisfied: google-auth<3,>=1.6.3 in c:\\users\\hardi\\anaconda3\\lib\\site-packages (from tensorboard~=2.5->tensorflow==2.5) (1.35.0)\n",
      "Requirement already satisfied: requests<3,>=2.21.0 in c:\\users\\hardi\\anaconda3\\lib\\site-packages (from tensorboard~=2.5->tensorflow==2.5) (2.25.1)\n",
      "Requirement already satisfied: tensorboard-data-server<0.7.0,>=0.6.0 in c:\\users\\hardi\\anaconda3\\lib\\site-packages (from tensorboard~=2.5->tensorflow==2.5) (0.6.1)\n",
      "Requirement already satisfied: tensorboard-plugin-wit>=1.6.0 in c:\\users\\hardi\\anaconda3\\lib\\site-packages (from tensorboard~=2.5->tensorflow==2.5) (1.8.1)\n",
      "Requirement already satisfied: werkzeug>=1.0.1 in c:\\users\\hardi\\anaconda3\\lib\\site-packages (from tensorboard~=2.5->tensorflow==2.5) (1.0.1)\n",
      "Requirement already satisfied: setuptools>=41.0.0 in c:\\users\\hardi\\anaconda3\\lib\\site-packages (from tensorboard~=2.5->tensorflow==2.5) (52.0.0.post20210125)\n",
      "Requirement already satisfied: markdown>=2.6.8 in c:\\users\\hardi\\anaconda3\\lib\\site-packages (from tensorboard~=2.5->tensorflow==2.5) (3.4.1)\n",
      "Requirement already satisfied: google-auth-oauthlib<0.5,>=0.4.1 in c:\\users\\hardi\\anaconda3\\lib\\site-packages (from tensorboard~=2.5->tensorflow==2.5) (0.4.6)\n",
      "Requirement already satisfied: pyasn1-modules>=0.2.1 in c:\\users\\hardi\\anaconda3\\lib\\site-packages (from google-auth<3,>=1.6.3->tensorboard~=2.5->tensorflow==2.5) (0.2.8)\n",
      "Requirement already satisfied: cachetools<5.0,>=2.0.0 in c:\\users\\hardi\\anaconda3\\lib\\site-packages (from google-auth<3,>=1.6.3->tensorboard~=2.5->tensorflow==2.5) (4.2.4)\n",
      "Requirement already satisfied: rsa<5,>=3.1.4 in c:\\users\\hardi\\anaconda3\\lib\\site-packages (from google-auth<3,>=1.6.3->tensorboard~=2.5->tensorflow==2.5) (4.9)\n",
      "Requirement already satisfied: requests-oauthlib>=0.7.0 in c:\\users\\hardi\\anaconda3\\lib\\site-packages (from google-auth-oauthlib<0.5,>=0.4.1->tensorboard~=2.5->tensorflow==2.5) (1.3.1)\n",
      "Requirement already satisfied: importlib-metadata>=4.4 in c:\\users\\hardi\\anaconda3\\lib\\site-packages (from markdown>=2.6.8->tensorboard~=2.5->tensorflow==2.5) (5.1.0)\n",
      "Requirement already satisfied: idna<3,>=2.5 in c:\\users\\hardi\\anaconda3\\lib\\site-packages (from requests<3,>=2.21.0->tensorboard~=2.5->tensorflow==2.5) (2.10)\n",
      "Requirement already satisfied: chardet<5,>=3.0.2 in c:\\users\\hardi\\anaconda3\\lib\\site-packages (from requests<3,>=2.21.0->tensorboard~=2.5->tensorflow==2.5) (4.0.0)\n",
      "Requirement already satisfied: urllib3<1.27,>=1.21.1 in c:\\users\\hardi\\anaconda3\\lib\\site-packages (from requests<3,>=2.21.0->tensorboard~=2.5->tensorflow==2.5) (1.26.4)\n",
      "Requirement already satisfied: certifi>=2017.4.17 in c:\\users\\hardi\\anaconda3\\lib\\site-packages (from requests<3,>=2.21.0->tensorboard~=2.5->tensorflow==2.5) (2020.12.5)\n",
      "Requirement already satisfied: zipp>=0.5 in c:\\users\\hardi\\anaconda3\\lib\\site-packages (from importlib-metadata>=4.4->markdown>=2.6.8->tensorboard~=2.5->tensorflow==2.5) (3.4.1)\n",
      "Requirement already satisfied: pyasn1<0.5.0,>=0.4.6 in c:\\users\\hardi\\anaconda3\\lib\\site-packages (from pyasn1-modules>=0.2.1->google-auth<3,>=1.6.3->tensorboard~=2.5->tensorflow==2.5) (0.4.8)\n",
      "Requirement already satisfied: oauthlib>=3.0.0 in c:\\users\\hardi\\anaconda3\\lib\\site-packages (from requests-oauthlib>=0.7.0->google-auth-oauthlib<0.5,>=0.4.1->tensorboard~=2.5->tensorflow==2.5) (3.2.2)\n",
      "Note: you may need to restart the kernel to use updated packages.\n"
     ]
    },
    {
     "name": "stderr",
     "output_type": "stream",
     "text": [
      "\n",
      "[notice] A new release of pip available: 22.3.1 -> 23.1.2\n",
      "[notice] To update, run: python.exe -m pip install --upgrade pip\n"
     ]
    }
   ],
   "source": [
    "pip install tensorflow==2.5 --user"
   ]
  },
  {
   "cell_type": "code",
   "execution_count": 2,
   "id": "fd779bf0",
   "metadata": {},
   "outputs": [
    {
     "name": "stderr",
     "output_type": "stream",
     "text": [
      "Some weights of the model checkpoint at bert-large-uncased were not used when initializing BertModel: ['cls.predictions.bias', 'cls.predictions.transform.dense.bias', 'cls.seq_relationship.weight', 'cls.seq_relationship.bias', 'cls.predictions.decoder.weight', 'cls.predictions.transform.LayerNorm.weight', 'cls.predictions.transform.LayerNorm.bias', 'cls.predictions.transform.dense.weight']\n",
      "- This IS expected if you are initializing BertModel from the checkpoint of a model trained on another task or with another architecture (e.g. initializing a BertForSequenceClassification model from a BertForPreTraining model).\n",
      "- This IS NOT expected if you are initializing BertModel from the checkpoint of a model that you expect to be exactly identical (initializing a BertForSequenceClassification model from a BertForSequenceClassification model).\n"
     ]
    }
   ],
   "source": [
    "bert_model = Summarizer()"
   ]
  },
  {
   "cell_type": "code",
   "execution_count": 1,
   "id": "4cbf6bc6",
   "metadata": {},
   "outputs": [],
   "source": [
    "body='''Feeling aggrieved and dissatisfied with the impugned judgment and order dated 16.08.2021passed by the High Court of Judicature at Allahabad in Writ Petition No. 15194 of 2021, by which the High Court has allowed the said writ petition preferred by respondent No.1 herein (original writ petitioner) and has, in exercise of powers under Article 226 of the Constitution of India, issued a writ of mandamus directing the appellant – Bank to positively consider the original writ petitioner’s Signature Not Verified application for One Time Settlement (OTS), the Bank has preferred the Digitally signed by R Natarajan Date: 2021.12.15 15:33:33 IST Reason:\n",
    "\n",
    "present appeal.\n",
    "\n",
    "\f",
    "2. The facts leading to the present appeal in a nutshell are as under:\n",
    "\n",
    "That the original writ petitioner had obtained credit facility from the bank of about Rs. 1 crore. The said loan account with the Bank was categorised as “Non-Performing Asset, (NPA)”. The Bank also initiated proceedings under the provisions of the Securitization and Reconstruction of Financial Assets and Enforcement of Security Interest Act, 2002 (hereinafter referred to as the ‘SARFAESI Act’). That there were two other loan accounts also which were being regularly serviced by respondent no.1 – original writ petitioner, meaning thereby that the payment was regularised insofar as two other loan accounts are concerned. However, so far as the present loan account is concerned, which was declared as NPA, not a single amount was paid till an application for extending the benefit of OTS was submitted. 2.1 That One Time Settlement Scheme was issued by the Bank vide OTS Circular dated 01.08.2013 which provided that on the conditions contained in the said circular being complied with, the benefit of OTS can be taken by the debtor. The benefit of OTS Scheme came to be extended till 30.11.2019. The original writ petitioner submitted an application for consideration of her case under OTS vide application dated 22.07.2019. Vide communication dated 17.09.2019, her application for grant of benefit under the OTS came to be rejected on the ground that she is not eligible for OTS under the OTS Scheme and that \f",
    "the loan can be recovered by auction of the mortgaged property and that there are chances of recovering the loan amount and that her loan account has been declared as ‘NPA’. It appears that to come out of NPA eligibility, the original writ petitioner deposited a sum of Rs.60 lakhs on 02.03.2020, i.e., after rejection of her earlier application on the ground that as her loan account is “NPA’, she is not eligible for OTS Scheme. 2.2 The Board of the Bank also passed a resolution dated 28.12.2020 to the effect that original writ petitioner is not eligible for the benefit under the OTS Scheme for the reason that the loan account is fully recoverable and all the measures to recover the loan amount have not yet been exhausted and the chances of recovery of the loan amount are still there.\n",
    "\n",
    "2.3 The original writ petitioner filed a writ petition before the High Court being Writ Petition No. 18221 of 2020 challenging the order dated 17.09.2019 passed by the Bank rejecting her application for giving the benefit of OTS scheme. Vide order dated 25.01.2021, the High Court disposed of the said writ petition by directing the Bank to consider the grievance of the original writ petitioner and to decide her representation dated 22.07.2019 after affording due opportunity of hearing to her, as expeditiously as possible and preferably within a period of four weeks. At this stage, it is required to be noted that in the said writ petition, the original writ petitioner also prayed for a writ of mandamus directing the \f",
    "Bank to give the benefit of OTS so that the original writ petitioner may deposit the entire amount at once so as to clear her dues for the loan which she had taken in the year 2013, which prayer was not granted by the High Court and the High Court only directed the Bank to consider her grievance and decide her representation dated 22.07.2019. 2.4 Thereafter, the original writ petitioner again submitted an application dated 06.02.2021 to the Bank to grant the benefit under the OTS, which again was rejected by the Bank vide communication dated 08.01.2021 and 25.02.2021. The original writ petitioner filed a fresh writ petition before the High Court being Writ Petition No. 15194 of 2021 with a prayer to quash the aforesaid impugned orders dated 08.01.2021 and 25.02.2021 rejecting her application for grant of benefit of OTS and also prayed for a writ of mandamus to direct the Bank to give the benefit of OTS issued vide Circular Nos. C-108 and C-121.\n",
    "\n",
    "2.5 The aforesaid writ petition was vehemently opposed by the Bank by filing a detailed affidavit-in-reply. It was inter alia submitted that the writ petitioner was not entitled to get any relief under the OTS Scheme as the probabilities of recovery of loan amount does not diminish and still stands and sufficient amount of property is mortgaged with the Bank and therefore by auctioning the mortgaged property the Bank can recover the loan amount. It was also submitted that her case does not come under the eligible category for OTS. It was submitted that even the case of the \f",
    "original writ petitioner was referred to the Settlement Advisory Committee for consideration which after hearing the writ petitioner also rejected her application for grant of benefit under the OTS Scheme. By the impugned judgment and order and in exercise of powers under Article 226 of the Constitution of India, the High Court has issued a writ of mandamus and has directed the Bank to positively consider her application for grant of benefit under the OTS Scheme. 2.6 Feeling aggrieved and dissatisfied with the impugned judgment and order passed by the High court, by which the High Court in exercise of powers under Article 226 of the Constitution of India has issued a writ of mandamus directing the Bank to positively consider her application for OTS, the Bank has preferred the present appeal.\n",
    "\n",
    "3. Ms. Meenakshi Arora, learned Senior Advocate has appeared on behalf of the appellant herein – Bank and Shri V.K. Shukla, learned Senior Advocate has appeared on behalf of respondent no.1 herein. 3.1 Ms. Meenakshi Arora, learned Senior Advocate appearing on behalf of the appellant herein has vehemently submitted that the High Court has materially erred in issuing a writ of mandamus directing the Bank to positively consider the application of the original writ petitioner for grant of OTS which, according to the learned counsel appearing on behalf of the Bank, could not have been passed in exercise of powers under Article 226 of the Constitution of India.\n",
    "\n",
    "\f",
    "3.2 It is vehemently submitted that as such a conscious decision was taken by the Bank as well as the Settlement Advisory Committee that the original writ petitioner is not eligible for grant of benefit of OTS as she is not fulfilling the eligibility criteria for availing the benefit of OTS. 3.3 It is further submitted that a conscious decision was taken considering the RBI guidelines as well as the OTS Scheme and that too after giving an opportunity to the original writ petitioner and therefore the same ought not to have been set aside by the High Court. 3.4 It is further submitted that as such the benefit of OTS cannot be asked/prayed as a matter of right by any person who is in default. It is submitted that the benefit of OTS is to be granted as per the Guidelines issued by the RBI as well as the conditions in the OTS Scheme itself. It is submitted that if it is found that there are chances of recovering the loan amount by auctioning the mortgaged property and/or by auctioning the other properties which are put as a security and the chances of recovery of the entire loan amount are not diminished, the Bank is justified in refusing to grant the benefit under the OTS Scheme. 3.5 It is submitted that in the present case, in other two loan accounts, the original writ petitioner is making the payments, however, insofar as the present loan account is concerned, not a single amount was deposited till 2.3.2020. It is submitted that a sum of Rs. 60 lakhs was deposited cleverly by the original writ petitioner to come out of NPA. It is \f",
    "submitted only when, after her first application for grant of benefit under the OTS Scheme was rejected on 17.09.2019, the original writ petitioner thereafter deposited a sum of Rs.60 lakhs to come out of NPA and to take the benefit under the OTS Scheme. It is submitted that under the OTS Scheme, once the account is declared as NPA and not a single amount has been deposited till the application for grant of benefit under the OTS is filed and there are chances of recovery of the entire loan amount by auctioning the mortgaged property or other properties put as a security, the application for grant of benefit under the OTS scheme can be rejected.\n",
    "\n",
    "3.6 It is therefore submitted that in the present case, as it was found that the original writ petitioner is not eligible for grant of benefit under the OTS Scheme, her application was rightly rejected, both, by the Bank as well as the Settlement Advisory Committee.\n",
    "\n",
    "3.7 It is further submitted that the decision/s to reject her application for grant of benefit under the OTS Scheme was absolutely in consonance with the guidelines issued by the RBI as well as the OTS Scheme itself. It is submitted that the High Court ought not to have issued a writ of mandamus directing the Bank to positively consider her case for grant of benefit under the OTS Scheme, in absence of any absolute/vested right in her favour.\n",
    "\n",
    "\f",
    "3.8 Ms. Meenakshi Arora, learned counsel appearing on behalf of the appellant Bank has heavily relied upon the decisions of the Allahabad High Court in the case of M.M. Accessories v. U.P. Financial Corporation, Kanpur, reported in AIR 2002 All 96 as well as another decision in the case of Vipin Kumar Gupta v. Branch Manager, Union Bank of India, Gyanpur, reported in AIR 2004 All 319 by submitting that in the aforesaid two decisions, it is specifically observed and held by the very High Court that no such writ of mandamus directing to grant the benefit of OTS can be issued in exercise of powers under Article 226 of the Constitution of India. It is submitted that though the aforesaid decisions were cited before the High Court, the same have not been dealt with and considered by the High Court.\n",
    "\n",
    "3.9 Making the above submissions, it is prayed to allow the present appeal and quash and set aside the impugned order passed by the High Court directing the Bank to positively consider the case of the original writ petitioner for grant of benefit under the OTS Scheme.\n",
    "\n",
    "4. The present appeal is vehemently opposed by Shri V.K. Shukla, learned Senior Advocate appearing on behalf of respondent no.1 – original writ petitioner. It is submitted that in the present case as it was found that though the original writ petitioner is ready and willing to deposit the entire amount under the OTS Scheme and though she is eligible for the grant of benefit under the OTS Scheme, her application \f",
    "for grant of benefit under the OTS Scheme was rejected which is found to be arbitrary and against the principle of natural justice, the High Court has rightly set aside the decision rejecting the application of the original writ petitioner for grant of benefit under the OTS Scheme. 4.1 It is submitted that under the OTS Scheme, a loanee is required to deposit at least 25% of the total amount along with the application, however, the original writ petitioner deposited more than 50% of the amount to be paid – before her application for grant of benefit under the OTS is considered. It is submitted that the cheque for the said amount came to be accepted by the Bank and even the same was credited in the NPA account, thereby showing that her request for OTS has been accepted. It is submitted that thereafter to reject the application for grant of benefit under the OTS is malafide and arbitrary and therefore the High Court has rightly issued a writ of mandamus and has rightly directed the bank to positively consider her case for grant of benefit under the OTS Scheme.\n",
    "\n",
    "4.2 It is further submitted that as such the original writ petitioner was being harassed by the Bank even when she was eligible to the benefit under the OTS Scheme. It is submitted that the Bank with an ill/ulterior motive deliberately refused to grant the benefit under the OTS Scheme just to grab her property. It is therefore prayed not to interfere with the \f",
    "impugned judgment and order passed by the High Court, in exercise of powers under Article 136 of the Constitution of India.\n",
    "\n",
    "5. Having heard learned counsel for the respective parties at length, the following issues/questions are posed for consideration of this Court:\n",
    "\n",
    "i) Whether benefit under the OTS Scheme can be prayed as a matter of right?;\n",
    "\n",
    "ii) Whether the High Court in exercise of powers under Article 226 of the Constitution of India can issue a writ of mandamus directing the Bank to positively consider the grant of benefit under the OTS Scheme and that too de hors the eligibility criteria mentioned under the OTS Scheme?\n",
    "\n",
    "5.1 While considering the aforesaid issues/questions, the relevant clauses of the OTS Scheme are required to be referred to which are as under:\n",
    "\n",
    "1. “Introduction:-\n",
    "A large part of various types of loans dispersed from time to time by the urban co-operative banks of the state to the institutions/ members are currently in the form of time-less loans has been blocked. Despite all the efforts regarding recovery of such lapsed loans, the recovery of loans is not being done for a long time. According to the guidelines issued by the Reserve Bank of India for OTS from time to time, it has been decided to implement the revised one time settlement (OTS) for recovery of non- performing assets in the state so that serious timeless debts of the bank can be saved to get maximum recovery.\n",
    "2. Coverage (Cut-off- date): -\n",
    "\f",
    "This scheme in respect of all types of debts classified as doubtful or loss assets as on 31 .3.2013 on entities/individuals as per the revised guidelines by the Reserve Bank of India will apply.\n",
    "\n",
    "According to the revised guidelines by the Reserve Bank of India, this scheme is applicable in respect of all types of loans on institutions and individuals as on 31.03.2013, which have been in the category of doubtful or loss assets or have been classified in sub-standard on the said date. The following categories of defaulters will not be eligible under this scheme:\n",
    "\n",
    "1. Willful defaulter in repayment of loan, (The person or institution who has not paid even one installment after taking the loan, he will not be able to pay the loan will be considered in the category of defaulter).\n",
    "\n",
    "2. Cases of fraud and forgery.\n",
    "\n",
    "3. Loans taken by salaried employees.\n",
    "\n",
    "4. Such timeless loan which has been availed by the bank secretary / operator or whose guarantee has been taken by any director of the bank or the close relative of the operator or any institution in which the interest of the current or former director is vested.\n",
    "\n",
    "5. Such a timeless loan whose guarantee has been given by the government.\n",
    "\n",
    "6. Loans taken by government departments / institutions approved by the government.\n",
    "\n",
    "7. Negotiable N.P.A. / Outstanding loan limit is only the amount of money aggregating all types of loan accounts of an organization / individual member, for which a lump sum agreement can be made that the limit of debt will be extinguished.\n",
    "\n",
    "  8.    Personal             Borrowers      Rs.10.00 Lakhs\n",
    "  9.    Institutional Borrowers      Rs.50.00 Lakhs\n",
    "\n",
    "\n",
    "In cases of more than the above limit, prior approval of the registrar co-operative societies will have to be obtained by making a separate plan by the board of directors of the concerned bank for one- time settlement.\n",
    "\n",
    "\f",
    " 4. Settlement Formula:\n",
    "\n",
    "a) Accounts of non-performing assets which were or should have been classified as doubtful/loss as on 31 st March 2013, the recovery of the amount will be equal to the total balance (principal and interest) in that account on the date the account is classified as doubtful and loss. If the interest has been charged in such accounts after the date of classification of doubtful/loss category, then the same can be waived, this policy will be applicable to all the borrowers and defaulters alike.\n",
    "\n",
    "b) Under this scheme, with the consent of the defaulter, the total amount of the settlement will have to be deposited in one lump sum, but if the defaulter is unable to deposit all the amount in one lump sum, then 25 percent of such amount till the date of the consent letter and for the recovery of remaining 75 percent, amount will have to be deposited in three equal installments over a period of one year on which interest will be payable at the rate of minimum loan interest from the date of settlement till the date of final repayment. Penal interest, legal expenses and other expenses will be waived.\n",
    "\n",
    "5. Authority to sanction relief: -\n",
    "\n",
    "The Scheme will be first approved by the concerned bank management committee constituted under the provisions contained in the Uttar Pradesh Co-operative societies Act and the right to decide on one time settlement cases up to an amount of Rs 5.00 Lakhs will be there's and for the cases involving more than Rs. 5.00 Lakhs prior approval of the Registrar Co- operative Societies, Uttar Pradesh will have to be obtained. For this purpose, the bank will constitute a Settlement Advisory Committee, which after examining the applications received, will present suitable cases falling within the eligibility before the authority for decision. The bank will abide by the guidelines relating to the settlement with the loan recipients without any discrimination. There will be no deviation from the policies by the Chief Executive Officers/Board of Directors. The decision of the Settlement Committee will be confirmed in the next meeting of the management committee or the general body.\n",
    "\n",
    "\f",
    " 6. Settlement Advisory Committee. After examining the received cases and presenting the eligible cases before the competent authority, it will be as follows:\n",
    "\n",
    "1. Chairman of the bank President\n",
    "\n",
    "2. Secretary / Executive officer concerned Member / Convener\n",
    "\n",
    "3. A Director nominated by the board of Member Directors and one other person and bank officer who have enough experience in the field of banking/management or law.\n",
    "\n",
    "There will be three members for the purpose of the settlement advisory committee will examine the application received from the member and present it before the board of directors after making its clear recommendation. While making the recommendation, the following points will be considered-\n",
    "\n",
    "1. The officer recommending the right off loan should not have personally sanctioned the loan.\n",
    "\n",
    "2. The transfer has been granted as per the conditions prescribed by the Reserve Bank.\n",
    "\n",
    "3. Adequate cares have been taken after the delivery of loan.\n",
    "\n",
    "4. Efforts have been made to recover the loan and the possibility of recovery has been minimized.\n",
    "\n",
    "The board of directors after due consideration will approve the one-time payment. The decision of the committee (S.A.C) will be reviewed every month by the board of directors and the settlement proceedings will be completed within the prescribed time-limit.” 5.2 Therefore, as per the guidelines issued, the grant of benefit of OTS Scheme cannot be prayed as a matter of right and the same is subject to fulfilling the eligibility criteria mentioned in the scheme. The defaulters who are ineligible under the OTS Scheme are mentioned in clause 2, \f",
    "reproduced hereinabove. A wilful defaulter in repayment of loan and a person who has not paid even a single installment after taking the loan and will not be able to pay the loan will be considered in the category of “defaulter” and shall not be eligible for grant of benefit under the OTS Scheme. Similarly, a person whose account is declared as “NPA” shall also not be eligible. As per the guidelines, the Bank is required to constitute a Settlement Advisory Committee for the purpose of examining the applications received and thereafter the said Committee has to take a decision after considering whether a defaulter is entitled to the benefit of OTS or not after considering the eligibility as per the OTS Scheme. While making recommendations, the Settlement Advisory Committee has to consider whether efforts have been made to recover the loan amount and the possibility of recovery has been minimized, meaning thereby if there is possibility of recovery of the amount, either by initiating appropriate proceedings or by auctioning the property mortgaged and/or the properties given as a security either by the borrower and/or by guarantor, the application submitted by the borrower for grant of benefit under the OTS Scheme can be rejected.\n",
    "\n",
    "6. In the present case, despite the fact that it was specifically pointed out before the High Court by way of counter affidavit that (i) the recovery proceedings under SARFAESI Act are pending; (ii) the borrower and her husband have availed two credit facilities and both the loan accounts are \f",
    "maintained regularly and the money is being deposited on regular basis;\n",
    "\n",
    "(iii) the Settlement Advisory Committee concluded that the borrower is enjoying a good financial status and the secured assets are sufficient in case if any recovery is to be made and by auctioning the mortgaged property the bank can recover the entire loan amount, the High Court failed to consider the aforesaid aspects in their true perspective and has issued a writ of mandamus as if the grant of benefit under the OTS Scheme can be claimed as a matter of right.\n",
    "\n",
    "7. In the present case, a conscious decision was taken by the Bank as well as the Settlement Advisory Committee which is reflected from the Board’s Resolution dated 28.12.2020 and the decision dated 08.01.2021. Even personal hearing was afforded to the original writ petitioner by the Settlement Advisory Committee on 25.02.2021. The High Court in the impugned judgment and order has observed that no opportunity was given to the original writ petitioner, which is factually incorrect. Therefore, the decision cannot be said to be in violation of the principle of natural justice.\n",
    "\n",
    "8. While passing the impugned judgment and order, the High Court, in response to the submissions on behalf of the Bank that, there are all possibilities of recovery of the loan amount and the efforts are being made to recover the amount by initiating proceedings under the SARFAESI Act and that the properties mortgaged can be auctioned, has \f",
    "observed that the proceedings under the SARFAESI Act have remained pending for seven years and the Bank has been unable to recover its dues and therefore the hope of recovery is illusory. This conclusion is not supported by any material on record. Merely because the proceedings under the SARFAESI Act have remained pending for seven years, the Bank cannot be held responsible for the same. No fault of the bank can be found. What is required to be considered is a conscious decision by the Bank that the Bank will be able to recover the entire loan amount by auctioning the mortgaged property and a due application of mind by the Bank that there are all possibilities to recover the entire loan amount, instead of granting the benefit under the OTS Scheme and to recover a lesser amount. It is ultimately for the Bank to take a conscious decision in its own interest and to secure/recover the outstanding debt. No bank can be compelled to accept a lesser amount under the OTS Scheme despite the fact that the Bank is able to recover the entire loan amount by auctioning the secured property/mortgaged property. When the loan is disbursed by the bank and the outstanding amount is due and payable to the bank, it will always take a conscious decision in the interest of the bank and in its commercial wisdom.\n",
    "\n",
    "9. Even otherwise, as observed hereinabove, no borrower can, as a matter of right, pray for grant of benefit of One Time Settlement Scheme. In a given case, it may happen that a person would borrow a huge \f",
    "amount, for example Rs. 100 crores. After availing the loan, he may deliberately not pay any amount towards installments, though able to make the payment. He would wait for the OTS Scheme and then pray for grant of benefit under the OTS Scheme under which, always a lesser amount than the amount due and payable under the loan account will have to be paid. This, despite there being all possibility for recovery of the entire loan amount which can be realised by selling the mortgaged/secured properties. If it is held that the borrower can still, as a matter of right, pray for benefit under the OTS Scheme, in that case, it would be giving a premium to a dishonest borrower, who, despite the fact that he is able to make the payment and the fact that the bank is able to recover the entire loan amount even by selling the mortgaged/secured properties, either from the borrower and/or guarantor. This is because under the OTS Scheme a debtor has to pay a lesser amount than the actual amount due and payable under the loan account. Such cannot be the intention of the bank while offering OTS Scheme and that cannot be purpose of the Scheme which may encourage such a dishonesty.\n",
    "\n",
    "10. If a prayer is entertained on the part of the defaulting unit/person to compel or direct the financial corporation/bank to enter into a one-time settlement on the terms proposed by it/him, then every defaulting unit/person which/who is capable of paying its/his dues as per the terms \f",
    "of the agreement entered into by it/him would like to get one time settlement in its/his favour. Who would not like to get his liability reduced and pay lesser amount than the amount he/she is liable to pay under the loan account? In the present case, it is noted that the original writ petitioner and her husband are making the payments regularly in two other loan accounts and those accounts are regularised. Meaning thereby, they have the capacity to make the payment even with respect to the present loan account and despite the said fact, not a single amount/installment has been paid in the present loan account for which original petitioner is praying for the benefit under the OTS Scheme.\n",
    "\n",
    "11. The sum and substance of the aforesaid discussion would be that no writ of mandamus can be issued by the High Court in exercise of powers under Article 226 of the Constitution of India, directing a financial institution/bank to positively grant the benefit of OTS to a borrower. The grant of benefit under the OTS is always subject to the eligibility criteria mentioned under the OTS Scheme and the guidelines issued from time to time. If the bank/financial institution is of the opinion that the loanee has the capacity to make the payment and/or that the bank/financial institution is able to recover the entire loan amount even by auctioning the mortgaged property/secured property, either from the loanee and/or guarantor, the bank would be justified in refusing to grant the benefit under the OTS Scheme. Ultimately, such a decision should be left to the \f",
    "commercial wisdom of the bank whose amount is involved and it is always to be presumed that the financial institution/bank shall take a prudent decision whether to grant the benefit or not under the OTS Scheme, having regard to the public interest involved and having regard to the factors which are narrated hereinabove.\n",
    "\n",
    "12. In view of the aforesaid discussion and for the reasons stated above, we are of the firm opinion that the High Court, in the present case, has materially erred and has exceeded in its jurisdiction in issuing a writ of mandamus in exercise of its powers under Article 226 of the Constitution of India by directing the appellant-Bank to positively consider/grant the benefit of OTS to the original writ petitioner. The impugned judgment and order passed by the High Court is hence unsustainable and deserves to be quashed and set aside and is accordingly quashed and set aside.\n",
    "\n",
    "13. The present appeal is accordingly allowed. However, in the facts and circumstances of the case, there shall be no order as to costs.'''"
   ]
  },
  {
   "cell_type": "code",
   "execution_count": null,
   "id": "5b295408",
   "metadata": {},
   "outputs": [],
   "source": []
  },
  {
   "cell_type": "code",
   "execution_count": null,
   "id": "4a60fbb3",
   "metadata": {},
   "outputs": [],
   "source": []
  },
  {
   "cell_type": "code",
   "execution_count": null,
   "id": "b2b1a605",
   "metadata": {},
   "outputs": [],
   "source": []
  },
  {
   "cell_type": "code",
   "execution_count": 183,
   "id": "8c9f83f1",
   "metadata": {
    "scrolled": false
   },
   "outputs": [
    {
     "name": "stdout",
     "output_type": "stream",
     "text": [
      "Feeling aggrieved and dissatisfied with the impugned judgment and order dated 16.08.2021passed by the High Court of Judicature at Allahabad in Writ Petition No. 2.1 That One Time Settlement Scheme was issued by the Bank vide OTS Circular dated 01.08.2013 which provided that on the conditions contained in the said circular being complied with, the benefit of OTS can be taken by the debtor. Vide order dated 25.01.2021, the High Court disposed of the said writ petition by directing the Bank to consider the grievance of the original writ petitioner and to decide her representation dated 22.07.2019 after affording due opportunity of hearing to her, as expeditiously as possible and preferably within a period of four weeks. By the impugned judgment and order and in exercise of powers under Article 226 of the Constitution of India, the High Court has issued a writ of mandamus and has directed the Bank to positively consider her application for grant of benefit under the OTS Scheme. 3.4 It is further submitted that as such the benefit of OTS cannot be asked/prayed as a matter of right by any person who is in default. It is submitted that though the aforesaid decisions were cited before the High Court, the same have not been dealt with and considered by the High Court. 4.1 It is submitted that under the OTS Scheme, a loanee is required to deposit at least 25% of the total amount along with the application, however, the original writ petitioner deposited more than 50% of the amount to be paid – before her application for grant of benefit under the OTS is considered. It is submitted that the Bank with an ill/ulterior motive deliberately refused to grant the benefit under the OTS Scheme just to grab her property. Introduction:-\n",
      "A large part of various types of loans dispersed from time to time by the urban co-operative banks of the state to the institutions/ members are currently in the form of time-less loans has been blocked. Willful defaulter in repayment of loan, (The person or institution who has not paid even one installment after taking the loan, he will not be able to pay the loan will be considered in the category of defaulter). The decision of the committee (S.A.C) will be reviewed every month by the board of directors and the settlement proceedings will be completed within the prescribed time-limit.” While making recommendations, the Settlement Advisory Committee has to consider whether efforts have been made to recover the loan amount and the possibility of recovery has been minimized, meaning thereby if there is possibility of recovery of the amount, either by initiating appropriate proceedings or by auctioning the property mortgaged and/or the properties given as a security either by the borrower and/or by guarantor, the application submitted by the borrower for grant of benefit under the OTS Scheme can be rejected. Merely because the proceedings under the SARFAESI Act have remained pending for seven years, the Bank cannot be held responsible for the same. If it is held that the borrower can still, as a matter of right, pray for benefit under the OTS Scheme, in that case, it would be giving a premium to a dishonest borrower, who, despite the fact that he is able to make the payment and the fact that the bank is able to recover the entire loan amount even by selling the mortgaged/secured properties, either from the borrower and/or guarantor. This is because under the OTS Scheme a debtor has to pay a lesser amount than the actual amount due and payable under the loan account. Who would not like to get his liability reduced and pay lesser amount than the amount he/she is liable to pay under the loan account? Meaning thereby, they have the capacity to make the payment even with respect to the present loan account and despite the said fact, not a single amount/installment has been paid in the present loan account for which original petitioner is praying for the benefit under the OTS Scheme. The sum and substance of the aforesaid discussion would be that no writ of mandamus can be issued by the High Court in exercise of powers under Article 226 of the Constitution of India, directing a financial institution/bank to positively grant the benefit of OTS to a borrower.\n"
     ]
    }
   ],
   "source": [
    "bert_summary = ''.join(bert_model(body, min_length=130))\n",
    "print(bert_summary)"
   ]
  },
  {
   "cell_type": "code",
   "execution_count": 5,
   "id": "7b2cda8a",
   "metadata": {},
   "outputs": [],
   "source": [
    "GPT2_model = TransformerSummarizer(transformer_type=\"GPT2\",transformer_model_key=\"gpt2-medium\")"
   ]
  },
  {
   "cell_type": "code",
   "execution_count": 149,
   "id": "108bb72f",
   "metadata": {
    "scrolled": true
   },
   "outputs": [
    {
     "name": "stdout",
     "output_type": "stream",
     "text": [
      "The present Civil Appeals arise out of a common judgement and Signature Not Verified Digitally signed by Rachna Date: 2022.04.19 16:04:08 IST Reason:\n",
      "\n",
      "order dated 21.10.2021 passed by the Securities Appellate Tribunal (for short “SAT”), wherein the Tribunal dismissed the Appeals No.375 and 376 of 2021 filed by the Appellants herein and upheld the order dated 11.05.2021 passed by the Whole Time Member (for short “WTM”) of Securities and Exchange Board of India (for short “SEBI”)\n",
      "2. Presumption is a rule of evidence which cannot be drawn unless and until such foundational facts are proved. WTM would show that though there was a family arrangement within the family on two occasions, there was no estrangement, as can be seen from the facts highlighted by the Ld. All of them were residing in the same address. However, in this case, no such possibility existed in relation to the appellant Mr. Balram Garg and the other appellants in C.A. No.7590 of 2021, namely, Mrs. Shivani Gupta, Sachin Gupta and Amit Garg. Mr. V. Giri, learned Senior Counsel for the appellants in C.A.\n",
      "\n",
      "No.7590 of 2021, namely, Mrs. Shivani Gupta, Sachin Gupta, Amit Garg and Quick Developers Pvt. However, he submitted that the appellants have placed sufficient material on record to demonstrate that there was a complete breakdown of ties between the parties, both at personal and professional level and that the said estrangement was much prior to the UPSI having coming into existence. trading patterns and timing of trades by the appellants. As before this date, the information about buy­back was not disclosed, and since the information pertained to change in capital structure of the company, this information qualified as Unpublished Price Sensitive Information­1 (for short “UPSI­1”). Accordingly, the period from April 25, 2018 to May 10, 2018 has been taken as the period of UPSI­1. Moreover, the information pertaining to proposed buy­back of equity shares of the company came into existence on July 7, 2018 and became public on July 13, 2018. It has been contended that appellant Balram Garg contravened Regulation 3(1) of the PIT Regulations and Section 12A(c) of the SEBI Act,1992, by communicating the UPSI to the appellants in C.A. No.7590 of 2021, by being an “insider” and “connected person” within the meaning of PIT Regulations, and by being privy to discussions and communications pertaining to buy­back and withdrawal of equity shares. Trades were executed from the trading account of Mrs. Shivani Gupta from 02.04.2018 and continued till 24.04.2018. Appellant Balram Garg and the Appellants No. 1,2, and 3 in C.A. No.7590 of 2021 i.e. Mrs. Shivani Gupta, Sachin Gupta and Amit Garg share the same residential address. Reliance was placed on the SAT order in Utsav Pathak vs. SEBI (order dated 12.07.2020 in Appeal No. Such inference taken from the immediate and proximate facts and circumstances surrounding the events is reasonable and logical which any prudent man would arrive at such a conclusion. For ready reference, the relevant provisions of the concerned Acts and Regulations are extracted below:\n",
      "\n",
      "Section 11(2)(g) of the Securities and Exchange Board of India Act, 1992 “11. ( 1) Subject to the provisions of this Act, it shall be the duty of the Board to protect the interests of investors in securities and to promote the development of, and to regulate the securities market, by such measures as it thinks fit. ( 2) Without prejudice to the generality of the foregoing provisions, the measures referred to therein may provide for—\n",
      "\n",
      "(a)...\n",
      "\n",
      "(b)...\n",
      "\n",
      "(c)...\n",
      "\n",
      "(d)...\n",
      "\n",
      "(e)...\n",
      "\n",
      "(f)...\n",
      "\n",
      "(g) prohibiting insider trading in securities;\n",
      "\n",
      "(h)… …………. emphasis supplied) Section 15G of the Securities and Exchange Board of India Act, 1992 “Penalty for insider trading. It is intended to bring within its ambit those who would have access to or could access unpublished price sensitive information about any company or class of companies by virtue of any connection that would put them in possession of unpublished price sensitive information. Indeed, this is a rebuttable presumption. (g) \"insider\" means any person who is:\n",
      "\n",
      "(i) a connected person; or\n",
      "\n",
      "(ii) in possession of or having access to unpublished price sensitive information;\n",
      "\n",
      "NOTE:Since “generally available information” is defined, it is intended that anyone in possession of or having access to unpublished price sensitive information should be considered an “insider” regardless of how one came in possession of or had access to such information. The onus of showing that a certain person was in possession of or had access to unpublished price sensitive information at the time of trading would, therefore, be on the person leveling the charge after which the person who has traded when in possession of or having access to unpublished price sensitive information may demonstrate that he was not in such possession or that he has not traded or or he could not access or that his trading when in possession of such information was squarely covered by the exonerating circumstances. (vi)    material events in accordance with\n",
      "                the listing agreement\n",
      "\n",
      "\n",
      "\n",
      "\n",
      "NOTE: It is intended that information relating to a company or securities, that is not generally available would be unpublished price sensitive information if it is likely to materially affect the price upon coming into the public domain. 1) No insider shall communicate, provide, or allow access to any unpublished price sensitive information, relating to a company or securities listed or proposed to be listed, to any person including other insiders except where such communication is in furtherance of legitimate purposes, performance of duties or discharge of legal obligations. We have heard learned counsel for the parties at length and have carefully perused the record. The Securities Appellate Tribunal has erred in upholding the order of the Whole Time Member of SEBI as it has failed to independently assess the evidence and material on record while exercising its jurisdiction as the first appellate court. Sitting as the first appellate court it was the duty of the High Court to deal with all the issues and the evidence led by the parties before recording the finding regarding title.” 1 and 2 seem to be in the employment of the company but that was way back in 2015. 1,2,3 or 4 had any professional or business relationship with the company, that allows the said Noticees, directly or indirectly, access to unpublished price sensitive information. However, we are of the opinion that the WTM and SAT wrongly rejected this claim of the Appellants in C.A. No.7590 of 2021 without appreciating the facts and evidence as was produced before them. The WTM and SAT ought to have appreciated the relevant facts for ascertaining the true nature of relationship between the parties. Subsequently, due to certain differences, Amar Chand Garg and his branch of the family exited the Company by entering into a family arrangement dated 01.07.2011 whereby their shareholding in the company was reduced to a meagre 0.70%. In September, 2011, Amar Chand Garg also resigned as the Vice Chairman of the company and disassociated himself from the company. Shivani Gupta were permitted to use the property at 1­C, Court Road, Civil Lines, Delhi for residential purposes only. Moreover, we find merit in the submission of the counsel for the appellants in C.A. No.7590 of 2021 that even assuming that the said family arrangements did not result in complete estrangement of social relations between the parties, the SAT could not, by virtue of this very fact, discharge SEBI of the onus of proof placed on them to prove that the Appellants were in possession of UPSI. The legislative note to Regulation 2(1)(g) makes the above position of law explicitly clear. In this context, it is important to highlight that the two major Corporate Announcements, purportedly related to a change in company’s capital structure, which were:\n",
      "\n",
      "i. UPSI­1 [Period between 25.04.2018 to 10.05.2018]:\n",
      "The announcement of the Company on 10.05.2018 to buy back up to 1,21,14,285 fully paid up equity shares of Rs. Phase­I [Period from 02.04.2018 to 24.04.2018], Phase­II [Period from 22.06.2018 to 06.07.2018] and Phase­III [Period from 07.07.2018 to 13.07.2018]. The said shares were sold for a price of Rs. Phase­II [22.06.2018 to 06.07.2018 i.e. Pre­ UPSI­II Period]:\n",
      "\n",
      "PCJ had requested SBI to issue a NOC for the proposed buy­back offer on 07.07.2018 and the said request was rejected on the same day by the SBI. On the date on which these shares were sold, the UPSI­2 had not even come into existence. These above factors undercut the argument of SEBI that the appellants sold huge number of shares during UPSI­2 period because they had the information that once the information of withdrawal of buy­back offer by PCJ was made public, the price of the shares would drastically fall. Hence, the appellants decided to constitute to hold their shareholdings. The trading pattern of the appellants in C.A. No.7590 of 2021 cannot be the circumstantial evidence to prove the communication of UPSI by the appellant Balram Garg to the other appellants in C.A. No.7590 of 2021. No direct evidence was adduced in proof of those facts. 227), where he said :­ \"The mind was apt to take a pleasure in adapting circumstances to one another, and even in straining them a little, if need be, to force them to from parts of one connected whole; and the more ingenious the mind of the individual, the more likely was it, considering such matters to overreach and mislead itself, to supply some little link that is wanting, to take for granted some fact consistent with its previous theories and necessary to render them complete.\" In this context, in Seema Silk & Sarees vs. Directorate of Enforcement [(2008) 5 SCC 580] this Court has held that:\n",
      "\n",
      "“The presumption raised against the trader is a rebuttable one. The accused in such an event would be entitled to show that he has not violated the provisions of the Act.” The said appellants in C.A. No.7590 of 2021 were not “immediate relatives” and were completely financially independent of the appellant Balram Garg and had nothing to do with the said Balram Garg in any decision making process relating to securities or even otherwise. Ltd. cannot be held to be a “connected person” vis­à­vis the appellant Balram Garg. Furthermore, reliance of the Respondent/SEBI on transactions between appellant Sachin Gupta and PCJ and the subsequent payments of rent by PCJ is against the principles of natural justice as these allegations were not part of the Show Cause Notices. To cement this proposition, reference could be made to Tarlochan Dev Sharma vs State of Punjab [(2001) 6 SCC 260] wherein this Court has held that:\n",
      "\n",
      "“We are, therefore, clearly of the opinion that not only the principles of natural justice were violated by the factum of the impugned order having been founded on grounds at variance from the one in the show cause notice, of which appellant was not even made aware of let alone provided an opportunity to offer his explanation, the allegations made against the appellant did not even prima facie make out a case of abuse of powers of President.” [ Secondly, as has already been discussed, the SAT erred in holding the appellants in C.A. No.7590 of 2021 to be “insiders” in terms of regulation 2(1)(g)(ii) of the PIT Regulations on the basis of their trading pattern and their timing of trading (circumstantial evidence).\n"
     ]
    }
   ],
   "source": [
    "gpt_summary = ''.join(GPT2_model(body))\n",
    "print(gpt_summary)"
   ]
  },
  {
   "cell_type": "code",
   "execution_count": 2,
   "id": "b1d0a018",
   "metadata": {},
   "outputs": [],
   "source": [
    "import re\n",
    "\n",
    "# c=\"\"\"Kundu on 8 August, 2008\n",
    "# Bench: C.K. Thakker, D.K. Jain\n",
    "# REPORTABLE\n",
    "# IN THE SUPREME COURT OF INDIA\n",
    "# CIVIL APPELLATE JURISDICTION\n",
    "\n",
    "# CIVIL APPEAL NO. 4960 OF 2008\n",
    "# ARISING OUT OF\n",
    "# SPECIAL LEAVE PETITION (CIVIL) NO. 1243 OF 2008\n",
    "\n",
    "# NIL RATAN KUNDU & ANR. ... APPELLANTS\n",
    "# VERSUS\n",
    "# ABHIJIT KUNDU ... RESPONDENT\n",
    "\n",
    "# J U D G M E N T\n",
    "# C.K. THAKKER, J.\n",
    "# 1. Leave granted.\n",
    "\n",
    "# Extract full sentence after \"Bench:\" using regex\n",
    "sentence_regex = r\"Bench:\\s*(.*)\"\n",
    "sentence_regex2 = r\"CORAM:\\s*(.*)\"\n",
    "match = re.search(sentence_regex, body)\n",
    "match2 = re.search(sentence_regex2, body)\n",
    "if match:\n",
    "    sentence = match.group(1)\n",
    "\n",
    "if match2:\n",
    "    sentence2 = match2.group(1)    \n",
    "\n",
    "    # Split sentence into a list on the basis of commas\n",
    "    judge_names = re.split(r\",\\s*\", sentence)\n",
    "    judge_names2 = re.split(r\",\\s*\", sentence2)\n",
    "\n",
    "    # Print the list of judge names\n",
    "    print(judge_names)\n",
    "    print(judge_names2)"
   ]
  },
  {
   "cell_type": "code",
   "execution_count": 3,
   "id": "8d54306d",
   "metadata": {},
   "outputs": [
    {
     "ename": "AttributeError",
     "evalue": "'NoneType' object has no attribute 'group'",
     "output_type": "error",
     "traceback": [
      "\u001b[1;31m---------------------------------------------------------------------------\u001b[0m",
      "\u001b[1;31mAttributeError\u001b[0m                            Traceback (most recent call last)",
      "\u001b[1;32m<ipython-input-3-4121d10edcfa>\u001b[0m in \u001b[0;36m<module>\u001b[1;34m\u001b[0m\n\u001b[0;32m     27\u001b[0m \u001b[1;33m\u001b[0m\u001b[0m\n\u001b[0;32m     28\u001b[0m \u001b[1;31m# Search for the date string in the first line using the regular expression\u001b[0m\u001b[1;33m\u001b[0m\u001b[1;33m\u001b[0m\u001b[1;33m\u001b[0m\u001b[0m\n\u001b[1;32m---> 29\u001b[1;33m \u001b[0mdate_str\u001b[0m \u001b[1;33m=\u001b[0m \u001b[0mre\u001b[0m\u001b[1;33m.\u001b[0m\u001b[0msearch\u001b[0m\u001b[1;33m(\u001b[0m\u001b[0mdate_regex\u001b[0m\u001b[1;33m,\u001b[0m \u001b[0mfirst_line\u001b[0m\u001b[1;33m)\u001b[0m\u001b[1;33m.\u001b[0m\u001b[0mgroup\u001b[0m\u001b[1;33m(\u001b[0m\u001b[1;36m0\u001b[0m\u001b[1;33m)\u001b[0m\u001b[1;33m\u001b[0m\u001b[1;33m\u001b[0m\u001b[0m\n\u001b[0m\u001b[0;32m     30\u001b[0m \u001b[1;33m\u001b[0m\u001b[0m\n\u001b[0;32m     31\u001b[0m \u001b[1;31m# Define the format of the date string\u001b[0m\u001b[1;33m\u001b[0m\u001b[1;33m\u001b[0m\u001b[1;33m\u001b[0m\u001b[0m\n",
      "\u001b[1;31mAttributeError\u001b[0m: 'NoneType' object has no attribute 'group'"
     ]
    }
   ],
   "source": [
    "import re\n",
    "import datetime\n",
    "\n",
    "# c = \"\"\"Carla Gannon & Anr vs Shabaz Farukh Allarakhia & Anr on 10 July, 2009\n",
    "# Bombay High Court\n",
    "# Carla Gannon & Anr vs Shabaz Farukh Allarakhia & Anr on 10 July, 2009\n",
    "# Bench: Ranjana Desai, Rajesh G. Ketkar\n",
    "# 1\n",
    "# IN THE HIGH COURT OF JUDICATURE AT BOMBAY\n",
    "# CRIMINAL APPELLATE JURISDICTION\n",
    "\n",
    "# CRIMINAL WRIT PETITION NO.509 OF 2009\n",
    "\n",
    "# Carla Gannon & Anr ..Petitioners\n",
    "# -versus\n",
    "\n",
    "# Shabaz Farukh Allarakhia & anr .. Respondents\n",
    "\n",
    "# Mr. J.P.Sen, i/b Mr.Dinesh Pednekar & Mr Vatsal Shah for the\n",
    "# Petitioners.\"\"\"\n",
    "\n",
    "# Extract the first line of the string\n",
    "first_line = body.split(\"\\n\")[0]\n",
    "\n",
    "# Define the regular expression to match the date string\n",
    "date_regex = r\"\\b\\d{1,2}\\s\\w+,\\s\\d{4}\\b\"\n",
    "\n",
    "# Search for the date string in the first line using the regular expression\n",
    "date_str = re.search(date_regex, first_line).group(0)\n",
    "\n",
    "# Define the format of the date string\n",
    "date_format = \"%d %B, %Y\"\n",
    "\n",
    "# Parse the date string to a datetime object\n",
    "date_obj = datetime.datetime.strptime(date_str, date_format)\n",
    "\n",
    "# Convert the datetime object to a string in the desired format\n",
    "d = date_obj.strftime(\"%d/%m/%Y\")\n",
    "\n",
    "# Print the extracted date\n",
    "print(d)"
   ]
  },
  {
   "cell_type": "code",
   "execution_count": 4,
   "id": "498e82a2",
   "metadata": {},
   "outputs": [
    {
     "name": "stdout",
     "output_type": "stream",
     "text": [
      "[]\n",
      "[]\n",
      "['226', '136']\n",
      "['226', '136']\n"
     ]
    }
   ],
   "source": [
    "import re\n",
    "# s=''' '''\n",
    "\n",
    "s1 = re.findall(r'[sS][eE][cC][tT][iI][oO][nN] [0-9]+[a-zA-Z]{0,2}', body)\n",
    "s2 = re.findall(r'[sS][eE][cC][tT][iI][oO][nN][sS]\\s*[0-9]+[a-zA-Z]{0,2}[\\s*,\\s*[0-9A-Za-z]+]\\s*and\\s[0-9]+[a-zA-Z]{0,2}', body)\n",
    "#second_names = re.findall(r'sections [0-9]+[a-zA-Z]{0,2} and [0-9]+[a-zA-Z]{0,2}', s)\n",
    "# print(s1)\n",
    "# print(s2)\n",
    "s1=s1+s2\n",
    "\n",
    "# s1=['Section 498A', 'Section 6', 'Section 6', 'Section 13', 'Section 6', 'Section 6', 'Section 6', 'Section 6', 'Section 4', 'Section 4', 'Section 6', 'Section 6', 'Section 6', 'Section 6', 'Section 6', 'Section 6', 'Section 6', 'Section 6', 'Section 6', 'Section 6', 'Section 6', 'Section 6', 'Section 6', 'Section 6', 'Section 13', 'Section 7', 'Section 9', 'Section 25', 'section 100', 'Section 12', 'Section 6', 'Section 13', 'Section 13']\n",
    "\n",
    "\n",
    "s3=[]\n",
    "for i in s1:\n",
    "    i=i.replace(\"Sections\",\"\")\n",
    "    i=i.replace(\"SECTIONS\",\"\")\n",
    "    i=i.replace(\"sections\",\"\")\n",
    "    i=i.replace(\"Section\",\"\")\n",
    "    i=i.replace(\"SECTION\",\"\")\n",
    "    i=i.replace(\"section\",\"\")\n",
    "    i=i.replace(\" \",\"\")\n",
    "    i=i.replace(\"and\",\",\")\n",
    "    \n",
    "    if(i not in s3):\n",
    "        s3.append(i)\n",
    "    \n",
    "    \n",
    "print(s3)\n",
    "\n",
    "ans_sec=[]\n",
    "check_dup = {}\n",
    "for i in s3:\n",
    "    temp = i.split(\",\")\n",
    "    for ele in temp:\n",
    "        if check_dup.get(ele) is None:\n",
    "            check_dup[ele]=1\n",
    "            ans_sec.append(ele)\n",
    "\n",
    "print(ans_sec)\n",
    "\n",
    "\n",
    "\n",
    "\n",
    "\n",
    "\n",
    "a1 = re.findall(r'[aA][rR][tT][iI][cC][lL][eE] [0-9]+[a-zA-Z]{0,2}', body)\n",
    "a2 = re.findall(r'[aA][rR][tT][iI][cC][lL][eE][sS]\\s*[0-9]+[a-zA-Z]{0,2}[\\s*,\\s*[0-9A-Za-z]+]\\s*and\\s[0-9]+[a-zA-Z]{0,2}', body)\n",
    "#second_names = re.findall(r'sections [0-9]+[a-zA-Z]{0,2} and [0-9]+[a-zA-Z]{0,2}', s)\n",
    "# print(a1)\n",
    "# print(a2)\n",
    "a1=a1+a2\n",
    "\n",
    "a3=[]\n",
    "for i in a1:\n",
    "    i=i.replace(\"Articles\",\"\")\n",
    "    i=i.replace(\"Article\",\"\")\n",
    "    i=i.replace(\"and\",\",\")\n",
    "    i=i.replace(\" \",\"\")\n",
    "#     print(i)\n",
    "    if(i not in a3):\n",
    "        a3.append(i)\n",
    "    \n",
    "\n",
    "print(a3)\n",
    "\n",
    "ans_art=[]\n",
    "for i in a3:\n",
    "    temp = i.split(\",\")\n",
    "    ans_art += temp\n",
    "\n",
    "print(ans_art)"
   ]
  },
  {
   "cell_type": "code",
   "execution_count": null,
   "id": "4da196dd",
   "metadata": {},
   "outputs": [],
   "source": []
  }
 ],
 "metadata": {
  "kernelspec": {
   "display_name": "Python 3",
   "language": "python",
   "name": "python3"
  },
  "language_info": {
   "codemirror_mode": {
    "name": "ipython",
    "version": 3
   },
   "file_extension": ".py",
   "mimetype": "text/x-python",
   "name": "python",
   "nbconvert_exporter": "python",
   "pygments_lexer": "ipython3",
   "version": "3.8.8"
  }
 },
 "nbformat": 4,
 "nbformat_minor": 5
}

{
 "cells": [
  {
   "cell_type": "code",
   "execution_count": 1,
   "id": "2e82cf33",
   "metadata": {},
   "outputs": [],
   "source": [
    "from py2neo import Graph,Node,Relationship\n",
    "import pandas as pd"
   ]
  },
  {
   "cell_type": "code",
   "execution_count": 2,
   "id": "f52e5bbb",
   "metadata": {},
   "outputs": [],
   "source": [
    "dbURL = \"bolt://localhost:7687\"\n",
    "graph = Graph(dbURL,name=\"articles\", auth=(\"neo4j\", \"password\"))\n",
    "keywordGraph = Graph(dbURL,auth=(\"neo4j\", \"password\"))"
   ]
  },
  {
   "cell_type": "code",
   "execution_count": 3,
   "id": "ec5caab8",
   "metadata": {},
   "outputs": [],
   "source": [
    "keywords = [\"drunkard\", \"unlawful_imprisonment\", \"abuse\", \"mental_torture\", \"torture\", \"kill\", \"murdered\", \"services\",\"crime\", \"self_defense\", \"crime\", \"offense\", \"defendant\", \"victim\", \"accused\", \"guilty\", \"plea\", \"evidence\", \"witness\", \"prosecutor\", \"defense\", \"sentence\", \"jail\", \"prison\", \"probation\", \"parole\", \"murder\", \"homicide\", \"manslaughter\", \"assault\", \"battery\", \"theft\", \"robbery\", \"burglary\", \"fraud\", \"embezzlement\", \"extortion\", \"kidnapping\", \"sexual_assault\", \"drug\", \"weapon\", \"firearm\", \"knife\", \"self_defense\", \"premeditation\", \"intent\", \"motive\", \"malice\", \"recklessness\", \"negligence\", \"conspiracy\", \"accomplice\", \"plea_bargain\", \"restitution\", \"fine\", \"appeal\", \"habeas_corpus\", \"Miranda_rights\", \"probable_cause\", \"search_warrant\", \"warrantless_search\", \"due_process\", \"double_jeopardy\", \"immunity\", \"entrapment\", \"insanity\", \"alibi\", \"confession\", \"testimony\", \"hearsay\", \"chain_of_custody\", \"forensic_evidence\", \"DNA\",\"fingerprint\", \"expert_witness\", \"sentencing_guidelines\", \"aggravating_factors\", \"mitigating_factors\", \"recidivism\", \"rehabilitation\", \"capital_punishment\", \"death_penalty\", \"life_sentence\", \"parole_board\", \"acquittal\", \"indictment\", \"probation_violation\", \"restoration_order\", \"statute_of_limitations\", \"venue\", \"plea_bargain_agreement\", \"felony\", \"juvenile_delinquency\", \"habitual_offender\", \"selfincrimination\", \"speedy_trial\", \"trial_by_jury\", \"bail\", \"bond\", \"contempt_of_court\", \"subpoena\", \"warrant\", \"reasonable_doubt\", \"strict_liability\", \"exculpatory_evidence\", \"hearsay_exception\", \"hearsay_rule\", \"search_and_seizure\", \"exclusionary_rule\", \"cruel_and_unusual_punishment\", \"probation_officer\", \"parole_officer\", \"community_service\", \"plea_of_no_contest\", \"adjudication\", \"arraignment\", \"arrest\", \"booking\", \"cross_examination\", \"detention\", \"expungement\", \"grand_jury\", \"inadmissible\", \"incarceration\", \"interrogation\", \"jury_instructions\", \"misdemeanor\",\"Mistrial\", \"Nolo_contendere\", \"Obstruction_of_justice\", \"Pardon\", \"Parole\", \"Perjury\", \"Petit_jury\", \"Plea_agreement\", \"Preliminary_hearing\", \"Prosecutor\", \"Public_defender\", \"Reasonable_suspicion\", \"Reckless_endangerment\", \"Retrial\", \"Sentence\", \"Sentencing_guidelines\", \"Statute_of_limitations\", \"Subpoena\", \"Suspended_sentence\", \"Testimony\", \"Trial\", \"Verdict\", \"Voir_dire\", \"Waiver\"]"
   ]
  },
  {
   "cell_type": "code",
   "execution_count": 4,
   "id": "3b7df6bd",
   "metadata": {},
   "outputs": [],
   "source": [
    "statement = \"the knife murder hello hi detention habeas_corpus\""
   ]
  },
  {
   "cell_type": "code",
   "execution_count": 5,
   "id": "bdc203b6",
   "metadata": {},
   "outputs": [
    {
     "name": "stdout",
     "output_type": "stream",
     "text": [
      "['the', 'knife', 'murder', 'hello', 'hi', 'detention', 'habeas_corpus']\n"
     ]
    }
   ],
   "source": [
    "words = []\n",
    "temp = \"\"\n",
    "for i in range(0,len(statement)):\n",
    "    if statement[i] == ' ':\n",
    "        words.append(temp)\n",
    "        temp = \"\"\n",
    "    else:\n",
    "        temp += statement[i]\n",
    "words.append(temp)\n",
    "print(words)"
   ]
  },
  {
   "cell_type": "code",
   "execution_count": 6,
   "id": "20508019",
   "metadata": {},
   "outputs": [
    {
     "name": "stdout",
     "output_type": "stream",
     "text": [
      "['knife', 'murder', 'detention', 'habeas_corpus']\n"
     ]
    }
   ],
   "source": [
    "keywords = [\"drunkard\", \"unlawful_imprisonment\", \"abuse\", \"mental_torture\", \"torture\", \"kill\", \"murdered\", \"services\",\"crime\", \"self_defense\", \"crime\", \"offense\", \"defendant\", \"victim\", \"accused\", \"guilty\", \"plea\", \"evidence\", \"witness\", \"prosecutor\", \"defense\", \"sentence\", \"jail\", \"prison\", \"probation\", \"parole\", \"murder\", \"homicide\", \"manslaughter\", \"assault\", \"battery\", \"theft\", \"robbery\", \"burglary\", \"fraud\", \"embezzlement\", \"extortion\", \"kidnapping\", \"sexual_assault\", \"drug\", \"weapon\", \"firearm\", \"knife\", \"self_defense\", \"premeditation\", \"intent\", \"motive\", \"malice\", \"recklessness\", \"negligence\", \"conspiracy\", \"accomplice\", \"plea_bargain\", \"restitution\", \"fine\", \"appeal\", \"habeas_corpus\", \"Miranda_rights\", \"probable_cause\", \"search_warrant\", \"warrantless_search\", \"due_process\", \"double_jeopardy\", \"immunity\", \"entrapment\", \"insanity\", \"alibi\", \"confession\", \"testimony\", \"hearsay\", \"chain_of_custody\", \"forensic_evidence\", \"DNA\",\"fingerprint\", \"expert_witness\", \"sentencing_guidelines\", \"aggravating_factors\", \"mitigating_factors\", \"recidivism\", \"rehabilitation\", \"capital_punishment\", \"death_penalty\", \"life_sentence\", \"parole_board\", \"acquittal\", \"indictment\", \"probation_violation\", \"restoration_order\", \"statute_of_limitations\", \"venue\", \"plea_bargain_agreement\", \"felony\", \"juvenile_delinquency\", \"habitual_offender\", \"selfincrimination\", \"speedy_trial\", \"trial_by_jury\", \"bail\", \"bond\", \"contempt_of_court\", \"subpoena\", \"warrant\", \"reasonable_doubt\", \"strict_liability\", \"exculpatory_evidence\", \"hearsay_exception\", \"hearsay_rule\", \"search_and_seizure\", \"exclusionary_rule\", \"cruel_and_unusual_punishment\", \"probation_officer\", \"parole_officer\", \"community_service\", \"plea_of_no_contest\", \"adjudication\", \"arraignment\", \"arrest\", \"booking\", \"cross_examination\", \"detention\", \"expungement\", \"grand_jury\", \"inadmissible\", \"incarceration\", \"interrogation\", \"jury_instructions\", \"misdemeanor\",\"Mistrial\", \"Nolo_contendere\", \"Obstruction_of_justice\", \"Pardon\", \"Parole\", \"Perjury\", \"Petit_jury\", \"Plea_agreement\", \"Preliminary_hearing\", \"Prosecutor\", \"Public_defender\", \"Reasonable_suspicion\", \"Reckless_endangerment\", \"Retrial\", \"Sentence\", \"Sentencing_guidelines\", \"Statute_of_limitations\", \"Subpoena\", \"Suspended_sentence\", \"Testimony\", \"Trial\", \"Verdict\", \"Voir_dire\", \"Waiver\"]\n",
    "keyword_dict = {}\n",
    "extracted_keywords = []\n",
    "for i in keywords:\n",
    "    keyword_dict[i] = True\n",
    "\n",
    "for i in words:\n",
    "    if keyword_dict.get(i) is not None:\n",
    "        extracted_keywords.append(i)\n",
    "print(extracted_keywords)"
   ]
  },
  {
   "cell_type": "code",
   "execution_count": 7,
   "id": "22a37f8d",
   "metadata": {},
   "outputs": [
    {
     "name": "stdout",
     "output_type": "stream",
     "text": [
      "    c.number\n",
      "0          3\n",
      "1          4\n",
      "2          7\n",
      "3          8\n",
      "4          9\n",
      "5         11\n",
      "6          1\n",
      "7          4\n",
      "8          6\n",
      "9          7\n",
      "10         8\n",
      "11         9\n",
      "12        10\n",
      "13        11\n"
     ]
    }
   ],
   "source": [
    "anstable = pd.DataFrame()\n",
    "for word in extracted_keywords:\n",
    "    temp = keywordGraph.run(\"MATCH(c:CASE) -[r]->(k:KEYWORD{key:\" + '\"' + word + '\"' + \"})  RETURN c.number\").to_data_frame()\n",
    "    anstable = anstable.append(temp,ignore_index = True)\n",
    "print(anstable)"
   ]
  },
  {
   "cell_type": "code",
   "execution_count": 8,
   "id": "7753bd0e",
   "metadata": {},
   "outputs": [
    {
     "name": "stdout",
     "output_type": "stream",
     "text": [
      "[(3, 1), (4, 2), (7, 2), (8, 2), (9, 2), (11, 2), (1, 1), (6, 1), (10, 1)]\n"
     ]
    }
   ],
   "source": [
    "case_freq = {}\n",
    "cases = []\n",
    "for i in range(0,len(anstable)): \n",
    "    if case_freq.get(anstable[\"c.number\"][i]) is None:\n",
    "        case_freq[anstable[\"c.number\"][i]] = 1\n",
    "    else:\n",
    "        case_freq[anstable[\"c.number\"][i]] = case_freq[anstable[\"c.number\"][i]] + 1\n",
    "cases=list(case_freq.items())\n",
    "print(cases)"
   ]
  },
  {
   "cell_type": "code",
   "execution_count": 9,
   "id": "246aa121",
   "metadata": {},
   "outputs": [
    {
     "name": "stdout",
     "output_type": "stream",
     "text": [
      "[(11, 2), (9, 2), (8, 2), (7, 2), (4, 2), (10, 1), (6, 1), (1, 1), (3, 1)]\n"
     ]
    }
   ],
   "source": [
    "cases.sort(key = lambda a:a[1])\n",
    "cases.reverse()\n",
    "print(cases)"
   ]
  },
  {
   "cell_type": "code",
   "execution_count": 10,
   "id": "3daef9fd",
   "metadata": {},
   "outputs": [
    {
     "name": "stdout",
     "output_type": "stream",
     "text": [
      "[11, 9, 8]\n"
     ]
    }
   ],
   "source": [
    "cases_list = []\n",
    "for i in range(0,min(3,len(cases))):\n",
    "    cases_list.append(cases[i][0])\n",
    "print(cases_list)"
   ]
  },
  {
   "cell_type": "code",
   "execution_count": 11,
   "id": "2fdd1eef",
   "metadata": {},
   "outputs": [
    {
     "name": "stdout",
     "output_type": "stream",
     "text": [
      "11\n",
      "9\n",
      "8\n",
      "   c2.number  x\n",
      "0          4  1\n",
      "1         12  2\n",
      "2          7  2\n",
      "3         10  1\n",
      "4          5  1\n",
      "5          2  1\n",
      "6          1  1\n"
     ]
    }
   ],
   "source": [
    "\n",
    "ans = pd.DataFrame()\n",
    "for i in range(len(cases_list)):\n",
    "    temp = cases_list[i]\n",
    "    print(temp)\n",
    "    resultTable = graph.run('''MATCH(c1:CASE{number:''' + str(temp) + '''}) -[r:ARTICLE_RELATED]->(a:ARTICLE) <-[r2:ARTICLE_RELATED]- (c2:CASE)\n",
    "    RETURN c2.number, count(a) as x\n",
    "    ORDER BY count(a) DESC''').to_data_frame()\n",
    "    ans = ans.append(resultTable,ignore_index = True)\n",
    "print(ans)"
   ]
  },
  {
   "cell_type": "code",
   "execution_count": 12,
   "id": "8513512e",
   "metadata": {},
   "outputs": [
    {
     "name": "stdout",
     "output_type": "stream",
     "text": [
      "   c2.number  x\n",
      "1         12  2\n",
      "2          7  2\n",
      "0          4  1\n",
      "3         10  1\n",
      "4          5  1\n",
      "5          2  1\n",
      "6          1  1\n"
     ]
    }
   ],
   "source": [
    "result = ans.sort_values(by = 'x', ascending = False)\n",
    "print(result)"
   ]
  },
  {
   "cell_type": "code",
   "execution_count": 13,
   "id": "72f0c2e7",
   "metadata": {},
   "outputs": [],
   "source": [
    "result = result.reset_index(drop = True)"
   ]
  },
  {
   "cell_type": "code",
   "execution_count": 14,
   "id": "22da042b",
   "metadata": {},
   "outputs": [
    {
     "name": "stdout",
     "output_type": "stream",
     "text": [
      "[11, 9, 8, 12, 7, 4]\n"
     ]
    }
   ],
   "source": [
    "final_ans = cases_list\n",
    "check_duplicate = {}\n",
    "for i in cases_list:\n",
    "    if check_duplicate.get(i) == None:\n",
    "        check_duplicate[i] = 1\n",
    "\n",
    "count = len(final_ans)\n",
    "for i in range(0,len(result)):\n",
    "    if count == 6:\n",
    "        break\n",
    "    if check_duplicate.get(result['c2.number'][i]) == None:\n",
    "        check_duplicate[result['c2.number'][i]] = 1\n",
    "        count = count + 1\n",
    "        final_ans.append(result['c2.number'][i])\n",
    "print(final_ans)"
   ]
  },
  {
   "cell_type": "code",
   "execution_count": null,
   "id": "a846ba31",
   "metadata": {},
   "outputs": [],
   "source": []
  }
 ],
 "metadata": {
  "kernelspec": {
   "display_name": "Python 3",
   "language": "python",
   "name": "python3"
  },
  "language_info": {
   "codemirror_mode": {
    "name": "ipython",
    "version": 3
   },
   "file_extension": ".py",
   "mimetype": "text/x-python",
   "name": "python",
   "nbconvert_exporter": "python",
   "pygments_lexer": "ipython3",
   "version": "3.8.8"
  }
 },
 "nbformat": 4,
 "nbformat_minor": 5
}

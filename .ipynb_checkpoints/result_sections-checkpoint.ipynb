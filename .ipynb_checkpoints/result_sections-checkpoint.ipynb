{
 "cells": [
  {
   "cell_type": "code",
   "execution_count": 1,
   "id": "cfb063be",
   "metadata": {},
   "outputs": [],
   "source": [
    "from py2neo import Graph,Node,Relationship"
   ]
  },
  {
   "cell_type": "code",
   "execution_count": 48,
   "id": "fea9450d",
   "metadata": {},
   "outputs": [],
   "source": [
    "dbURL = \"bolt://localhost:7687\""
   ]
  },
  {
   "cell_type": "code",
   "execution_count": 56,
   "id": "164cb95d",
   "metadata": {},
   "outputs": [],
   "source": [
    "graph = Graph(dbURL,name=\"sections\", auth=(\"neo4j\", \"password\"))"
   ]
  },
  {
   "cell_type": "code",
   "execution_count": 66,
   "id": "219b1edb",
   "metadata": {},
   "outputs": [],
   "source": [
    "result = graph.run(\"MATCH(s:SECTION) -[r]->(c:CASE{number:6})  RETURN s.number\").to_data_frame()"
   ]
  },
  {
   "cell_type": "code",
   "execution_count": 51,
   "id": "5b3ecf47",
   "metadata": {},
   "outputs": [
    {
     "data": {
      "text/plain": [
       "int"
      ]
     },
     "execution_count": 51,
     "metadata": {},
     "output_type": "execute_result"
    }
   ],
   "source": [
    "type(len(result))"
   ]
  },
  {
   "cell_type": "code",
   "execution_count": 67,
   "id": "1deb3e53",
   "metadata": {},
   "outputs": [
    {
     "name": "stdout",
     "output_type": "stream",
     "text": [
      "  s.number\n",
      "0        2\n",
      "1       19\n",
      "2       17\n",
      "3        9\n",
      "4        8\n",
      "5        7\n",
      "6        4\n",
      "7       13\n",
      "8        6\n",
      "9      125\n"
     ]
    }
   ],
   "source": [
    "print(result)"
   ]
  },
  {
   "cell_type": "code",
   "execution_count": 150,
   "id": "e57056ca",
   "metadata": {},
   "outputs": [
    {
     "name": "stdout",
     "output_type": "stream",
     "text": [
      "    c2.number  count(s)\n",
      "0           4         6\n",
      "1           3         6\n",
      "2          10         5\n",
      "3           8         5\n",
      "4           9         5\n",
      "5           6         4\n",
      "6           5         4\n",
      "7           2         3\n",
      "8          12         3\n",
      "9           1         2\n",
      "10         11         1\n"
     ]
    }
   ],
   "source": [
    "x = 7\n",
    "result2 = graph.run(\"MATCH(c1:CASE{number:\" + str(x) + \"}) -[r:SECTION_RELATED]->(s:SECTION) <-[r2:SECTION_RELATED]- (c2:CASE) RETURN c2.number, count(s) ORDER BY count(s) DESC\").to_data_frame()\n",
    "print(result2)"
   ]
  },
  {
   "cell_type": "code",
   "execution_count": 128,
   "id": "e748e580",
   "metadata": {},
   "outputs": [
    {
     "name": "stdout",
     "output_type": "stream",
     "text": [
      "    c2.number  count(s)\n",
      "0           8        10\n",
      "1          10         9\n",
      "2           6         9\n",
      "3           3         8\n",
      "4           7         6\n",
      "5           5         6\n",
      "6           9         4\n",
      "7           1         3\n",
      "8           2         2\n",
      "9          12         2\n",
      "10         11         1\n"
     ]
    }
   ],
   "source": []
  },
  {
   "cell_type": "code",
   "execution_count": 79,
   "id": "ed07284f",
   "metadata": {},
   "outputs": [
    {
     "ename": "AttributeError",
     "evalue": "'Graph' object has no attribute 'draw'",
     "output_type": "error",
     "traceback": [
      "\u001b[1;31m---------------------------------------------------------------------------\u001b[0m",
      "\u001b[1;31mAttributeError\u001b[0m                            Traceback (most recent call last)",
      "\u001b[1;32m<ipython-input-79-d4f4094c0084>\u001b[0m in \u001b[0;36m<module>\u001b[1;34m\u001b[0m\n\u001b[1;32m----> 1\u001b[1;33m \u001b[0mgraph\u001b[0m\u001b[1;33m.\u001b[0m\u001b[0mdraw\u001b[0m\u001b[1;33m(\u001b[0m\u001b[0mresult\u001b[0m\u001b[1;33m,\u001b[0m \u001b[0mlabels\u001b[0m\u001b[1;33m=\u001b[0m\u001b[1;32mTrue\u001b[0m\u001b[1;33m,\u001b[0m\u001b[0mshow\u001b[0m\u001b[1;33m=\u001b[0m\u001b[1;34m'ipynb'\u001b[0m\u001b[1;33m)\u001b[0m\u001b[1;33m\u001b[0m\u001b[1;33m\u001b[0m\u001b[0m\n\u001b[0m",
      "\u001b[1;31mAttributeError\u001b[0m: 'Graph' object has no attribute 'draw'"
     ]
    }
   ],
   "source": [
    "graph.draw(result,labels=True,show='ipynb')"
   ]
  },
  {
   "cell_type": "code",
   "execution_count": 80,
   "id": "fc287608",
   "metadata": {},
   "outputs": [],
   "source": [
    "keywordGraph = Graph(dbURL, auth=(\"neo4j\", \"password\"))"
   ]
  },
  {
   "cell_type": "code",
   "execution_count": 164,
   "id": "34d340fe",
   "metadata": {},
   "outputs": [
    {
     "name": "stdout",
     "output_type": "stream",
     "text": [
      "   c.number\n",
      "0         3\n",
      "1         4\n",
      "2         7\n",
      "3         8\n",
      "4         9\n",
      "5        11\n"
     ]
    }
   ],
   "source": [
    "newResult = keywordGraph.run('''MATCH(c:CASE) -[r]->(k:KEYWORD{key:\"detention\"})  RETURN c.number''').to_data_frame()\n",
    "print(newResult)"
   ]
  },
  {
   "cell_type": "code",
   "execution_count": 160,
   "id": "501d37b0",
   "metadata": {},
   "outputs": [
    {
     "name": "stdout",
     "output_type": "stream",
     "text": [
      "<class 'pandas.core.frame.DataFrame'>\n"
     ]
    }
   ],
   "source": [
    "# len(newResult)\n",
    "print(type(newResult))"
   ]
  },
  {
   "cell_type": "code",
   "execution_count": 191,
   "id": "bcb45d59",
   "metadata": {},
   "outputs": [
    {
     "name": "stdout",
     "output_type": "stream",
     "text": [
      "   c.number\n",
      "0         1\n",
      "1         4\n",
      "2         6\n",
      "3         7\n",
      "4         8\n",
      "5         9\n",
      "6        10\n",
      "7        11\n"
     ]
    }
   ],
   "source": [
    "newResult2 = keywordGraph.run('''MATCH(c:CASE) -[r]->(k:KEYWORD{key:\"habeas_corpus\"})  RETURN c.number''').to_data_frame()\n",
    "print(newResult2)"
   ]
  },
  {
   "cell_type": "code",
   "execution_count": 192,
   "id": "656e5dec",
   "metadata": {},
   "outputs": [
    {
     "name": "stdout",
     "output_type": "stream",
     "text": [
      "   c.number\n",
      "0         6\n",
      "1         8\n"
     ]
    }
   ],
   "source": [
    "newResult3 = keywordGraph.run('''MATCH(c:CASE) -[r]->(k:KEYWORD{key:\"assault\"})  RETURN c.number''').to_data_frame()\n",
    "print(newResult3)"
   ]
  },
  {
   "cell_type": "code",
   "execution_count": 193,
   "id": "1fc1ac77",
   "metadata": {},
   "outputs": [
    {
     "name": "stdout",
     "output_type": "stream",
     "text": [
      "   c.number\n",
      "0         4\n",
      "1         8\n",
      "2         9\n"
     ]
    }
   ],
   "source": [
    "newResult4 = keywordGraph.run('''MATCH(c:CASE) -[r]->(k:KEYWORD{key:\"unlawful_imprisonment\"})  RETURN c.number''').to_data_frame()\n",
    "print(newResult4)"
   ]
  },
  {
   "cell_type": "code",
   "execution_count": 223,
   "id": "7e6979e1",
   "metadata": {},
   "outputs": [
    {
     "name": "stdout",
     "output_type": "stream",
     "text": [
      "7\n",
      "{3: 1}\n",
      "{3: 2, 4: 1}\n",
      "{3: 2, 4: 2, 7: 1}\n",
      "{3: 2, 4: 2, 7: 2, 8: 1}\n",
      "{3: 2, 4: 2, 7: 2, 8: 2, 9: 1}\n",
      "{3: 2, 4: 2, 7: 2, 8: 2, 9: 2, 11: 1}\n",
      "[(3, 2), (4, 2), (7, 2), (8, 2), (9, 2), (11, 2)]\n"
     ]
    }
   ],
   "source": [
    "cases = []\n",
    "case_freq = {}\n",
    "print(newResult[\"c.number\"][2])\n",
    "for i in range(0,len(newResult)): \n",
    "    if case_freq.get(newResult[\"c.number\"][i]) is None:\n",
    "        case_freq[newResult[\"c.number\"][i]] = 1\n",
    "        print(case_freq)\n",
    "    case_freq[newResult[\"c.number\"][i]] = case_freq[newResult[\"c.number\"][i]] + 1\n",
    "cases=list(case_freq.items())\n",
    "print(cases)"
   ]
  },
  {
   "cell_type": "code",
   "execution_count": 134,
   "id": "2c18c474",
   "metadata": {},
   "outputs": [],
   "source": [
    "import pandas as pd"
   ]
  },
  {
   "cell_type": "code",
   "execution_count": 209,
   "id": "ffe55c5d",
   "metadata": {},
   "outputs": [
    {
     "name": "stdout",
     "output_type": "stream",
     "text": [
      "3\n",
      "4\n",
      "7\n"
     ]
    }
   ],
   "source": [
    "\n",
    "ans = pd.DataFrame()\n",
    "for i in range(0,min(3,len(cases))):\n",
    "    temp = cases[i]\n",
    "    print(temp)\n",
    "    resultTable = graph.run('''MATCH(c1:CASE{number:''' + str(temp) + '''}) -[r:SECTION_RELATED]->(s:SECTION) <-[r2:SECTION_RELATED]- (c2:CASE)\n",
    "RETURN c2.number, count(s) as x\n",
    "ORDER BY count(s) DESC''').to_data_frame()\n",
    "    ans = ans.append(resultTable,ignore_index = True)"
   ]
  },
  {
   "cell_type": "code",
   "execution_count": 175,
   "id": "5edce7fa",
   "metadata": {},
   "outputs": [
    {
     "name": "stdout",
     "output_type": "stream",
     "text": [
      "    c2.number   x\n",
      "0           8   9\n",
      "1           4   8\n",
      "2           6   7\n",
      "3          10   6\n",
      "4           7   6\n",
      "5           5   6\n",
      "6           9   3\n",
      "7           1   2\n",
      "8          12   2\n",
      "9           2   1\n",
      "10         11   1\n",
      "11          8  10\n",
      "12         10   9\n",
      "13          6   9\n",
      "14          3   8\n",
      "15          7   6\n",
      "16          5   6\n",
      "17          9   4\n",
      "18          1   3\n",
      "19          2   2\n",
      "20         12   2\n",
      "21         11   1\n",
      "22          4   6\n",
      "23          3   6\n",
      "24         10   5\n",
      "25          8   5\n",
      "26          9   5\n",
      "27          6   4\n",
      "28          5   4\n",
      "29          2   3\n",
      "30         12   3\n",
      "31          1   2\n",
      "32         11   1\n"
     ]
    }
   ],
   "source": [
    "print(ans)"
   ]
  },
  {
   "cell_type": "code",
   "execution_count": 177,
   "id": "6363d065",
   "metadata": {},
   "outputs": [
    {
     "name": "stdout",
     "output_type": "stream",
     "text": [
      "    c2.number   x\n",
      "11          8  10\n",
      "0           8   9\n",
      "13          6   9\n",
      "12         10   9\n",
      "1           4   8\n",
      "14          3   8\n",
      "2           6   7\n",
      "23          3   6\n",
      "22          4   6\n",
      "15          7   6\n",
      "16          5   6\n",
      "4           7   6\n",
      "3          10   6\n",
      "5           5   6\n",
      "26          9   5\n",
      "25          8   5\n",
      "24         10   5\n",
      "27          6   4\n",
      "28          5   4\n",
      "17          9   4\n",
      "29          2   3\n",
      "30         12   3\n",
      "18          1   3\n",
      "6           9   3\n",
      "19          2   2\n",
      "31          1   2\n",
      "7           1   2\n",
      "8          12   2\n",
      "20         12   2\n",
      "10         11   1\n",
      "9           2   1\n",
      "21         11   1\n",
      "32         11   1\n"
     ]
    }
   ],
   "source": [
    "ans2 = ans.sort_values(by = 'x', ascending = False)\n",
    "print(ans2)"
   ]
  },
  {
   "cell_type": "code",
   "execution_count": 184,
   "id": "cd944861",
   "metadata": {},
   "outputs": [],
   "source": [
    "ans2 = ans2.reset_index(drop = True)"
   ]
  },
  {
   "cell_type": "code",
   "execution_count": 185,
   "id": "39b09717",
   "metadata": {},
   "outputs": [
    {
     "name": "stdout",
     "output_type": "stream",
     "text": [
      "    c2.number   x\n",
      "0           8  10\n",
      "1           8   9\n",
      "2           6   9\n",
      "3          10   9\n",
      "4           4   8\n",
      "5           3   8\n",
      "6           6   7\n",
      "7           3   6\n",
      "8           4   6\n",
      "9           7   6\n",
      "10          5   6\n",
      "11          7   6\n",
      "12         10   6\n",
      "13          5   6\n",
      "14          9   5\n",
      "15          8   5\n",
      "16         10   5\n",
      "17          6   4\n",
      "18          5   4\n",
      "19          9   4\n",
      "20          2   3\n",
      "21         12   3\n",
      "22          1   3\n",
      "23          9   3\n",
      "24          2   2\n",
      "25          1   2\n",
      "26          1   2\n",
      "27         12   2\n",
      "28         12   2\n",
      "29         11   1\n",
      "30          2   1\n",
      "31         11   1\n",
      "32         11   1\n"
     ]
    }
   ],
   "source": [
    "print(ans2)"
   ]
  },
  {
   "cell_type": "code",
   "execution_count": 190,
   "id": "6664abb2",
   "metadata": {},
   "outputs": [
    {
     "name": "stdout",
     "output_type": "stream",
     "text": [
      "[8, 6, 10, 4, 3]\n"
     ]
    }
   ],
   "source": [
    "count = 0\n",
    "i = 0\n",
    "numberdict = {}\n",
    "finalcases = []\n",
    "while count < 5 and i < len(ans2):\n",
    "    if numberdict.get(ans2['c2.number'][i]) == None:\n",
    "        numberdict[ans2['c2.number'][i]] = 1\n",
    "        finalcases.append(ans2['c2.number'][i])\n",
    "        count = count + 1\n",
    "    i = i + 1\n",
    "print(finalcases)"
   ]
  },
  {
   "cell_type": "code",
   "execution_count": 240,
   "id": "c4b93600",
   "metadata": {},
   "outputs": [
    {
     "name": "stdout",
     "output_type": "stream",
     "text": [
      "7\n",
      "{3: 1}\n",
      "{3: 2, 4: 1}\n",
      "{3: 2, 4: 2, 7: 1}\n",
      "{3: 2, 4: 2, 7: 2, 8: 1}\n",
      "{3: 2, 4: 2, 7: 2, 8: 2, 9: 1}\n",
      "{3: 2, 4: 2, 7: 2, 8: 2, 9: 2, 11: 1}\n"
     ]
    }
   ],
   "source": [
    "cases = []\n",
    "case_freq = {}\n",
    "print(newResult[\"c.number\"][2])\n",
    "for i in range(0,len(newResult)): \n",
    "    if case_freq.get(newResult[\"c.number\"][i]) is None:\n",
    "        case_freq[newResult[\"c.number\"][i]] = 1\n",
    "        print(case_freq)\n",
    "    case_freq[newResult[\"c.number\"][i]] = case_freq[newResult[\"c.number\"][i]] + 1\n",
    "# cases=list(case_freq.items())\n",
    "# print(cases)"
   ]
  },
  {
   "cell_type": "code",
   "execution_count": 241,
   "id": "a2403a33",
   "metadata": {},
   "outputs": [
    {
     "name": "stdout",
     "output_type": "stream",
     "text": [
      "6\n",
      "{3: 2, 4: 2, 7: 2, 8: 2, 9: 2, 11: 2, 1: 1}\n",
      "{3: 2, 4: 3, 7: 2, 8: 2, 9: 2, 11: 2, 1: 2, 6: 1}\n",
      "{3: 2, 4: 3, 7: 3, 8: 3, 9: 3, 11: 2, 1: 2, 6: 2, 10: 1}\n"
     ]
    }
   ],
   "source": [
    "print(newResult2[\"c.number\"][2])\n",
    "for i in range(0,len(newResult2)): \n",
    "    if case_freq.get(newResult2[\"c.number\"][i]) is None:\n",
    "        case_freq[newResult2[\"c.number\"][i]] = 1\n",
    "        print(case_freq)\n",
    "    case_freq[newResult2[\"c.number\"][i]] = case_freq[newResult2[\"c.number\"][i]] + 1\n",
    "# cases=list(case_freq.items())\n",
    "# print(cases)"
   ]
  },
  {
   "cell_type": "code",
   "execution_count": 242,
   "id": "fb0bf944",
   "metadata": {},
   "outputs": [
    {
     "name": "stdout",
     "output_type": "stream",
     "text": [
      "8\n"
     ]
    }
   ],
   "source": [
    "print(newResult3[\"c.number\"][1])\n",
    "for i in range(0,len(newResult3)): \n",
    "    if case_freq.get(newResult3[\"c.number\"][i]) is None:\n",
    "        case_freq[newResult3[\"c.number\"][i]] = 1\n",
    "        print(case_freq)\n",
    "    case_freq[newResult3[\"c.number\"][i]] = case_freq[newResult3[\"c.number\"][i]] + 1\n",
    "# cases=list(case_freq.items())\n",
    "# print(cases)"
   ]
  },
  {
   "cell_type": "code",
   "execution_count": 243,
   "id": "3ff280f7",
   "metadata": {},
   "outputs": [
    {
     "name": "stdout",
     "output_type": "stream",
     "text": [
      "8\n",
      "[(3, 2), (4, 4), (7, 3), (8, 5), (9, 4), (11, 3), (1, 2), (6, 3), (10, 2)]\n"
     ]
    }
   ],
   "source": [
    "print(newResult4[\"c.number\"][1])\n",
    "for i in range(0,len(newResult4)): \n",
    "    if case_freq.get(newResult4[\"c.number\"][i]) is None:\n",
    "        case_freq[newResult4[\"c.number\"][i]] = 1\n",
    "        print(case_freq)\n",
    "    case_freq[newResult4[\"c.number\"][i]] = case_freq[newResult4[\"c.number\"][i]] + 1\n",
    "cases=list(case_freq.items())\n",
    "print(cases)"
   ]
  },
  {
   "cell_type": "code",
   "execution_count": 244,
   "id": "b1e33a9f",
   "metadata": {},
   "outputs": [
    {
     "data": {
      "text/plain": [
       "tuple"
      ]
     },
     "execution_count": 244,
     "metadata": {},
     "output_type": "execute_result"
    }
   ],
   "source": [
    "type(cases[0])"
   ]
  },
  {
   "cell_type": "code",
   "execution_count": 245,
   "id": "d62e71b9",
   "metadata": {},
   "outputs": [],
   "source": [
    "cases.sort(key = lambda a: a[1]) "
   ]
  },
  {
   "cell_type": "code",
   "execution_count": 246,
   "id": "2d1cf3fd",
   "metadata": {},
   "outputs": [
    {
     "name": "stdout",
     "output_type": "stream",
     "text": [
      "[(3, 2), (1, 2), (10, 2), (7, 3), (11, 3), (6, 3), (4, 4), (9, 4), (8, 5)]\n"
     ]
    }
   ],
   "source": [
    "print(cases)"
   ]
  },
  {
   "cell_type": "code",
   "execution_count": 247,
   "id": "a50aedc3",
   "metadata": {},
   "outputs": [],
   "source": [
    "cases.reverse()"
   ]
  },
  {
   "cell_type": "code",
   "execution_count": 248,
   "id": "eb0e07b1",
   "metadata": {},
   "outputs": [
    {
     "name": "stdout",
     "output_type": "stream",
     "text": [
      "[(8, 5), (9, 4), (4, 4), (6, 3), (11, 3), (7, 3), (10, 2), (1, 2), (3, 2)]\n"
     ]
    }
   ],
   "source": [
    "print(cases)"
   ]
  },
  {
   "cell_type": "code",
   "execution_count": 252,
   "id": "d7ffffb0",
   "metadata": {},
   "outputs": [],
   "source": [
    "cases_list = []\n",
    "for i in range(0,min(3,len(cases))):\n",
    "    cases_list.append(cases[i][0])"
   ]
  },
  {
   "cell_type": "code",
   "execution_count": 253,
   "id": "65d826cb",
   "metadata": {},
   "outputs": [
    {
     "name": "stdout",
     "output_type": "stream",
     "text": [
      "[8, 9, 4]\n"
     ]
    }
   ],
   "source": [
    "print(cases_list)"
   ]
  },
  {
   "cell_type": "code",
   "execution_count": null,
   "id": "5dce0800",
   "metadata": {},
   "outputs": [],
   "source": []
  }
 ],
 "metadata": {
  "kernelspec": {
   "display_name": "Python 3",
   "language": "python",
   "name": "python3"
  },
  "language_info": {
   "codemirror_mode": {
    "name": "ipython",
    "version": 3
   },
   "file_extension": ".py",
   "mimetype": "text/x-python",
   "name": "python",
   "nbconvert_exporter": "python",
   "pygments_lexer": "ipython3",
   "version": "3.8.8"
  }
 },
 "nbformat": 4,
 "nbformat_minor": 5
}

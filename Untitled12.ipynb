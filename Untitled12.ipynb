{
 "cells": [
  {
   "cell_type": "code",
   "execution_count": 5,
   "id": "5c85b3d7",
   "metadata": {},
   "outputs": [
    {
     "name": "stdout",
     "output_type": "stream",
     "text": [
      "264\n",
      "['murder', 'robbery', 'assault', 'theft', 'burglary', 'arson', 'fraud', 'embezzlement', 'forgery', 'extortion', 'kidnapping', 'stalking', 'harassment', 'manslaughter', 'homicide', 'drug', 'conspiracy', 'terrorism', 'rape', 'sexual', 'domestic voilence', 'vandalism', 'child abuse', 'abduction', 'racketeering', 'money laundering', 'smuggling', 'public corruption', 'bribery', 'perjury', 'obstruction', 'blackmail', 'espionage', 'cybercrime', 'identity theft', 'assassination', 'human trafficking', 'prostitution', 'false', 'imprisonment', 'trespassing', 'explosives', 'guns', 'weapons', 'armed', 'hijacking', 'carjacking', 'equipment', 'counterfeiting', 'bootlegging', 'hacking', 'ponzi', 'insider trading', 'insolvency', 'kickback', 'bank mortgage', 'copyright infringement', 'securities', 'accounting', 'misappropriation', 'criminal', 'arrest', 'police brutality', 'testimony', 'civil rights', 'drunk and drive', 'hit and run', 'contract', 'tort', 'liability', 'damages', 'breach', 'negligence', 'misrepresentation', 'defamation', 'injunction', 'remedy', 'compensation', 'arbitration', 'mediation', 'settlement', 'discovery', 'evidence deposition', 'interrogatory', 'pleading', 'claims', 'limitations', 'frauds', 'fraudulent', 'conveyance', 'real_estate', 'construction', 'employment', 'intellectual property', 'trademark', 'patent infringement', 'trade secret', 'consumer protection', 'malpractice', 'personal injury', 'wrongful', 'death', 'discrimination', 'retaliation', 'whistleblower', 'non-disclosure', 'shareholder', 'business dissolution', 'bankruptcy', 'debt collection', 'foreclosure', 'immigration', 'probate', 'divorce', 'child custody', 'alimony', 'adoption', 'surrogacy', 'property', 'easement', 'zoning', 'hoa', 'landlord-tenant', 'eviction', 'internet', 'online defamation', 'cyberbullying', 'privacy violation', 'data breach', 'socialmedia fraud', 'maritime', 'aviation', 'insurance', 'reinsurance', 'recall\\xa0franchise', 'accomplice', 'acquittal', 'admissible', 'aggravated assault', 'alibi', 'appeal', 'arraignment', 'bail', 'capital punishment', 'civil liability', 'closing argument', 'co-defendant', 'contempt of court', 'conviction', 'corpus delicti', 'cross-examination', 'criminal intent', 'criminal law', 'cruel and unusual punishment', 'defendant', 'defense attorney', 'direct examination', 'dismissal', 'double jeopardy', 'due process', 'exclusionary rule', 'exculpatory evidence', 'extradition', 'felony', 'grand jury', 'guilty', 'habeas corpus', 'hearsay', 'hung jury', 'impeachment', 'inadmissible', 'indictment', 'infraction', 'innocence', 'insanity defense', 'interrogation', 'jail', 'judgment', 'jurisdiction', 'juvenile delinquency', 'larceny', 'lawyer', 'legal precedent', 'miranda rights', 'misdemeanor', 'mistrial', 'motion', 'nolo contendere', 'opening statement', 'plea bargain', 'probation', 'reasonable doubt', 'rebuttal', 'search warrant', 'slander', 'statute of limitations', 'subpoena', 'voir dire', 'wiretap', 'wrongful death', 'zero tolerance\\xa0policy', 'premeditated', 'intentional', 'accidental', 'victim', 'suspect', 'weapon', 'motive', 'murder weapon', 'strangulation', 'asphyxiation', 'stabbing', 'shooting', 'poisoning', 'blunt force trauma', 'forensic evidence', 'autopsy', 'cause of death', 'time of death', 'crime scene', 'blood spatter', 'witness', 'eyewitness', 'confession', 'premeditation', 'first-degree murder', 'second-degree murder', 'felony murder', 'attempted murder', 'self defense', 'justifiable homicide', 'mental illness', 'provocation', 'heat of passion', 'death penalty', 'defence', 'life imprisonment']\n",
      "237\n"
     ]
    }
   ],
   "source": [
    "common_word_list = ['murder', 'robbery', 'assault', 'theft', 'burglary', 'arson', 'fraud', 'embezzlement', 'forgery', 'extortion', 'kidnapping', 'stalking', 'harassment', 'manslaughter', 'homicide', 'drug', 'conspiracy', 'terrorism', 'rape', 'sexual', 'domestic voilence', 'vandalism', 'child abuse', 'abduction', 'racketeering', 'money laundering', 'smuggling', 'public corruption', 'bribery', 'perjury', 'obstruction',  'blackmail', 'espionage', 'cybercrime', 'identity theft', 'assassination', 'human trafficking', 'prostitution', 'false', 'imprisonment', 'trespassing', 'explosives', 'guns', 'weapons', 'armed', 'hijacking', 'carjacking', 'equipment', 'counterfeiting', 'bootlegging', 'hacking',  'ponzi', 'insider trading', 'insolvency',  'kickback', 'bank mortgage',  'copyright infringement',  'securities', 'accounting', 'misappropriation','criminal', 'arrest', 'police brutality', 'testimony', 'civil rights',  'drunk and drive', 'hit and run', 'Contract', 'Tort', 'Liability', 'Damages', 'Breach', 'Negligence', 'Fraud', 'Misrepresentation', 'Defamation', 'Injunction', 'Remedy', 'Compensation', 'Arbitration', 'Mediation', 'Settlement', 'Discovery', 'Evidence Deposition', 'Interrogatory', 'Pleading',  'claims', 'limitations', 'frauds', 'Fraudulent', 'conveyance', 'Real_estate', 'Construction', 'Employment', 'Intellectual property', 'Trademark', 'Patent infringement', 'Copyright infringement', 'Trade secret', 'theft', 'Consumer protection', 'malpractice', 'Personal injury', 'Wrongful', 'death',  'compensation', 'Discrimination', 'Harassment', 'Retaliation', 'Whistleblower', 'Non-disclosure',  'Shareholder', 'Business dissolution', 'Bankruptcy', 'Debt collection', 'Foreclosure', 'Immigration',  'Probate', 'Divorce', 'Child custody', 'Alimony', 'Adoption', 'Surrogacy', 'Property',  'Easement', 'Zoning', 'HOA', 'Landlord-tenant', 'Eviction', 'Identity theft', 'Internet', 'Online defamation', 'Cyberbullying', 'Privacy violation', 'Data breach', 'Socialmedia fraud', 'Maritime', 'Aviation', 'Insurance', 'Reinsurance', 'recall Franchise',  \"Accomplice\",    \"Acquittal\",    \"Admissible\",    \"Aggravated assault\",    \"Alibi\",    \"Appeal\",    \"Arraignment\",    \"Arson\",    \"Bail\",       \"Burglary\",    \"Capital punishment\",        \"Civil liability\",    \"Closing argument\",    \"Co-defendant\",    \"Conspiracy\",    \"Contempt of court\",    \"Conviction\",    \"Corpus delicti\",    \"Cross-examination\",    \"Criminal intent\",    \"Criminal law\",    \"Cruel and unusual punishment\",    \"Defendant\",    \"Defense attorney\",     \"Direct examination\",    \"Discovery\",    \"Dismissal\",    \"Double jeopardy\",    \"Due process\",    \"Embezzlement\",     \"Exclusionary rule\",    \"Exculpatory evidence\",    \"Extradition\",    \"Felony\",    \"Fraud\",    \"Grand jury\",    \"Guilty\",    \"Habeas corpus\",    \"Hearsay\",    \"Hung jury\",    \"Impeachment\",    \"Inadmissible\",    \"Indictment\",    \"Infraction\",    \"Injunction\",    \"Innocence\",    \"Insanity defense\",    \"Interrogation\",    \"Jail\",    \"Judgment\",    \"Jurisdiction\",    \"Juvenile delinquency\",    \"Larceny\",    \"Lawyer\",    \"Legal precedent\",    \"Manslaughter\",    \"Miranda rights\",    \"Misdemeanor\",    \"Mistrial\",    \"Motion\",    \"Murder\",    \"Nolo contendere\", \"Opening statement\",     \"Perjury\",    \"Plea bargain\",       \"Probation\",   \"Rape\",    \"Reasonable doubt\",    \"Rebuttal\",    \"Robbery\",    \"Search warrant\",  \"Slander\",    \"Statute of limitations\", \"Subpoena\", \"Voir dire\", \"Wiretap\", \"Wrongful death\", \"Zero tolerance policy\",  \"Homicide\",  \"Manslaughter\",  \"Assassination\",  \"Premeditated\",  \"Intentional\",  \"Accidental\",  \"Victim\",  \"Suspect\",  \"Weapon\",  \"Motive\",  \"Alibi\",  \"Murder weapon\",  \"Strangulation\",  \"Asphyxiation\",  \"Stabbing\",  \"Shooting\",  \"Poisoning\",  \"Blunt force trauma\",  \"Forensic evidence\",  \"Autopsy\",  \"Cause of death\",  \"Time of death\",  \"Crime scene\",  \"Blood spatter\",  \"Witness\",  \"Testimony\",  \"Eyewitness\",  \"Confession\",  \"Accomplice\",  \"Premeditation\",  \"First-degree murder\",  \"Second-degree murder\",  \"Felony murder\",  \"Attempted murder\",  \"Assault\",   \"Self defense\",  \"Justifiable homicide\",  \"Insanity defense\",  \"Mental illness\",  \"Provocation\",  \"Heat of passion\",  \"Death penalty\", \"defence\" , \"life imprisonment\", \"plea bargain\" ]#]          \n",
    "final_list = []\n",
    "duplicate = {}\n",
    "print(len(common_word_list))\n",
    "for i in common_word_list:\n",
    "    if duplicate.get(i.lower()) is None:\n",
    "        duplicate[i.lower()] = 1\n",
    "        final_list.append(i.lower())\n",
    "        \n",
    "print(final_list)    \n",
    "print(len(final_list))    "
   ]
  },
  {
   "cell_type": "code",
   "execution_count": null,
   "id": "22194845",
   "metadata": {},
   "outputs": [],
   "source": []
  }
 ],
 "metadata": {
  "kernelspec": {
   "display_name": "Python 3",
   "language": "python",
   "name": "python3"
  },
  "language_info": {
   "codemirror_mode": {
    "name": "ipython",
    "version": 3
   },
   "file_extension": ".py",
   "mimetype": "text/x-python",
   "name": "python",
   "nbconvert_exporter": "python",
   "pygments_lexer": "ipython3",
   "version": "3.8.8"
  }
 },
 "nbformat": 4,
 "nbformat_minor": 5
}
